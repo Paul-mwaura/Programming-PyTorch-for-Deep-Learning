{
  "nbformat": 4,
  "nbformat_minor": 0,
  "metadata": {
    "accelerator": "GPU",
    "colab": {
      "name": "YOLOR Object Detection - Images & Video_Base",
      "provenance": [],
      "collapsed_sections": [],
      "include_colab_link": true
    },
    "kernelspec": {
      "display_name": "Python 3",
      "name": "python3"
    },
    "language_info": {
      "name": "python"
    }
  },
  "cells": [
    {
      "cell_type": "markdown",
      "metadata": {
        "id": "view-in-github",
        "colab_type": "text"
      },
      "source": [
        "<a href=\"https://colab.research.google.com/github/Paul-mwaura/Programming-PyTorch-for-Deep-Learning/blob/main/YOLOR_Object_Detection_Images_%26_Video_Base.ipynb\" target=\"_parent\"><img src=\"https://colab.research.google.com/assets/colab-badge.svg\" alt=\"Open In Colab\"/></a>"
      ]
    },
    {
      "cell_type": "markdown",
      "metadata": {
        "id": "fleSrK7UZsS2"
      },
      "source": [
        "# **Run YOLOR on Google Colab - Images & Video : Base Template**\n",
        "\n",
        "YoloR just got released, and it is better and faster than YoloV4, Scaled YoloV4, YoloV5 and PP-YOLOv2. In this YOLOR Object Detection Tutorial I am going to show you how to get YOLOR which stands for You Only Learn One Representation, working on Collab, on Images and Video. All right here and right now. No time to waste guys, lets get started!!\n",
        "\n",
        "Visit the original repo [https://github.com/WongKinYiu/yolor](https://github.com/WongKinYiu/yolor). \n",
        "\n",
        "# **Want to Become a YOLOR Expert?**\n",
        "💻Get Started with YOLOR [Get Started](https://augmentedstartups.info/YOLOR-Get-Started). <br>\n",
        "⭐ Download the Code at the [AI Vision Store](https://augmentedstartups.info/VisionStore)<br>\n",
        "☕ Buy me [Chai/Coffee](https://bit.ly/BuymeaCoffeeAS)\n",
        "\n",
        "# **Tutorial**\n",
        "\n",
        "We will be implementing the following steps:\n",
        "\n",
        "1.   Setting up Dependencies\n",
        "2.   Run on Image\n",
        "3.   Run on Video\n",
        "\n",
        "\n",
        "# **About Me**\n",
        "\n",
        "[Augmented Startups](https://www.augmentedstartups.com) provides tutorials in AI Computer Vision and Augmented Reality. With over **88K subscribers** on our channel, we teach state-of-art models and build apps and projects that solve real-world problems. \n",
        "\n",
        "\n",
        "![picture](https://drive.google.com/uc?export=view&id=1cTMSbjs6rCAx_tRnJGZz_niZgpBuiDT0)"
      ]
    },
    {
      "cell_type": "markdown",
      "metadata": {
        "id": "zK-fRxgoqaJF"
      },
      "source": [
        "# **Tutorial**\n",
        "\n",
        "Watch the Tutorial [HERE](https://youtube.com/playlist?list=PL_Nji0JOuXg3T0qOj-quorbrcqrnkahqm) "
      ]
    },
    {
      "cell_type": "markdown",
      "metadata": {
        "id": "8wnMlYy0pt00"
      },
      "source": [
        "# **Setting up Dependencies**"
      ]
    },
    {
      "cell_type": "code",
      "metadata": {
        "id": "PuOPVrR-s2IS",
        "outputId": "53b96487-ab4b-4328-d3f6-f97338906ff4",
        "colab": {
          "base_uri": "https://localhost:8080/"
        }
      },
      "source": [
        "from google.colab import drive\n",
        "drive.mount('/content/drive')"
      ],
      "execution_count": 1,
      "outputs": [
        {
          "output_type": "stream",
          "name": "stdout",
          "text": [
            "Mounted at /content/drive\n"
          ]
        }
      ]
    },
    {
      "cell_type": "code",
      "metadata": {
        "id": "TFqn9cUntQVq",
        "outputId": "4006d39b-e82d-43eb-816e-733424424f98",
        "colab": {
          "base_uri": "https://localhost:8080/"
        }
      },
      "source": [
        "!git clone https://github.com/augmentedstartups/yolor\n",
        "%cd yolor"
      ],
      "execution_count": 2,
      "outputs": [
        {
          "output_type": "stream",
          "name": "stdout",
          "text": [
            "Cloning into 'yolor'...\n",
            "remote: Enumerating objects: 375, done.\u001b[K\n",
            "remote: Counting objects: 100% (165/165), done.\u001b[K\n",
            "remote: Compressing objects: 100% (113/113), done.\u001b[K\n",
            "remote: Total 375 (delta 104), reused 62 (delta 51), pack-reused 210\u001b[K\n",
            "Receiving objects: 100% (375/375), 2.97 MiB | 15.04 MiB/s, done.\n",
            "Resolving deltas: 100% (165/165), done.\n",
            "/content/yolor\n"
          ]
        }
      ]
    },
    {
      "cell_type": "code",
      "metadata": {
        "id": "maOA7xnOSalP",
        "outputId": "a1e19f06-49d0-4230-a644-22c98ac78789",
        "colab": {
          "base_uri": "https://localhost:8080/"
        }
      },
      "source": [
        "# pip install required packages\n",
        "!pip install -qr requirements.txt"
      ],
      "execution_count": 3,
      "outputs": [
        {
          "output_type": "stream",
          "name": "stdout",
          "text": [
            "\u001b[K     |████████████████████████████████| 596 kB 5.3 MB/s \n",
            "\u001b[K     |████████████████████████████████| 776.7 MB 4.8 kB/s \n",
            "\u001b[K     |████████████████████████████████| 12.7 MB 98 kB/s \n",
            "\u001b[K     |████████████████████████████████| 1.5 MB 45.9 MB/s \n",
            "\u001b[?25h  Building wheel for pycocotools (setup.py) ... \u001b[?25l\u001b[?25hdone\n",
            "\u001b[31mERROR: pip's dependency resolver does not currently take into account all the packages that are installed. This behaviour is the source of the following dependency conflicts.\n",
            "torchtext 0.10.0 requires torch==1.9.0, but you have torch 1.7.0 which is incompatible.\u001b[0m\n"
          ]
        }
      ]
    },
    {
      "cell_type": "code",
      "metadata": {
        "id": "EraO3FYdw5n_"
      },
      "source": [
        "%%capture\n",
        "# Install Mish CUDA\n",
        "!git clone https://github.com/JunnYu/mish-cuda\n",
        "%cd mish-cuda\n",
        "!python setup.py build install"
      ],
      "execution_count": 4,
      "outputs": []
    },
    {
      "cell_type": "code",
      "metadata": {
        "id": "86EC6nYwwR2q",
        "outputId": "9c1907e7-9df3-4556-fa1d-41383f6538e4",
        "colab": {
          "base_uri": "https://localhost:8080/"
        }
      },
      "source": [
        "%cd ..\n",
        "!pwd"
      ],
      "execution_count": 5,
      "outputs": [
        {
          "output_type": "stream",
          "name": "stdout",
          "text": [
            "/content/yolor\n",
            "/content/yolor\n"
          ]
        }
      ]
    },
    {
      "cell_type": "code",
      "metadata": {
        "id": "AgaQPt7HUMzs",
        "outputId": "421666c5-92b7-4c94-d9e3-d72289097644",
        "colab": {
          "base_uri": "https://localhost:8080/"
        }
      },
      "source": [
        "# Install PyTorch Wavelets\n",
        "!git clone https://github.com/fbcotter/pytorch_wavelets\n",
        "%cd pytorch_wavelets\n",
        "!pip install ."
      ],
      "execution_count": 6,
      "outputs": [
        {
          "output_type": "stream",
          "name": "stdout",
          "text": [
            "Cloning into 'pytorch_wavelets'...\n",
            "remote: Enumerating objects: 972, done.\u001b[K\n",
            "remote: Counting objects: 100% (136/136), done.\u001b[K\n",
            "remote: Compressing objects: 100% (91/91), done.\u001b[K\n",
            "remote: Total 972 (delta 75), reused 89 (delta 45), pack-reused 836\u001b[K\n",
            "Receiving objects: 100% (972/972), 6.80 MiB | 23.21 MiB/s, done.\n",
            "Resolving deltas: 100% (659/659), done.\n",
            "/content/yolor/pytorch_wavelets\n",
            "Processing /content/yolor/pytorch_wavelets\n",
            "\u001b[33m  DEPRECATION: A future pip version will change local packages to be built in-place without first copying to a temporary directory. We recommend you use --use-feature=in-tree-build to test your packages with this new behavior before it becomes the default.\n",
            "   pip 21.3 will remove support for this functionality. You can find discussion regarding this at https://github.com/pypa/pip/issues/7555.\u001b[0m\n",
            "Requirement already satisfied: numpy in /usr/local/lib/python3.7/dist-packages (from pytorch-wavelets==1.3.0) (1.19.5)\n",
            "Requirement already satisfied: six in /usr/local/lib/python3.7/dist-packages (from pytorch-wavelets==1.3.0) (1.15.0)\n",
            "Requirement already satisfied: torch in /usr/local/lib/python3.7/dist-packages (from pytorch-wavelets==1.3.0) (1.7.0)\n",
            "Requirement already satisfied: typing-extensions in /usr/local/lib/python3.7/dist-packages (from torch->pytorch-wavelets==1.3.0) (3.10.0.2)\n",
            "Requirement already satisfied: future in /usr/local/lib/python3.7/dist-packages (from torch->pytorch-wavelets==1.3.0) (0.16.0)\n",
            "Requirement already satisfied: dataclasses in /usr/local/lib/python3.7/dist-packages (from torch->pytorch-wavelets==1.3.0) (0.6)\n",
            "Building wheels for collected packages: pytorch-wavelets\n",
            "  Building wheel for pytorch-wavelets (setup.py) ... \u001b[?25l\u001b[?25hdone\n",
            "  Created wheel for pytorch-wavelets: filename=pytorch_wavelets-1.3.0-py3-none-any.whl size=54869 sha256=4bb8acd0c78e9675802f7633f973b9f8f8fdaa76e148a122854f605b6072865d\n",
            "  Stored in directory: /tmp/pip-ephem-wheel-cache-108kxpp1/wheels/68/d6/0a/629cb6c68e1577155ab73a47758996d9ab26f15ba622561e28\n",
            "Successfully built pytorch-wavelets\n",
            "Installing collected packages: pytorch-wavelets\n",
            "Successfully installed pytorch-wavelets-1.3.0\n"
          ]
        }
      ]
    },
    {
      "cell_type": "code",
      "metadata": {
        "id": "8A3Z9jBpv-SC",
        "outputId": "3367017d-bd77-4a60-9249-1601e1b42c5b",
        "colab": {
          "base_uri": "https://localhost:8080/"
        }
      },
      "source": [
        "%cd .."
      ],
      "execution_count": 7,
      "outputs": [
        {
          "output_type": "stream",
          "name": "stdout",
          "text": [
            "/content/yolor\n"
          ]
        }
      ]
    },
    {
      "cell_type": "code",
      "metadata": {
        "id": "fzSrUarMXdrR",
        "outputId": "610ae7b3-fd40-4a27-b397-eea2e4f5f73a",
        "colab": {
          "base_uri": "https://localhost:8080/"
        }
      },
      "source": [
        "!bash scripts/get_pretrain.sh"
      ],
      "execution_count": 8,
      "outputs": [
        {
          "output_type": "stream",
          "name": "stdout",
          "text": [
            "  % Total    % Received % Xferd  Average Speed   Time    Time     Time  Current\n",
            "                                 Dload  Upload   Total   Spent    Left  Speed\n",
            "100   408    0   408    0     0   2853      0 --:--:-- --:--:-- --:--:--  2833\n",
            "  0     0    0     0    0     0      0      0 --:--:-- --:--:-- --:--:--     0\n",
            "  0     0    0     0    0     0      0      0 --:--:-- --:--:-- --:--:--     0\n",
            "100  142M  100  142M    0     0   117M      0  0:00:01  0:00:01 --:--:--  160M\n",
            "  % Total    % Received % Xferd  Average Speed   Time    Time     Time  Current\n",
            "                                 Dload  Upload   Total   Spent    Left  Speed\n",
            "100   408    0   408    0     0   3022      0 --:--:-- --:--:-- --:--:--  3022\n",
            "  0     0    0     0    0     0      0      0 --:--:-- --:--:-- --:--:--     0\n",
            "  0     0    0     0    0     0      0      0 --:--:-- --:--:-- --:--:--     0\n",
            "100  305M  100  305M    0     0   156M      0  0:00:01  0:00:01 --:--:--  189M\n"
          ]
        }
      ]
    },
    {
      "cell_type": "markdown",
      "metadata": {
        "id": "AMTYC92aws6Y"
      },
      "source": [
        "\n",
        "\n",
        "---\n",
        "\n"
      ]
    },
    {
      "cell_type": "markdown",
      "metadata": {
        "id": "jme2PTFOrNXh"
      },
      "source": [
        "# **Runing on Image**"
      ]
    },
    {
      "cell_type": "code",
      "metadata": {
        "id": "A53ljj94YHHh",
        "outputId": "76d636c7-4149-4fa0-97cf-be43b5e8c6fa",
        "colab": {
          "base_uri": "https://localhost:8080/"
        }
      },
      "source": [
        "!python detect.py --source inference/images/horses.jpg --cfg cfg/yolor_p6.cfg --weights yolor_p6.pt --conf 0.25 --img-size 1280 --device 0 --output /content/drive/MyDrive/yolov4/yolo_output_image"
      ],
      "execution_count": 9,
      "outputs": [
        {
          "output_type": "stream",
          "name": "stdout",
          "text": [
            "Namespace(agnostic_nms=False, augment=False, cfg='cfg/yolor_p6.cfg', classes=None, conf_thres=0.25, device='0', img_size=1280, iou_thres=0.5, names='data/coco.names', output='/content/drive/MyDrive/yolov4/yolo_output_image', save_txt=False, source='inference/images/horses.jpg', update=False, view_img=False, weights=['yolor_p6.pt'])\n",
            "image 1/1 /content/yolor/inference/images/horses.jpg: 896x1280 5 horses, Done. (0.247s)\n",
            "Results saved to /content/drive/MyDrive/yolov4/yolo_output_image\n",
            "Done. (0.701s)\n"
          ]
        }
      ]
    },
    {
      "cell_type": "code",
      "metadata": {
        "id": "IYHr1kxE0fL8",
        "outputId": "49d15b93-59c2-4510-b2c3-f7869583e948",
        "colab": {
          "base_uri": "https://localhost:8080/"
        }
      },
      "source": [
        "!python detect.py --source /content/giraffe.jpg --cfg cfg/yolor_p6.cfg --weights yolor_p6.pt --conf 0.25 --img-size 1280 --device 0 --output /content/drive/MyDrive/yolov4/yolo_output_image"
      ],
      "execution_count": 15,
      "outputs": [
        {
          "output_type": "stream",
          "name": "stdout",
          "text": [
            "Namespace(agnostic_nms=False, augment=False, cfg='cfg/yolor_p6.cfg', classes=None, conf_thres=0.25, device='0', img_size=1280, iou_thres=0.5, names='data/coco.names', output='/content/drive/MyDrive/yolov4/yolo_output_image', save_txt=False, source='/content/giraffe.jpg', update=False, view_img=False, weights=['yolor_p6.pt'])\n",
            "image 1/1 /content/giraffe.jpg: 768x1280 2 giraffes, Done. (0.210s)\n",
            "Results saved to /content/drive/MyDrive/yolov4/yolo_output_image\n",
            "Done. (0.580s)\n"
          ]
        }
      ]
    },
    {
      "cell_type": "code",
      "metadata": {
        "id": "-Hc75hgCY7Hp",
        "outputId": "9807818b-101e-44fe-ae03-7f297ec4fb64",
        "colab": {
          "base_uri": "https://localhost:8080/",
          "height": 220
        }
      },
      "source": [
        "# display inference on ALL test images\n",
        "# this looks much better with longer training above\n",
        "import glob\n",
        "from IPython.display import Image, display\n",
        "\n",
        "for imageName in glob.glob('/content/drive/MyDrive/yolov4/yolo_output_image/*.jpg'):\n",
        "  display(Image(filename=imageName))\n",
        "  print(\"\\n\")"
      ],
      "execution_count": 16,
      "outputs": [
        {
          "output_type": "display_data",
          "data": {
            "image/jpeg": "[encoded data removed]",
            "text/plain": [
              "<IPython.core.display.Image object>"
            ]
          },
          "metadata": {}
        },
        {
          "output_type": "stream",
          "name": "stdout",
          "text": [
            "\n",
            "\n"
          ]
        }
      ]
    },
    {
      "cell_type": "markdown",
      "metadata": {
        "id": "Qbowy9ZUwpqC"
      },
      "source": [
        "\n",
        "\n",
        "---\n",
        "\n"
      ]
    },
    {
      "cell_type": "markdown",
      "metadata": {
        "id": "4wZKosSorQCS"
      },
      "source": [
        "# **Running on Video**"
      ]
    },
    {
      "cell_type": "markdown",
      "metadata": {
        "id": "OdHqw5CVpGDU"
      },
      "source": [
        "## **Upload Video**\n",
        "\n",
        "**[USER INPUT] You can either upload a video using the files upload dialog or upload it to google drive**"
      ]
    },
    {
      "cell_type": "code",
      "metadata": {
        "id": "3v1kR_0DgZuE",
        "outputId": "25d89471-b2ef-4464-84d7-c6a03aaee57e",
        "colab": {
          "resources": {
            "http://localhost:8080/nbextensions/google.colab/files.js": {
              "data": "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",
              "ok": true,
              "headers": [
                [
                  "content-type",
                  "application/javascript"
                ]
              ],
              "status": 200,
              "status_text": ""
            }
          },
          "base_uri": "https://localhost:8080/",
          "height": 72
        }
      },
      "source": [
        "from google.colab import files\n",
        "uploaded = files.upload()"
      ],
      "execution_count": 17,
      "outputs": [
        {
          "output_type": "display_data",
          "data": {
            "text/html": [
              "\n",
              "     <input type=\"file\" id=\"files-04390a3f-9670-41cf-b662-cb6db614d996\" name=\"files[]\" multiple disabled\n",
              "        style=\"border:none\" />\n",
              "     <output id=\"result-04390a3f-9670-41cf-b662-cb6db614d996\">\n",
              "      Upload widget is only available when the cell has been executed in the\n",
              "      current browser session. Please rerun this cell to enable.\n",
              "      </output>\n",
              "      <script src=\"/nbextensions/google.colab/files.js\"></script> "
            ],
            "text/plain": [
              "<IPython.core.display.HTML object>"
            ]
          },
          "metadata": {}
        },
        {
          "output_type": "stream",
          "name": "stdout",
          "text": [
            "Saving busy_city.mp4 to busy_city.mp4\n"
          ]
        }
      ]
    },
    {
      "cell_type": "markdown",
      "metadata": {
        "id": "LnRtUCXlokTS"
      },
      "source": [
        "**[USER INPUT] Insert File Name into Source**"
      ]
    },
    {
      "cell_type": "code",
      "metadata": {
        "id": "dk8CHq2Z7PBf",
        "outputId": "381eb104-b12e-4f4a-8371-a1f2cdfbdcee",
        "colab": {
          "base_uri": "https://localhost:8080/"
        }
      },
      "source": [
        "!python detect.py --source busy_city.mp4 --cfg cfg/yolor_p6.cfg --weights yolor_p6.pt --conf 0.25 --img-size 1280 --device 0 --output /content/drive/MyDrive/yolov4/yolo_output_video"
      ],
      "execution_count": 19,
      "outputs": [
        {
          "output_type": "stream",
          "name": "stdout",
          "text": [
            "Namespace(agnostic_nms=False, augment=False, cfg='cfg/yolor_p6.cfg', classes=None, conf_thres=0.25, device='0', img_size=1280, iou_thres=0.5, names='data/coco.names', output='/content/drive/MyDrive/yolov4/yolo_output_video', save_txt=False, source='busy_city.mp4', update=False, view_img=False, weights=['yolor_p6.pt'])\n",
            "video 1/1 (1/301) /content/yolor/busy_city.mp4: 768x1280 10 persons, 7 cars, 7 motorcycles, 1 buss, 1 trucks, 2 traffic lights, 1 backpacks, 1 umbrellas, 4 chairs, Done. (0.216s)\n",
            "video 1/1 (2/301) /content/yolor/busy_city.mp4: 768x1280 8 persons, 1 bicycles, 9 cars, 6 motorcycles, 1 buss, 1 trucks, 3 traffic lights, 2 backpacks, 2 umbrellas, 3 chairs, Done. (0.199s)\n",
            "video 1/1 (3/301) /content/yolor/busy_city.mp4: 768x1280 10 persons, 1 bicycles, 10 cars, 6 motorcycles, 1 buss, 2 trucks, 3 traffic lights, 2 backpacks, 2 umbrellas, 3 chairs, Done. (0.184s)\n",
            "video 1/1 (4/301) /content/yolor/busy_city.mp4: 768x1280 8 persons, 1 bicycles, 11 cars, 6 motorcycles, 1 buss, 1 trucks, 3 traffic lights, 1 backpacks, 2 umbrellas, 4 chairs, Done. (0.180s)\n",
            "video 1/1 (5/301) /content/yolor/busy_city.mp4: 768x1280 7 persons, 1 bicycles, 10 cars, 6 motorcycles, 1 buss, 1 trucks, 2 traffic lights, 2 backpacks, 2 umbrellas, 3 chairs, Done. (0.179s)\n",
            "video 1/1 (6/301) /content/yolor/busy_city.mp4: 768x1280 10 persons, 1 bicycles, 9 cars, 6 motorcycles, 1 buss, 2 trucks, 3 traffic lights, 2 backpacks, 2 umbrellas, 3 chairs, Done. (0.179s)\n",
            "video 1/1 (7/301) /content/yolor/busy_city.mp4: 768x1280 10 persons, 1 bicycles, 11 cars, 6 motorcycles, 1 buss, 2 trucks, 2 traffic lights, 1 backpacks, 2 umbrellas, 3 chairs, Done. (0.178s)\n",
            "video 1/1 (8/301) /content/yolor/busy_city.mp4: 768x1280 8 persons, 10 cars, 6 motorcycles, 1 buss, 1 trucks, 3 traffic lights, 1 backpacks, 2 umbrellas, 4 chairs, Done. (0.179s)\n",
            "video 1/1 (9/301) /content/yolor/busy_city.mp4: 768x1280 10 persons, 11 cars, 6 motorcycles, 1 buss, 1 trucks, 3 traffic lights, 1 backpacks, 2 umbrellas, 4 chairs, Done. (0.179s)\n",
            "video 1/1 (10/301) /content/yolor/busy_city.mp4: 768x1280 10 persons, 9 cars, 6 motorcycles, 1 buss, 1 trucks, 3 traffic lights, 1 backpacks, 2 umbrellas, 4 chairs, Done. (0.178s)\n",
            "video 1/1 (11/301) /content/yolor/busy_city.mp4: 768x1280 9 persons, 9 cars, 6 motorcycles, 1 buss, 1 trucks, 1 traffic lights, 1 backpacks, 2 umbrellas, 4 chairs, Done. (0.178s)\n",
            "video 1/1 (12/301) /content/yolor/busy_city.mp4: 768x1280 9 persons, 11 cars, 5 motorcycles, 1 buss, 1 trucks, 3 traffic lights, 1 backpacks, 2 umbrellas, 4 chairs, Done. (0.181s)\n",
            "video 1/1 (13/301) /content/yolor/busy_city.mp4: 768x1280 10 persons, 1 bicycles, 9 cars, 5 motorcycles, 1 buss, 1 trucks, 2 traffic lights, 1 backpacks, 2 umbrellas, 4 chairs, Done. (0.178s)\n",
            "video 1/1 (14/301) /content/yolor/busy_city.mp4: 768x1280 8 persons, 1 bicycles, 10 cars, 5 motorcycles, 1 buss, 1 trucks, 2 traffic lights, 1 backpacks, 2 umbrellas, 3 chairs, Done. (0.178s)\n",
            "video 1/1 (15/301) /content/yolor/busy_city.mp4: 768x1280 9 persons, 1 bicycles, 10 cars, 6 motorcycles, 1 buss, 1 trucks, 3 traffic lights, 1 backpacks, 2 umbrellas, 2 chairs, Done. (0.178s)\n",
            "video 1/1 (16/301) /content/yolor/busy_city.mp4: 768x1280 9 persons, 10 cars, 6 motorcycles, 1 buss, 1 trucks, 3 traffic lights, 1 backpacks, 1 umbrellas, 2 chairs, Done. (0.180s)\n",
            "video 1/1 (17/301) /content/yolor/busy_city.mp4: 768x1280 9 persons, 1 bicycles, 9 cars, 7 motorcycles, 1 buss, 1 trucks, 2 traffic lights, 1 backpacks, 1 umbrellas, 2 chairs, Done. (0.178s)\n",
            "video 1/1 (18/301) /content/yolor/busy_city.mp4: 768x1280 9 persons, 9 cars, 7 motorcycles, 1 buss, 1 trucks, 3 traffic lights, 1 backpacks, 2 umbrellas, 2 chairs, Done. (0.179s)\n",
            "video 1/1 (19/301) /content/yolor/busy_city.mp4: 768x1280 9 persons, 10 cars, 7 motorcycles, 1 buss, 1 trucks, 4 traffic lights, 1 backpacks, 1 umbrellas, 2 chairs, Done. (0.178s)\n",
            "video 1/1 (20/301) /content/yolor/busy_city.mp4: 768x1280 9 persons, 10 cars, 7 motorcycles, 1 buss, 3 traffic lights, 2 backpacks, 1 umbrellas, 2 chairs, Done. (0.179s)\n",
            "video 1/1 (21/301) /content/yolor/busy_city.mp4: 768x1280 9 persons, 1 bicycles, 8 cars, 7 motorcycles, 1 buss, 2 traffic lights, 2 backpacks, 1 umbrellas, 2 chairs, Done. (0.178s)\n",
            "video 1/1 (22/301) /content/yolor/busy_city.mp4: 768x1280 10 persons, 1 bicycles, 9 cars, 8 motorcycles, 1 buss, 3 traffic lights, 1 backpacks, 1 umbrellas, 2 chairs, Done. (0.180s)\n",
            "video 1/1 (23/301) /content/yolor/busy_city.mp4: 768x1280 11 persons, 1 bicycles, 9 cars, 7 motorcycles, 1 buss, 2 traffic lights, 1 backpacks, 1 umbrellas, 2 chairs, Done. (0.178s)\n",
            "video 1/1 (24/301) /content/yolor/busy_city.mp4: 768x1280 10 persons, 1 bicycles, 9 cars, 7 motorcycles, 1 buss, 1 trucks, 3 traffic lights, 1 backpacks, 1 umbrellas, 2 chairs, Done. (0.178s)\n",
            "video 1/1 (25/301) /content/yolor/busy_city.mp4: 768x1280 11 persons, 9 cars, 9 motorcycles, 1 buss, 3 traffic lights, 1 backpacks, 1 umbrellas, 2 chairs, Done. (0.179s)\n",
            "video 1/1 (26/301) /content/yolor/busy_city.mp4: 768x1280 9 persons, 9 cars, 8 motorcycles, 1 buss, 3 traffic lights, 1 backpacks, 1 umbrellas, 2 chairs, Done. (0.178s)\n",
            "video 1/1 (27/301) /content/yolor/busy_city.mp4: 768x1280 10 persons, 9 cars, 8 motorcycles, 1 buss, 1 trucks, 2 traffic lights, 1 backpacks, 1 umbrellas, 2 chairs, Done. (0.179s)\n",
            "video 1/1 (28/301) /content/yolor/busy_city.mp4: 768x1280 10 persons, 10 cars, 8 motorcycles, 1 buss, 1 trucks, 3 traffic lights, 1 backpacks, 1 umbrellas, 2 chairs, Done. (0.178s)\n",
            "video 1/1 (29/301) /content/yolor/busy_city.mp4: 768x1280 10 persons, 10 cars, 8 motorcycles, 1 buss, 1 trucks, 2 traffic lights, 2 backpacks, 1 umbrellas, 1 chairs, Done. (0.179s)\n",
            "video 1/1 (30/301) /content/yolor/busy_city.mp4: 768x1280 9 persons, 1 bicycles, 9 cars, 8 motorcycles, 1 buss, 1 trucks, 3 traffic lights, 1 backpacks, 1 umbrellas, 1 chairs, Done. (0.179s)\n",
            "video 1/1 (31/301) /content/yolor/busy_city.mp4: 768x1280 7 persons, 1 bicycles, 10 cars, 7 motorcycles, 1 buss, 2 traffic lights, 2 backpacks, 1 umbrellas, Done. (0.179s)\n",
            "video 1/1 (32/301) /content/yolor/busy_city.mp4: 768x1280 7 persons, 1 bicycles, 12 cars, 8 motorcycles, 1 buss, 3 traffic lights, 2 backpacks, 1 umbrellas, Done. (0.180s)\n",
            "video 1/1 (33/301) /content/yolor/busy_city.mp4: 768x1280 7 persons, 12 cars, 8 motorcycles, 1 buss, 2 traffic lights, 1 backpacks, 1 umbrellas, Done. (0.178s)\n",
            "video 1/1 (34/301) /content/yolor/busy_city.mp4: 768x1280 8 persons, 13 cars, 8 motorcycles, 1 buss, 4 traffic lights, 1 backpacks, 1 umbrellas, Done. (0.178s)\n",
            "video 1/1 (35/301) /content/yolor/busy_city.mp4: 768x1280 7 persons, 12 cars, 8 motorcycles, 1 buss, 4 traffic lights, 1 backpacks, 1 umbrellas, Done. (0.179s)\n",
            "video 1/1 (36/301) /content/yolor/busy_city.mp4: 768x1280 7 persons, 1 bicycles, 11 cars, 9 motorcycles, 1 buss, 4 traffic lights, 1 backpacks, 1 umbrellas, Done. (0.179s)\n",
            "video 1/1 (37/301) /content/yolor/busy_city.mp4: 768x1280 7 persons, 1 bicycles, 11 cars, 9 motorcycles, 1 buss, 3 traffic lights, 1 backpacks, 1 umbrellas, Done. (0.179s)\n",
            "video 1/1 (38/301) /content/yolor/busy_city.mp4: 768x1280 8 persons, 1 bicycles, 12 cars, 10 motorcycles, 1 buss, 3 traffic lights, 1 backpacks, 1 umbrellas, Done. (0.178s)\n",
            "video 1/1 (39/301) /content/yolor/busy_city.mp4: 768x1280 8 persons, 12 cars, 9 motorcycles, 1 buss, 1 trucks, 3 traffic lights, 1 backpacks, 1 umbrellas, Done. (0.179s)\n",
            "video 1/1 (40/301) /content/yolor/busy_city.mp4: 768x1280 7 persons, 12 cars, 8 motorcycles, 1 buss, 1 trucks, 3 traffic lights, 1 backpacks, 1 umbrellas, Done. (0.178s)\n",
            "video 1/1 (41/301) /content/yolor/busy_city.mp4: 768x1280 7 persons, 12 cars, 9 motorcycles, 1 buss, 1 trucks, 3 traffic lights, 1 backpacks, 1 umbrellas, Done. (0.178s)\n",
            "video 1/1 (42/301) /content/yolor/busy_city.mp4: 768x1280 6 persons, 1 bicycles, 10 cars, 8 motorcycles, 1 buss, 1 trucks, 3 traffic lights, 1 backpacks, 1 umbrellas, Done. (0.178s)\n",
            "video 1/1 (43/301) /content/yolor/busy_city.mp4: 768x1280 9 persons, 10 cars, 8 motorcycles, 1 buss, 1 trucks, 3 traffic lights, 1 backpacks, 1 umbrellas, Done. (0.178s)\n",
            "video 1/1 (44/301) /content/yolor/busy_city.mp4: 768x1280 7 persons, 10 cars, 8 motorcycles, 1 buss, 1 trucks, 3 traffic lights, 1 backpacks, 1 umbrellas, Done. (0.179s)\n",
            "video 1/1 (45/301) /content/yolor/busy_city.mp4: 768x1280 7 persons, 9 cars, 8 motorcycles, 1 buss, 3 traffic lights, 1 backpacks, 1 umbrellas, Done. (0.180s)\n",
            "video 1/1 (46/301) /content/yolor/busy_city.mp4: 768x1280 7 persons, 10 cars, 8 motorcycles, 1 buss, 3 traffic lights, 1 backpacks, 1 umbrellas, Done. (0.179s)\n",
            "video 1/1 (47/301) /content/yolor/busy_city.mp4: 768x1280 7 persons, 12 cars, 10 motorcycles, 1 buss, 3 traffic lights, 1 backpacks, 1 umbrellas, Done. (0.179s)\n",
            "video 1/1 (48/301) /content/yolor/busy_city.mp4: 768x1280 6 persons, 11 cars, 9 motorcycles, 1 buss, 3 traffic lights, 1 umbrellas, Done. (0.179s)\n",
            "video 1/1 (49/301) /content/yolor/busy_city.mp4: 768x1280 6 persons, 11 cars, 9 motorcycles, 1 buss, 3 traffic lights, Done. (0.179s)\n",
            "video 1/1 (50/301) /content/yolor/busy_city.mp4: 768x1280 5 persons, 1 bicycles, 10 cars, 8 motorcycles, 1 buss, 3 traffic lights, 1 umbrellas, Done. (0.180s)\n",
            "video 1/1 (51/301) /content/yolor/busy_city.mp4: 768x1280 7 persons, 1 bicycles, 9 cars, 8 motorcycles, 1 buss, 3 traffic lights, 1 backpacks, Done. (0.179s)\n",
            "video 1/1 (52/301) /content/yolor/busy_city.mp4: 768x1280 8 persons, 1 bicycles, 10 cars, 9 motorcycles, 1 buss, 1 trucks, 3 traffic lights, 1 umbrellas, Done. (0.178s)\n",
            "video 1/1 (53/301) /content/yolor/busy_city.mp4: 768x1280 8 persons, 1 bicycles, 12 cars, 9 motorcycles, 1 buss, 3 traffic lights, 1 umbrellas, Done. (0.179s)\n",
            "video 1/1 (54/301) /content/yolor/busy_city.mp4: 768x1280 8 persons, 1 bicycles, 10 cars, 9 motorcycles, 1 buss, 3 traffic lights, 1 umbrellas, Done. (0.179s)\n",
            "video 1/1 (55/301) /content/yolor/busy_city.mp4: 768x1280 8 persons, 1 bicycles, 11 cars, 9 motorcycles, 1 buss, 3 traffic lights, 1 umbrellas, 1 chairs, Done. (0.179s)\n",
            "video 1/1 (56/301) /content/yolor/busy_city.mp4: 768x1280 10 persons, 1 bicycles, 10 cars, 9 motorcycles, 1 buss, 3 traffic lights, 1 umbrellas, 1 chairs, Done. (0.178s)\n",
            "video 1/1 (57/301) /content/yolor/busy_city.mp4: 768x1280 11 persons, 1 bicycles, 9 cars, 8 motorcycles, 1 buss, 3 traffic lights, 1 umbrellas, 1 chairs, Done. (0.179s)\n",
            "video 1/1 (58/301) /content/yolor/busy_city.mp4: 768x1280 11 persons, 1 bicycles, 10 cars, 9 motorcycles, 1 buss, 3 traffic lights, 1 umbrellas, Done. (0.179s)\n",
            "video 1/1 (59/301) /content/yolor/busy_city.mp4: 768x1280 9 persons, 12 cars, 7 motorcycles, 1 buss, 2 traffic lights, 1 umbrellas, Done. (0.178s)\n",
            "video 1/1 (60/301) /content/yolor/busy_city.mp4: 768x1280 11 persons, 1 bicycles, 10 cars, 9 motorcycles, 1 buss, 1 trucks, 2 traffic lights, 1 umbrellas, Done. (0.179s)\n",
            "video 1/1 (61/301) /content/yolor/busy_city.mp4: 768x1280 12 persons, 1 bicycles, 11 cars, 9 motorcycles, 1 buss, 1 trucks, 3 traffic lights, 2 umbrellas, 3 chairs, Done. (0.179s)\n",
            "video 1/1 (62/301) /content/yolor/busy_city.mp4: 768x1280 12 persons, 1 bicycles, 12 cars, 9 motorcycles, 1 buss, 1 trucks, 2 traffic lights, 2 umbrellas, 3 chairs, Done. (0.179s)\n",
            "video 1/1 (63/301) /content/yolor/busy_city.mp4: 768x1280 11 persons, 11 cars, 8 motorcycles, 1 buss, 1 trucks, 2 traffic lights, 2 umbrellas, 4 chairs, Done. (0.179s)\n",
            "video 1/1 (64/301) /content/yolor/busy_city.mp4: 768x1280 11 persons, 12 cars, 7 motorcycles, 1 buss, 1 trucks, 2 traffic lights, 2 umbrellas, 4 chairs, Done. (0.179s)\n",
            "video 1/1 (65/301) /content/yolor/busy_city.mp4: 768x1280 13 persons, 12 cars, 7 motorcycles, 1 buss, 1 trucks, 3 traffic lights, 2 umbrellas, 4 chairs, Done. (0.179s)\n",
            "video 1/1 (66/301) /content/yolor/busy_city.mp4: 768x1280 14 persons, 12 cars, 7 motorcycles, 1 buss, 1 trucks, 3 traffic lights, 2 umbrellas, 4 chairs, Done. (0.179s)\n",
            "video 1/1 (67/301) /content/yolor/busy_city.mp4: 768x1280 13 persons, 11 cars, 9 motorcycles, 1 buss, 1 trucks, 4 traffic lights, 1 umbrellas, 4 chairs, Done. (0.179s)\n",
            "video 1/1 (68/301) /content/yolor/busy_city.mp4: 768x1280 10 persons, 11 cars, 9 motorcycles, 1 buss, 1 trucks, 3 traffic lights, 1 fire hydrants, 1 umbrellas, 4 chairs, Done. (0.178s)\n",
            "video 1/1 (69/301) /content/yolor/busy_city.mp4: 768x1280 9 persons, 9 cars, 9 motorcycles, 1 buss, 1 trucks, 4 traffic lights, 1 fire hydrants, 1 umbrellas, 4 chairs, Done. (0.179s)\n",
            "video 1/1 (70/301) /content/yolor/busy_city.mp4: 768x1280 10 persons, 10 cars, 9 motorcycles, 1 buss, 1 trucks, 3 traffic lights, 1 umbrellas, 3 chairs, Done. (0.179s)\n",
            "video 1/1 (71/301) /content/yolor/busy_city.mp4: 768x1280 10 persons, 10 cars, 8 motorcycles, 1 buss, 1 trucks, 4 traffic lights, 1 fire hydrants, 1 umbrellas, 2 chairs, Done. (0.179s)\n",
            "video 1/1 (72/301) /content/yolor/busy_city.mp4: 768x1280 10 persons, 10 cars, 8 motorcycles, 1 buss, 1 trucks, 2 traffic lights, 1 umbrellas, 3 chairs, Done. (0.179s)\n",
            "video 1/1 (73/301) /content/yolor/busy_city.mp4: 768x1280 10 persons, 9 cars, 9 motorcycles, 1 buss, 1 trucks, 2 traffic lights, 1 fire hydrants, 1 umbrellas, 2 chairs, Done. (0.179s)\n",
            "video 1/1 (74/301) /content/yolor/busy_city.mp4: 768x1280 12 persons, 9 cars, 9 motorcycles, 1 buss, 1 trucks, 3 traffic lights, 1 chairs, Done. (0.179s)\n",
            "video 1/1 (75/301) /content/yolor/busy_city.mp4: 768x1280 10 persons, 10 cars, 7 motorcycles, 1 buss, 1 trucks, 2 traffic lights, 1 umbrellas, 4 chairs, Done. (0.179s)\n",
            "video 1/1 (76/301) /content/yolor/busy_city.mp4: 768x1280 11 persons, 10 cars, 8 motorcycles, 1 buss, 1 trucks, 3 traffic lights, 2 umbrellas, 4 chairs, Done. (0.180s)\n",
            "video 1/1 (77/301) /content/yolor/busy_city.mp4: 768x1280 10 persons, 9 cars, 8 motorcycles, 1 buss, 1 trucks, 2 traffic lights, 1 umbrellas, 3 chairs, Done. (0.178s)\n",
            "video 1/1 (78/301) /content/yolor/busy_city.mp4: 768x1280 8 persons, 9 cars, 7 motorcycles, 1 buss, 1 trucks, 1 traffic lights, 1 umbrellas, 2 chairs, Done. (0.180s)\n",
            "video 1/1 (79/301) /content/yolor/busy_city.mp4: 768x1280 9 persons, 8 cars, 9 motorcycles, 1 buss, 1 trucks, 1 traffic lights, 1 umbrellas, 1 chairs, Done. (0.179s)\n",
            "video 1/1 (80/301) /content/yolor/busy_city.mp4: 768x1280 10 persons, 1 bicycles, 8 cars, 7 motorcycles, 1 buss, 1 trucks, 1 traffic lights, 2 umbrellas, 1 chairs, Done. (0.179s)\n",
            "video 1/1 (81/301) /content/yolor/busy_city.mp4: 768x1280 8 persons, 8 cars, 8 motorcycles, 1 buss, 1 trucks, 2 traffic lights, 2 umbrellas, 2 chairs, Done. (0.179s)\n",
            "video 1/1 (82/301) /content/yolor/busy_city.mp4: 768x1280 10 persons, 9 cars, 7 motorcycles, 1 buss, 1 trucks, 2 traffic lights, 2 umbrellas, 1 chairs, Done. (0.180s)\n",
            "video 1/1 (83/301) /content/yolor/busy_city.mp4: 768x1280 8 persons, 8 cars, 7 motorcycles, 1 buss, 1 trucks, 2 traffic lights, 2 umbrellas, 1 chairs, Done. (0.179s)\n",
            "video 1/1 (84/301) /content/yolor/busy_city.mp4: 768x1280 9 persons, 9 cars, 7 motorcycles, 1 buss, 1 trucks, 3 traffic lights, 1 umbrellas, 1 chairs, Done. (0.179s)\n",
            "video 1/1 (85/301) /content/yolor/busy_city.mp4: 768x1280 7 persons, 9 cars, 7 motorcycles, 1 buss, 2 traffic lights, 1 umbrellas, 1 chairs, Done. (0.179s)\n",
            "video 1/1 (86/301) /content/yolor/busy_city.mp4: 768x1280 7 persons, 9 cars, 8 motorcycles, 1 buss, 2 traffic lights, 2 umbrellas, 2 chairs, Done. (0.178s)\n",
            "video 1/1 (87/301) /content/yolor/busy_city.mp4: 768x1280 7 persons, 10 cars, 6 motorcycles, 1 buss, 2 traffic lights, 2 umbrellas, 1 chairs, Done. (0.180s)\n",
            "video 1/1 (88/301) /content/yolor/busy_city.mp4: 768x1280 6 persons, 10 cars, 6 motorcycles, 1 buss, 2 traffic lights, 2 umbrellas, 2 chairs, Done. (0.179s)\n",
            "video 1/1 (89/301) /content/yolor/busy_city.mp4: 768x1280 6 persons, 10 cars, 6 motorcycles, 1 buss, 2 traffic lights, 2 umbrellas, 2 chairs, Done. (0.179s)\n",
            "video 1/1 (90/301) /content/yolor/busy_city.mp4: 768x1280 7 persons, 10 cars, 7 motorcycles, 1 buss, 2 traffic lights, 1 umbrellas, 1 chairs, Done. (0.179s)\n",
            "video 1/1 (91/301) /content/yolor/busy_city.mp4: 768x1280 7 persons, 9 cars, 6 motorcycles, 1 buss, 3 traffic lights, 1 umbrellas, 1 chairs, Done. (0.179s)\n",
            "video 1/1 (92/301) /content/yolor/busy_city.mp4: 768x1280 9 persons, 9 cars, 6 motorcycles, 1 buss, 3 traffic lights, 1 umbrellas, 1 chairs, Done. (0.180s)\n",
            "video 1/1 (93/301) /content/yolor/busy_city.mp4: 768x1280 9 persons, 8 cars, 5 motorcycles, 1 buss, 1 traffic lights, 1 umbrellas, 1 chairs, Done. (0.178s)\n",
            "video 1/1 (94/301) /content/yolor/busy_city.mp4: 768x1280 7 persons, 8 cars, 8 motorcycles, 1 buss, 3 traffic lights, 1 umbrellas, Done. (0.179s)\n",
            "video 1/1 (95/301) /content/yolor/busy_city.mp4: 768x1280 7 persons, 7 cars, 7 motorcycles, 1 buss, 1 trucks, 1 traffic lights, 1 umbrellas, 1 chairs, Done. (0.179s)\n",
            "video 1/1 (96/301) /content/yolor/busy_city.mp4: 768x1280 6 persons, 8 cars, 8 motorcycles, 1 buss, 2 traffic lights, 1 umbrellas, 1 chairs, Done. (0.179s)\n",
            "video 1/1 (97/301) /content/yolor/busy_city.mp4: 768x1280 4 persons, 9 cars, 8 motorcycles, 1 buss, 3 traffic lights, 1 umbrellas, 1 chairs, Done. (0.180s)\n",
            "video 1/1 (98/301) /content/yolor/busy_city.mp4: 768x1280 7 persons, 8 cars, 5 motorcycles, 1 buss, 3 traffic lights, 2 umbrellas, 2 chairs, Done. (0.179s)\n",
            "video 1/1 (99/301) /content/yolor/busy_city.mp4: 768x1280 6 persons, 9 cars, 6 motorcycles, 1 buss, 3 traffic lights, 2 umbrellas, 2 chairs, Done. (0.178s)\n",
            "video 1/1 (100/301) /content/yolor/busy_city.mp4: 768x1280 5 persons, 9 cars, 6 motorcycles, 1 buss, 1 traffic lights, 2 umbrellas, 2 chairs, Done. (0.179s)\n",
            "video 1/1 (101/301) /content/yolor/busy_city.mp4: 768x1280 4 persons, 8 cars, 6 motorcycles, 1 buss, 2 traffic lights, 1 umbrellas, 2 chairs, Done. (0.179s)\n",
            "video 1/1 (102/301) /content/yolor/busy_city.mp4: 768x1280 4 persons, 1 bicycles, 11 cars, 5 motorcycles, 1 buss, 2 traffic lights, 1 umbrellas, 2 chairs, Done. (0.179s)\n",
            "video 1/1 (103/301) /content/yolor/busy_city.mp4: 768x1280 6 persons, 1 bicycles, 9 cars, 5 motorcycles, 1 buss, 1 trucks, 2 traffic lights, 2 umbrellas, 2 chairs, Done. (0.180s)\n",
            "video 1/1 (104/301) /content/yolor/busy_city.mp4: 768x1280 7 persons, 10 cars, 5 motorcycles, 1 buss, 3 traffic lights, 2 umbrellas, 2 chairs, Done. (0.179s)\n",
            "video 1/1 (105/301) /content/yolor/busy_city.mp4: 768x1280 5 persons, 9 cars, 5 motorcycles, 1 buss, 4 traffic lights, 1 fire hydrants, 2 umbrellas, 2 chairs, Done. (0.179s)\n",
            "video 1/1 (106/301) /content/yolor/busy_city.mp4: 768x1280 6 persons, 8 cars, 7 motorcycles, 1 buss, 3 traffic lights, 1 fire hydrants, 2 umbrellas, 2 chairs, Done. (0.180s)\n",
            "video 1/1 (107/301) /content/yolor/busy_city.mp4: 768x1280 5 persons, 8 cars, 5 motorcycles, 1 buss, 3 traffic lights, 1 fire hydrants, 2 umbrellas, 2 chairs, Done. (0.179s)\n",
            "video 1/1 (108/301) /content/yolor/busy_city.mp4: 768x1280 6 persons, 8 cars, 5 motorcycles, 1 buss, 3 traffic lights, 2 umbrellas, 3 chairs, Done. (0.180s)\n",
            "video 1/1 (109/301) /content/yolor/busy_city.mp4: 768x1280 7 persons, 9 cars, 4 motorcycles, 1 buss, 3 traffic lights, 2 umbrellas, 1 chairs, Done. (0.178s)\n",
            "video 1/1 (110/301) /content/yolor/busy_city.mp4: 768x1280 7 persons, 10 cars, 5 motorcycles, 1 buss, 2 trucks, 4 traffic lights, 2 umbrellas, Done. (0.179s)\n",
            "video 1/1 (111/301) /content/yolor/busy_city.mp4: 768x1280 5 persons, 10 cars, 6 motorcycles, 1 buss, 4 traffic lights, 1 umbrellas, Done. (0.179s)\n",
            "video 1/1 (112/301) /content/yolor/busy_city.mp4: 768x1280 6 persons, 10 cars, 6 motorcycles, 1 buss, 4 traffic lights, 1 umbrellas, Done. (0.179s)\n",
            "video 1/1 (113/301) /content/yolor/busy_city.mp4: 768x1280 5 persons, 10 cars, 5 motorcycles, 1 buss, 3 traffic lights, 1 benchs, 2 umbrellas, Done. (0.179s)\n",
            "video 1/1 (114/301) /content/yolor/busy_city.mp4: 768x1280 5 persons, 9 cars, 5 motorcycles, 1 buss, 2 trucks, 1 traffic lights, 2 umbrellas, Done. (0.179s)\n",
            "video 1/1 (115/301) /content/yolor/busy_city.mp4: 768x1280 7 persons, 9 cars, 5 motorcycles, 1 buss, 1 trucks, 2 traffic lights, 1 umbrellas, Done. (0.179s)\n",
            "video 1/1 (116/301) /content/yolor/busy_city.mp4: 768x1280 5 persons, 8 cars, 5 motorcycles, 1 buss, 1 trucks, 2 traffic lights, 2 umbrellas, 1 chairs, Done. (0.179s)\n",
            "video 1/1 (117/301) /content/yolor/busy_city.mp4: 768x1280 6 persons, 10 cars, 5 motorcycles, 1 buss, 1 trucks, 2 traffic lights, 1 umbrellas, Done. (0.179s)\n",
            "video 1/1 (118/301) /content/yolor/busy_city.mp4: 768x1280 6 persons, 10 cars, 5 motorcycles, 1 buss, 1 traffic lights, 1 umbrellas, 1 chairs, Done. (0.179s)\n",
            "video 1/1 (119/301) /content/yolor/busy_city.mp4: 768x1280 6 persons, 10 cars, 4 motorcycles, 1 buss, 1 traffic lights, 2 umbrellas, 1 chairs, Done. (0.179s)\n",
            "video 1/1 (120/301) /content/yolor/busy_city.mp4: 768x1280 6 persons, 10 cars, 4 motorcycles, 1 buss, 2 umbrellas, 1 chairs, Done. (0.179s)\n",
            "video 1/1 (121/301) /content/yolor/busy_city.mp4: 768x1280 6 persons, 8 cars, 4 motorcycles, 1 buss, 2 traffic lights, 1 umbrellas, 1 chairs, Done. (0.179s)\n",
            "video 1/1 (122/301) /content/yolor/busy_city.mp4: 768x1280 6 persons, 9 cars, 4 motorcycles, 1 buss, 1 traffic lights, 1 umbrellas, Done. (0.181s)\n",
            "video 1/1 (123/301) /content/yolor/busy_city.mp4: 768x1280 6 persons, 10 cars, 4 motorcycles, 1 buss, 3 traffic lights, 1 umbrellas, Done. (0.179s)\n",
            "video 1/1 (124/301) /content/yolor/busy_city.mp4: 768x1280 6 persons, 10 cars, 4 motorcycles, 1 buss, 3 traffic lights, 1 umbrellas, 1 chairs, Done. (0.179s)\n",
            "video 1/1 (125/301) /content/yolor/busy_city.mp4: 768x1280 6 persons, 8 cars, 4 motorcycles, 1 buss, 2 traffic lights, 1 benchs, 1 umbrellas, 1 chairs, Done. (0.181s)\n",
            "video 1/1 (126/301) /content/yolor/busy_city.mp4: 768x1280 5 persons, 10 cars, 4 motorcycles, 1 buss, 1 trucks, 1 traffic lights, 1 benchs, 1 umbrellas, 2 chairs, Done. (0.179s)\n",
            "video 1/1 (127/301) /content/yolor/busy_city.mp4: 768x1280 5 persons, 10 cars, 4 motorcycles, 1 buss, 1 trucks, 2 traffic lights, 1 benchs, 1 umbrellas, 2 chairs, Done. (0.180s)\n",
            "video 1/1 (128/301) /content/yolor/busy_city.mp4: 768x1280 5 persons, 10 cars, 4 motorcycles, 1 buss, 3 traffic lights, 1 benchs, 1 umbrellas, Done. (0.180s)\n",
            "video 1/1 (129/301) /content/yolor/busy_city.mp4: 768x1280 4 persons, 9 cars, 3 motorcycles, 1 buss, 1 trucks, 3 traffic lights, 1 benchs, 1 umbrellas, Done. (0.179s)\n",
            "video 1/1 (130/301) /content/yolor/busy_city.mp4: 768x1280 3 persons, 10 cars, 3 motorcycles, 2 buss, 1 trucks, 2 traffic lights, 1 benchs, 1 umbrellas, 1 chairs, Done. (0.179s)\n",
            "video 1/1 (131/301) /content/yolor/busy_city.mp4: 768x1280 3 persons, 1 bicycles, 9 cars, 3 motorcycles, 2 buss, 1 trucks, 4 traffic lights, 1 umbrellas, Done. (0.180s)\n",
            "video 1/1 (132/301) /content/yolor/busy_city.mp4: 768x1280 3 persons, 10 cars, 3 motorcycles, 2 buss, 2 trucks, 2 traffic lights, 1 benchs, 1 umbrellas, 1 chairs, Done. (0.180s)\n",
            "video 1/1 (133/301) /content/yolor/busy_city.mp4: 768x1280 3 persons, 9 cars, 3 motorcycles, 2 buss, 1 traffic lights, 1 umbrellas, Done. (0.179s)\n",
            "video 1/1 (134/301) /content/yolor/busy_city.mp4: 768x1280 4 persons, 7 cars, 3 motorcycles, 1 buss, 3 trucks, 1 traffic lights, 1 umbrellas, 2 chairs, Done. (0.179s)\n",
            "video 1/1 (135/301) /content/yolor/busy_city.mp4: 768x1280 5 persons, 10 cars, 4 motorcycles, 1 buss, 2 trucks, 3 traffic lights, 1 chairs, Done. (0.180s)\n",
            "video 1/1 (136/301) /content/yolor/busy_city.mp4: 768x1280 3 persons, 8 cars, 3 motorcycles, 1 buss, 1 trucks, 3 traffic lights, 1 benchs, 2 chairs, Done. (0.180s)\n",
            "video 1/1 (137/301) /content/yolor/busy_city.mp4: 768x1280 4 persons, 9 cars, 2 motorcycles, 1 buss, 2 trucks, 4 traffic lights, 1 benchs, 2 chairs, Done. (0.180s)\n",
            "video 1/1 (138/301) /content/yolor/busy_city.mp4: 768x1280 4 persons, 10 cars, 3 motorcycles, 1 buss, 1 trucks, 1 benchs, 1 chairs, Done. (0.179s)\n",
            "video 1/1 (139/301) /content/yolor/busy_city.mp4: 768x1280 3 persons, 11 cars, 3 motorcycles, 1 buss, 1 trucks, 1 traffic lights, Done. (0.180s)\n",
            "video 1/1 (140/301) /content/yolor/busy_city.mp4: 768x1280 3 persons, 12 cars, 3 motorcycles, 1 buss, 1 trucks, 1 traffic lights, Done. (0.179s)\n",
            "video 1/1 (141/301) /content/yolor/busy_city.mp4: 768x1280 3 persons, 12 cars, 2 motorcycles, 1 buss, 2 trucks, 1 traffic lights, Done. (0.179s)\n",
            "video 1/1 (142/301) /content/yolor/busy_city.mp4: 768x1280 3 persons, 13 cars, 2 motorcycles, 1 buss, 2 trucks, 1 traffic lights, Done. (0.179s)\n",
            "video 1/1 (143/301) /content/yolor/busy_city.mp4: 768x1280 3 persons, 13 cars, 2 motorcycles, 1 buss, 1 trucks, 2 traffic lights, 1 chairs, Done. (0.179s)\n",
            "video 1/1 (144/301) /content/yolor/busy_city.mp4: 768x1280 3 persons, 13 cars, 2 motorcycles, 1 buss, 1 trucks, 3 traffic lights, Done. (0.180s)\n",
            "video 1/1 (145/301) /content/yolor/busy_city.mp4: 768x1280 4 persons, 13 cars, 2 motorcycles, 1 buss, 1 trucks, 3 traffic lights, 1 chairs, Done. (0.180s)\n",
            "video 1/1 (146/301) /content/yolor/busy_city.mp4: 768x1280 3 persons, 11 cars, 2 motorcycles, 1 buss, 1 trucks, 2 traffic lights, 1 chairs, Done. (0.180s)\n",
            "video 1/1 (147/301) /content/yolor/busy_city.mp4: 768x1280 3 persons, 12 cars, 2 motorcycles, 1 buss, 1 trucks, 2 traffic lights, 1 backpacks, 1 chairs, Done. (0.180s)\n",
            "video 1/1 (148/301) /content/yolor/busy_city.mp4: 768x1280 3 persons, 12 cars, 4 motorcycles, 1 buss, 1 trucks, 4 traffic lights, 1 chairs, Done. (0.179s)\n",
            "video 1/1 (149/301) /content/yolor/busy_city.mp4: 768x1280 3 persons, 13 cars, 4 motorcycles, 1 buss, 1 trucks, 4 traffic lights, Done. (0.182s)\n",
            "video 1/1 (150/301) /content/yolor/busy_city.mp4: 768x1280 3 persons, 13 cars, 3 motorcycles, 1 buss, 1 trucks, 3 traffic lights, 1 chairs, Done. (0.180s)\n",
            "video 1/1 (151/301) /content/yolor/busy_city.mp4: 768x1280 3 persons, 13 cars, 3 motorcycles, 1 buss, 2 trucks, 3 traffic lights, 1 umbrellas, 1 chairs, Done. (0.180s)\n",
            "video 1/1 (152/301) /content/yolor/busy_city.mp4: 768x1280 3 persons, 12 cars, 3 motorcycles, 1 buss, 1 trucks, 4 traffic lights, 1 chairs, Done. (0.179s)\n",
            "video 1/1 (153/301) /content/yolor/busy_city.mp4: 768x1280 2 persons, 13 cars, 3 motorcycles, 1 buss, 1 trucks, 3 traffic lights, Done. (0.180s)\n",
            "video 1/1 (154/301) /content/yolor/busy_city.mp4: 768x1280 3 persons, 12 cars, 3 motorcycles, 1 buss, 2 trucks, 3 traffic lights, Done. (0.179s)\n",
            "video 1/1 (155/301) /content/yolor/busy_city.mp4: 768x1280 4 persons, 1 bicycles, 13 cars, 3 motorcycles, 1 buss, 2 trucks, 3 traffic lights, Done. (0.180s)\n",
            "video 1/1 (156/301) /content/yolor/busy_city.mp4: 768x1280 3 persons, 1 bicycles, 13 cars, 3 motorcycles, 1 buss, 1 trucks, 3 traffic lights, 1 umbrellas, Done. (0.179s)\n",
            "video 1/1 (157/301) /content/yolor/busy_city.mp4: 768x1280 4 persons, 13 cars, 3 motorcycles, 1 buss, 1 trucks, 3 traffic lights, 1 umbrellas, Done. (0.179s)\n",
            "video 1/1 (158/301) /content/yolor/busy_city.mp4: 768x1280 4 persons, 12 cars, 3 motorcycles, 1 buss, 1 trucks, 3 traffic lights, 1 umbrellas, Done. (0.179s)\n",
            "video 1/1 (159/301) /content/yolor/busy_city.mp4: 768x1280 3 persons, 12 cars, 3 motorcycles, 1 buss, 1 trucks, 3 traffic lights, 1 umbrellas, Done. (0.179s)\n",
            "video 1/1 (160/301) /content/yolor/busy_city.mp4: 768x1280 4 persons, 14 cars, 3 motorcycles, 1 buss, 1 trucks, 3 traffic lights, 1 umbrellas, Done. (0.179s)\n",
            "video 1/1 (161/301) /content/yolor/busy_city.mp4: 768x1280 2 persons, 13 cars, 3 motorcycles, 1 buss, 1 trucks, 3 traffic lights, 1 umbrellas, Done. (0.180s)\n",
            "video 1/1 (162/301) /content/yolor/busy_city.mp4: 768x1280 2 persons, 12 cars, 3 motorcycles, 1 buss, 2 trucks, 3 traffic lights, 1 umbrellas, Done. (0.179s)\n",
            "video 1/1 (163/301) /content/yolor/busy_city.mp4: 768x1280 4 persons, 12 cars, 3 motorcycles, 1 buss, 1 trucks, 4 traffic lights, 1 umbrellas, Done. (0.180s)\n",
            "video 1/1 (164/301) /content/yolor/busy_city.mp4: 768x1280 3 persons, 11 cars, 4 motorcycles, 2 buss, 1 trucks, 4 traffic lights, 1 umbrellas, Done. (0.180s)\n",
            "video 1/1 (165/301) /content/yolor/busy_city.mp4: 768x1280 3 persons, 14 cars, 3 motorcycles, 1 buss, 1 trucks, 4 traffic lights, 1 umbrellas, Done. (0.180s)\n",
            "video 1/1 (166/301) /content/yolor/busy_city.mp4: 768x1280 4 persons, 12 cars, 4 motorcycles, 1 buss, 2 trucks, 3 traffic lights, 1 umbrellas, Done. (0.179s)\n",
            "video 1/1 (167/301) /content/yolor/busy_city.mp4: 768x1280 3 persons, 12 cars, 5 motorcycles, 1 buss, 1 trucks, 4 traffic lights, 1 backpacks, 1 umbrellas, Done. (0.180s)\n",
            "video 1/1 (168/301) /content/yolor/busy_city.mp4: 768x1280 3 persons, 12 cars, 4 motorcycles, 1 buss, 1 trucks, 4 traffic lights, 1 umbrellas, Done. (0.180s)\n",
            "video 1/1 (169/301) /content/yolor/busy_city.mp4: 768x1280 2 persons, 14 cars, 5 motorcycles, 1 buss, 1 trucks, 3 traffic lights, 1 umbrellas, Done. (0.180s)\n",
            "video 1/1 (170/301) /content/yolor/busy_city.mp4: 768x1280 1 persons, 12 cars, 5 motorcycles, 1 buss, 1 trucks, 2 traffic lights, 1 backpacks, 1 umbrellas, Done. (0.180s)\n",
            "video 1/1 (171/301) /content/yolor/busy_city.mp4: 768x1280 1 persons, 13 cars, 5 motorcycles, 1 buss, 1 trucks, 3 traffic lights, 1 backpacks, Done. (0.179s)\n",
            "video 1/1 (172/301) /content/yolor/busy_city.mp4: 768x1280 1 persons, 11 cars, 3 motorcycles, 1 buss, 1 trucks, 1 traffic lights, 1 backpacks, Done. (0.179s)\n",
            "video 1/1 (173/301) /content/yolor/busy_city.mp4: 768x1280 1 persons, 11 cars, 3 motorcycles, 1 buss, 1 trucks, 2 traffic lights, 1 backpacks, 2 umbrellas, Done. (0.180s)\n",
            "video 1/1 (174/301) /content/yolor/busy_city.mp4: 768x1280 1 persons, 13 cars, 4 motorcycles, 1 buss, 1 trucks, 2 traffic lights, 1 umbrellas, Done. (0.180s)\n",
            "video 1/1 (175/301) /content/yolor/busy_city.mp4: 768x1280 1 persons, 13 cars, 4 motorcycles, 1 buss, 1 trucks, 2 traffic lights, 1 umbrellas, Done. (0.180s)\n",
            "video 1/1 (176/301) /content/yolor/busy_city.mp4: 768x1280 1 persons, 12 cars, 4 motorcycles, 1 buss, 1 trucks, 1 traffic lights, 1 umbrellas, Done. (0.180s)\n",
            "video 1/1 (177/301) /content/yolor/busy_city.mp4: 768x1280 1 persons, 13 cars, 4 motorcycles, 1 buss, 1 trucks, 2 traffic lights, 1 umbrellas, Done. (0.178s)\n",
            "video 1/1 (178/301) /content/yolor/busy_city.mp4: 768x1280 1 persons, 13 cars, 3 motorcycles, 2 buss, 1 trucks, 2 traffic lights, 1 umbrellas, Done. (0.182s)\n",
            "video 1/1 (179/301) /content/yolor/busy_city.mp4: 768x1280 14 cars, 2 motorcycles, 1 buss, 1 trucks, 1 traffic lights, 1 umbrellas, Done. (0.180s)\n",
            "video 1/1 (180/301) /content/yolor/busy_city.mp4: 768x1280 1 persons, 13 cars, 2 motorcycles, 2 buss, 1 trucks, 1 traffic lights, Done. (0.180s)\n",
            "video 1/1 (181/301) /content/yolor/busy_city.mp4: 768x1280 1 persons, 1 bicycles, 16 cars, 2 motorcycles, 2 buss, 2 trucks, 1 traffic lights, 1 umbrellas, 2 chairs, Done. (0.180s)\n",
            "video 1/1 (182/301) /content/yolor/busy_city.mp4: 768x1280 2 persons, 1 bicycles, 14 cars, 2 motorcycles, 2 buss, 2 trucks, 1 traffic lights, 2 umbrellas, 2 chairs, Done. (0.180s)\n",
            "video 1/1 (183/301) /content/yolor/busy_city.mp4: 768x1280 3 persons, 1 bicycles, 16 cars, 2 motorcycles, 2 buss, 1 trucks, 2 traffic lights, 2 umbrellas, 2 chairs, Done. (0.180s)\n",
            "video 1/1 (184/301) /content/yolor/busy_city.mp4: 768x1280 2 persons, 1 bicycles, 16 cars, 3 motorcycles, 2 buss, 2 trucks, 1 traffic lights, 2 umbrellas, 2 chairs, Done. (0.180s)\n",
            "video 1/1 (185/301) /content/yolor/busy_city.mp4: 768x1280 2 persons, 15 cars, 2 motorcycles, 2 buss, 1 trucks, 1 traffic lights, 2 umbrellas, 2 chairs, Done. (0.180s)\n",
            "video 1/1 (186/301) /content/yolor/busy_city.mp4: 768x1280 2 persons, 1 bicycles, 16 cars, 2 motorcycles, 1 buss, 2 trucks, 2 umbrellas, Done. (0.180s)\n",
            "video 1/1 (187/301) /content/yolor/busy_city.mp4: 768x1280 3 persons, 1 bicycles, 17 cars, 2 motorcycles, 1 buss, 3 trucks, 1 traffic lights, 2 umbrellas, Done. (0.180s)\n",
            "video 1/1 (188/301) /content/yolor/busy_city.mp4: 768x1280 2 persons, 1 bicycles, 17 cars, 2 motorcycles, 2 buss, 3 trucks, 1 traffic lights, 2 umbrellas, Done. (0.179s)\n",
            "video 1/1 (189/301) /content/yolor/busy_city.mp4: 768x1280 3 persons, 1 bicycles, 17 cars, 2 motorcycles, 1 buss, 3 trucks, 2 umbrellas, 1 chairs, Done. (0.181s)\n",
            "video 1/1 (190/301) /content/yolor/busy_city.mp4: 768x1280 3 persons, 1 bicycles, 16 cars, 2 motorcycles, 2 buss, 3 trucks, 2 umbrellas, 1 chairs, Done. (0.179s)\n",
            "video 1/1 (191/301) /content/yolor/busy_city.mp4: 768x1280 3 persons, 1 bicycles, 16 cars, 2 motorcycles, 2 buss, 2 trucks, 2 umbrellas, 1 chairs, Done. (0.180s)\n",
            "video 1/1 (192/301) /content/yolor/busy_city.mp4: 768x1280 4 persons, 1 bicycles, 16 cars, 2 motorcycles, 2 buss, 2 trucks, 2 umbrellas, Done. (0.179s)\n",
            "video 1/1 (193/301) /content/yolor/busy_city.mp4: 768x1280 4 persons, 1 bicycles, 16 cars, 2 motorcycles, 2 buss, 2 trucks, 2 umbrellas, Done. (0.180s)\n",
            "video 1/1 (194/301) /content/yolor/busy_city.mp4: 768x1280 4 persons, 1 bicycles, 17 cars, 2 motorcycles, 2 buss, 2 trucks, 2 umbrellas, Done. (0.179s)\n",
            "video 1/1 (195/301) /content/yolor/busy_city.mp4: 768x1280 4 persons, 1 bicycles, 12 cars, 2 motorcycles, 1 buss, 3 trucks, 2 umbrellas, Done. (0.180s)\n",
            "video 1/1 (196/301) /content/yolor/busy_city.mp4: 768x1280 4 persons, 1 bicycles, 14 cars, 2 motorcycles, 1 buss, 3 trucks, 1 umbrellas, Done. (0.179s)\n",
            "video 1/1 (197/301) /content/yolor/busy_city.mp4: 768x1280 4 persons, 1 bicycles, 14 cars, 2 motorcycles, 1 buss, 2 trucks, 1 umbrellas, Done. (0.180s)\n",
            "video 1/1 (198/301) /content/yolor/busy_city.mp4: 768x1280 3 persons, 1 bicycles, 12 cars, 2 motorcycles, 1 buss, 2 trucks, 1 umbrellas, Done. (0.180s)\n",
            "video 1/1 (199/301) /content/yolor/busy_city.mp4: 768x1280 4 persons, 1 bicycles, 13 cars, 2 motorcycles, 1 buss, 2 trucks, 1 umbrellas, Done. (0.179s)\n",
            "video 1/1 (200/301) /content/yolor/busy_city.mp4: 768x1280 4 persons, 14 cars, 2 motorcycles, 1 buss, 2 trucks, 1 umbrellas, Done. (0.180s)\n",
            "video 1/1 (201/301) /content/yolor/busy_city.mp4: 768x1280 4 persons, 1 bicycles, 13 cars, 2 motorcycles, 1 buss, 2 trucks, 1 umbrellas, Done. (0.180s)\n",
            "video 1/1 (202/301) /content/yolor/busy_city.mp4: 768x1280 4 persons, 13 cars, 2 motorcycles, 2 buss, 2 trucks, 1 umbrellas, Done. (0.179s)\n",
            "video 1/1 (203/301) /content/yolor/busy_city.mp4: 768x1280 4 persons, 11 cars, 2 motorcycles, 1 buss, 2 trucks, 1 umbrellas, Done. (0.178s)\n",
            "video 1/1 (204/301) /content/yolor/busy_city.mp4: 768x1280 4 persons, 1 bicycles, 12 cars, 2 motorcycles, 1 buss, 2 trucks, 1 umbrellas, Done. (0.182s)\n",
            "video 1/1 (205/301) /content/yolor/busy_city.mp4: 768x1280 5 persons, 14 cars, 2 motorcycles, 2 buss, 2 trucks, 1 umbrellas, Done. (0.179s)\n",
            "video 1/1 (206/301) /content/yolor/busy_city.mp4: 768x1280 4 persons, 14 cars, 3 motorcycles, 1 buss, 2 trucks, 1 umbrellas, Done. (0.179s)\n",
            "video 1/1 (207/301) /content/yolor/busy_city.mp4: 768x1280 4 persons, 14 cars, 3 motorcycles, 1 buss, 2 trucks, 1 umbrellas, Done. (0.179s)\n",
            "video 1/1 (208/301) /content/yolor/busy_city.mp4: 768x1280 6 persons, 13 cars, 3 motorcycles, 1 buss, 2 trucks, 1 umbrellas, Done. (0.180s)\n",
            "video 1/1 (209/301) /content/yolor/busy_city.mp4: 768x1280 5 persons, 14 cars, 2 motorcycles, 2 buss, 2 trucks, 1 umbrellas, Done. (0.179s)\n",
            "video 1/1 (210/301) /content/yolor/busy_city.mp4: 768x1280 4 persons, 13 cars, 2 motorcycles, 2 buss, 1 trucks, 1 umbrellas, Done. (0.179s)\n",
            "video 1/1 (211/301) /content/yolor/busy_city.mp4: 768x1280 6 persons, 13 cars, 2 motorcycles, 2 buss, 1 trucks, 1 umbrellas, Done. (0.179s)\n",
            "video 1/1 (212/301) /content/yolor/busy_city.mp4: 768x1280 4 persons, 13 cars, 2 motorcycles, 2 buss, 1 trucks, 1 umbrellas, Done. (0.179s)\n",
            "video 1/1 (213/301) /content/yolor/busy_city.mp4: 768x1280 6 persons, 13 cars, 2 motorcycles, 1 buss, 1 trucks, 1 umbrellas, Done. (0.180s)\n",
            "video 1/1 (214/301) /content/yolor/busy_city.mp4: 768x1280 6 persons, 13 cars, 2 motorcycles, 2 buss, 1 trucks, 1 umbrellas, Done. (0.179s)\n",
            "video 1/1 (215/301) /content/yolor/busy_city.mp4: 768x1280 6 persons, 13 cars, 2 motorcycles, 1 buss, 1 trucks, 1 umbrellas, Done. (0.180s)\n",
            "video 1/1 (216/301) /content/yolor/busy_city.mp4: 768x1280 5 persons, 13 cars, 2 motorcycles, 2 buss, 1 trucks, 1 umbrellas, Done. (0.180s)\n",
            "video 1/1 (217/301) /content/yolor/busy_city.mp4: 768x1280 5 persons, 12 cars, 2 motorcycles, 1 buss, 1 trucks, 1 umbrellas, Done. (0.181s)\n",
            "video 1/1 (218/301) /content/yolor/busy_city.mp4: 768x1280 5 persons, 12 cars, 3 motorcycles, 2 buss, 1 trucks, 1 umbrellas, Done. (0.180s)\n",
            "video 1/1 (219/301) /content/yolor/busy_city.mp4: 768x1280 5 persons, 14 cars, 2 motorcycles, 3 buss, 1 trucks, 1 umbrellas, Done. (0.180s)\n",
            "video 1/1 (220/301) /content/yolor/busy_city.mp4: 768x1280 4 persons, 13 cars, 2 motorcycles, 2 buss, 1 trucks, 1 umbrellas, Done. (0.179s)\n",
            "video 1/1 (221/301) /content/yolor/busy_city.mp4: 768x1280 4 persons, 11 cars, 2 motorcycles, 1 buss, 1 trucks, 1 umbrellas, Done. (0.180s)\n",
            "video 1/1 (222/301) /content/yolor/busy_city.mp4: 768x1280 4 persons, 10 cars, 4 motorcycles, 2 buss, 1 trucks, 2 umbrellas, Done. (0.180s)\n",
            "video 1/1 (223/301) /content/yolor/busy_city.mp4: 768x1280 5 persons, 11 cars, 2 motorcycles, 1 buss, 1 trucks, 1 umbrellas, Done. (0.179s)\n",
            "video 1/1 (224/301) /content/yolor/busy_city.mp4: 768x1280 5 persons, 10 cars, 4 motorcycles, 1 buss, 1 trucks, 1 umbrellas, Done. (0.180s)\n",
            "video 1/1 (225/301) /content/yolor/busy_city.mp4: 768x1280 5 persons, 11 cars, 4 motorcycles, 1 buss, 1 trucks, 1 umbrellas, Done. (0.180s)\n",
            "video 1/1 (226/301) /content/yolor/busy_city.mp4: 768x1280 5 persons, 11 cars, 3 motorcycles, 1 buss, 1 trucks, 2 umbrellas, Done. (0.179s)\n",
            "video 1/1 (227/301) /content/yolor/busy_city.mp4: 768x1280 5 persons, 10 cars, 2 motorcycles, 1 buss, 1 trucks, 2 umbrellas, Done. (0.180s)\n",
            "video 1/1 (228/301) /content/yolor/busy_city.mp4: 768x1280 5 persons, 12 cars, 2 motorcycles, 1 buss, 1 trucks, 1 umbrellas, Done. (0.180s)\n",
            "video 1/1 (229/301) /content/yolor/busy_city.mp4: 768x1280 4 persons, 12 cars, 3 motorcycles, 1 buss, 1 trucks, 2 umbrellas, Done. (0.178s)\n",
            "video 1/1 (230/301) /content/yolor/busy_city.mp4: 768x1280 4 persons, 12 cars, 3 motorcycles, 2 buss, 1 trucks, 2 umbrellas, Done. (0.180s)\n",
            "video 1/1 (231/301) /content/yolor/busy_city.mp4: 768x1280 1 persons, 11 cars, 3 motorcycles, 1 buss, 1 trucks, 2 umbrellas, Done. (0.179s)\n",
            "video 1/1 (232/301) /content/yolor/busy_city.mp4: 768x1280 2 persons, 13 cars, 3 motorcycles, 1 buss, 1 trucks, 2 umbrellas, Done. (0.180s)\n",
            "video 1/1 (233/301) /content/yolor/busy_city.mp4: 768x1280 1 persons, 14 cars, 3 motorcycles, 2 buss, 1 trucks, 2 umbrellas, Done. (0.180s)\n",
            "video 1/1 (234/301) /content/yolor/busy_city.mp4: 768x1280 1 persons, 13 cars, 2 motorcycles, 2 buss, 1 trucks, 2 umbrellas, Done. (0.179s)\n",
            "video 1/1 (235/301) /content/yolor/busy_city.mp4: 768x1280 2 persons, 13 cars, 2 motorcycles, 1 buss, 1 trucks, 2 umbrellas, Done. (0.180s)\n",
            "video 1/1 (236/301) /content/yolor/busy_city.mp4: 768x1280 2 persons, 12 cars, 2 motorcycles, 1 buss, 1 trucks, 2 umbrellas, Done. (0.180s)\n",
            "video 1/1 (237/301) /content/yolor/busy_city.mp4: 768x1280 3 persons, 11 cars, 2 motorcycles, 1 buss, 1 trucks, 2 umbrellas, Done. (0.180s)\n",
            "video 1/1 (238/301) /content/yolor/busy_city.mp4: 768x1280 2 persons, 11 cars, 2 motorcycles, 2 buss, 1 trucks, 2 umbrellas, 1 chairs, Done. (0.181s)\n",
            "video 1/1 (239/301) /content/yolor/busy_city.mp4: 768x1280 2 persons, 12 cars, 2 motorcycles, 1 buss, 1 trucks, 1 umbrellas, 1 chairs, Done. (0.180s)\n",
            "video 1/1 (240/301) /content/yolor/busy_city.mp4: 768x1280 1 persons, 12 cars, 2 motorcycles, 1 buss, 1 trucks, 1 umbrellas, Done. (0.180s)\n",
            "video 1/1 (241/301) /content/yolor/busy_city.mp4: 768x1280 4 persons, 11 cars, 2 motorcycles, 1 buss, 1 trucks, 2 chairs, Done. (0.179s)\n",
            "video 1/1 (242/301) /content/yolor/busy_city.mp4: 768x1280 2 persons, 10 cars, 2 motorcycles, 1 buss, 1 trucks, 1 umbrellas, 1 chairs, Done. (0.180s)\n",
            "video 1/1 (243/301) /content/yolor/busy_city.mp4: 768x1280 3 persons, 12 cars, 2 motorcycles, 2 buss, 1 trucks, 1 umbrellas, 1 chairs, Done. (0.180s)\n",
            "video 1/1 (244/301) /content/yolor/busy_city.mp4: 768x1280 3 persons, 11 cars, 2 motorcycles, 2 buss, 1 trucks, 1 umbrellas, 1 chairs, Done. (0.180s)\n",
            "video 1/1 (245/301) /content/yolor/busy_city.mp4: 768x1280 4 persons, 10 cars, 2 motorcycles, 1 buss, 1 trucks, Done. (0.180s)\n",
            "video 1/1 (246/301) /content/yolor/busy_city.mp4: 768x1280 3 persons, 9 cars, 2 motorcycles, 1 buss, 1 trucks, 1 umbrellas, Done. (0.180s)\n",
            "video 1/1 (247/301) /content/yolor/busy_city.mp4: 768x1280 3 persons, 10 cars, 2 motorcycles, 1 buss, 1 trucks, Done. (0.181s)\n",
            "video 1/1 (248/301) /content/yolor/busy_city.mp4: 768x1280 5 persons, 8 cars, 2 motorcycles, 1 buss, 1 trucks, Done. (0.179s)\n",
            "video 1/1 (249/301) /content/yolor/busy_city.mp4: 768x1280 3 persons, 9 cars, 2 motorcycles, 1 buss, 1 trucks, Done. (0.180s)\n",
            "video 1/1 (250/301) /content/yolor/busy_city.mp4: 768x1280 3 persons, 10 cars, 2 motorcycles, 1 buss, 1 trucks, 1 chairs, Done. (0.179s)\n",
            "video 1/1 (251/301) /content/yolor/busy_city.mp4: 768x1280 2 persons, 10 cars, 2 motorcycles, 2 buss, 1 trucks, 1 umbrellas, Done. (0.180s)\n",
            "video 1/1 (252/301) /content/yolor/busy_city.mp4: 768x1280 3 persons, 9 cars, 2 motorcycles, 1 buss, 1 trucks, 1 chairs, Done. (0.180s)\n",
            "video 1/1 (253/301) /content/yolor/busy_city.mp4: 768x1280 4 persons, 10 cars, 2 motorcycles, 1 buss, 1 trucks, 1 umbrellas, 1 chairs, Done. (0.180s)\n",
            "video 1/1 (254/301) /content/yolor/busy_city.mp4: 768x1280 4 persons, 11 cars, 2 motorcycles, 1 buss, 1 trucks, Done. (0.181s)\n",
            "video 1/1 (255/301) /content/yolor/busy_city.mp4: 768x1280 4 persons, 9 cars, 2 motorcycles, 1 buss, 1 trucks, 1 chairs, Done. (0.180s)\n",
            "video 1/1 (256/301) /content/yolor/busy_city.mp4: 768x1280 3 persons, 10 cars, 2 motorcycles, 1 buss, 1 trucks, 1 umbrellas, 1 chairs, Done. (0.180s)\n",
            "video 1/1 (257/301) /content/yolor/busy_city.mp4: 768x1280 3 persons, 10 cars, 2 motorcycles, 1 buss, 1 trucks, 1 umbrellas, 1 chairs, Done. (0.181s)\n",
            "video 1/1 (258/301) /content/yolor/busy_city.mp4: 768x1280 4 persons, 11 cars, 2 motorcycles, 1 buss, 1 trucks, 1 umbrellas, 1 chairs, Done. (0.180s)\n",
            "video 1/1 (259/301) /content/yolor/busy_city.mp4: 768x1280 3 persons, 10 cars, 2 motorcycles, 1 buss, 1 trucks, 1 chairs, Done. (0.180s)\n",
            "video 1/1 (260/301) /content/yolor/busy_city.mp4: 768x1280 5 persons, 11 cars, 2 motorcycles, 1 buss, 1 trucks, 1 chairs, Done. (0.179s)\n",
            "video 1/1 (261/301) /content/yolor/busy_city.mp4: 768x1280 4 persons, 11 cars, 2 motorcycles, 1 buss, 1 trucks, 1 umbrellas, 1 chairs, Done. (0.180s)\n",
            "video 1/1 (262/301) /content/yolor/busy_city.mp4: 768x1280 4 persons, 12 cars, 2 motorcycles, 1 buss, 1 trucks, 1 umbrellas, 1 chairs, Done. (0.180s)\n",
            "video 1/1 (263/301) /content/yolor/busy_city.mp4: 768x1280 5 persons, 12 cars, 2 motorcycles, 1 buss, 1 trucks, 1 umbrellas, 1 chairs, Done. (0.180s)\n",
            "video 1/1 (264/301) /content/yolor/busy_city.mp4: 768x1280 6 persons, 12 cars, 2 motorcycles, 1 buss, 1 trucks, 1 umbrellas, 1 chairs, Done. (0.180s)\n",
            "video 1/1 (265/301) /content/yolor/busy_city.mp4: 768x1280 3 persons, 12 cars, 2 motorcycles, 1 buss, 1 trucks, Done. (0.180s)\n",
            "video 1/1 (266/301) /content/yolor/busy_city.mp4: 768x1280 3 persons, 11 cars, 2 motorcycles, 1 buss, 1 trucks, 1 umbrellas, Done. (0.181s)\n",
            "video 1/1 (267/301) /content/yolor/busy_city.mp4: 768x1280 3 persons, 12 cars, 2 motorcycles, 1 buss, 1 trucks, Done. (0.179s)\n",
            "video 1/1 (268/301) /content/yolor/busy_city.mp4: 768x1280 2 persons, 12 cars, 2 motorcycles, 1 buss, 1 trucks, Done. (0.181s)\n",
            "video 1/1 (269/301) /content/yolor/busy_city.mp4: 768x1280 3 persons, 11 cars, 2 motorcycles, 1 buss, 1 trucks, Done. (0.180s)\n",
            "video 1/1 (270/301) /content/yolor/busy_city.mp4: 768x1280 3 persons, 12 cars, 2 motorcycles, 1 buss, 1 trucks, Done. (0.180s)\n",
            "video 1/1 (271/301) /content/yolor/busy_city.mp4: 768x1280 4 persons, 11 cars, 2 motorcycles, 1 buss, 1 trucks, Done. (0.179s)\n",
            "video 1/1 (272/301) /content/yolor/busy_city.mp4: 768x1280 5 persons, 11 cars, 2 motorcycles, 1 buss, 1 trucks, Done. (0.180s)\n",
            "video 1/1 (273/301) /content/yolor/busy_city.mp4: 768x1280 4 persons, 11 cars, 2 motorcycles, 1 buss, 1 trucks, Done. (0.181s)\n",
            "video 1/1 (274/301) /content/yolor/busy_city.mp4: 768x1280 3 persons, 10 cars, 2 motorcycles, 1 buss, 1 trucks, Done. (0.180s)\n",
            "video 1/1 (275/301) /content/yolor/busy_city.mp4: 768x1280 3 persons, 11 cars, 2 motorcycles, 1 buss, 1 trucks, 1 traffic lights, Done. (0.179s)\n",
            "video 1/1 (276/301) /content/yolor/busy_city.mp4: 768x1280 4 persons, 10 cars, 2 motorcycles, 1 buss, 1 trucks, Done. (0.180s)\n",
            "video 1/1 (277/301) /content/yolor/busy_city.mp4: 768x1280 5 persons, 10 cars, 2 motorcycles, 1 buss, 1 trucks, Done. (0.180s)\n",
            "video 1/1 (278/301) /content/yolor/busy_city.mp4: 768x1280 4 persons, 11 cars, 2 motorcycles, 1 buss, 1 trucks, 1 umbrellas, Done. (0.180s)\n",
            "video 1/1 (279/301) /content/yolor/busy_city.mp4: 768x1280 5 persons, 11 cars, 2 motorcycles, 1 buss, 1 trucks, 1 umbrellas, Done. (0.180s)\n",
            "video 1/1 (280/301) /content/yolor/busy_city.mp4: 768x1280 4 persons, 11 cars, 2 motorcycles, 1 buss, 1 trucks, 1 umbrellas, Done. (0.180s)\n",
            "video 1/1 (281/301) /content/yolor/busy_city.mp4: 768x1280 2 persons, 12 cars, 2 motorcycles, 1 buss, 1 trucks, 2 traffic lights, 1 umbrellas, Done. (0.180s)\n",
            "video 1/1 (282/301) /content/yolor/busy_city.mp4: 768x1280 5 persons, 11 cars, 2 motorcycles, 1 buss, 1 trucks, 1 traffic lights, 1 umbrellas, Done. (0.181s)\n",
            "video 1/1 (283/301) /content/yolor/busy_city.mp4: 768x1280 5 persons, 11 cars, 2 motorcycles, 1 buss, 1 trucks, 1 traffic lights, 1 umbrellas, Done. (0.180s)\n",
            "video 1/1 (284/301) /content/yolor/busy_city.mp4: 768x1280 5 persons, 11 cars, 2 motorcycles, 1 buss, 1 trucks, 1 traffic lights, 1 umbrellas, Done. (0.181s)\n",
            "video 1/1 (285/301) /content/yolor/busy_city.mp4: 768x1280 5 persons, 12 cars, 2 motorcycles, 1 buss, 1 trucks, 2 traffic lights, 1 umbrellas, Done. (0.180s)\n",
            "video 1/1 (286/301) /content/yolor/busy_city.mp4: 768x1280 5 persons, 13 cars, 2 motorcycles, 1 buss, 1 trucks, 1 traffic lights, 1 umbrellas, Done. (0.180s)\n",
            "video 1/1 (287/301) /content/yolor/busy_city.mp4: 768x1280 4 persons, 12 cars, 2 motorcycles, 1 buss, 1 trucks, 1 traffic lights, 1 umbrellas, Done. (0.179s)\n",
            "video 1/1 (288/301) /content/yolor/busy_city.mp4: 768x1280 4 persons, 12 cars, 2 motorcycles, 1 buss, 1 trucks, 1 traffic lights, 1 umbrellas, Done. (0.181s)\n",
            "video 1/1 (289/301) /content/yolor/busy_city.mp4: 768x1280 5 persons, 11 cars, 2 motorcycles, 1 buss, 1 trucks, 1 traffic lights, 1 umbrellas, Done. (0.180s)\n",
            "video 1/1 (290/301) /content/yolor/busy_city.mp4: 768x1280 6 persons, 11 cars, 2 motorcycles, 1 buss, 1 trucks, 1 traffic lights, 1 umbrellas, Done. (0.180s)\n",
            "video 1/1 (291/301) /content/yolor/busy_city.mp4: 768x1280 5 persons, 11 cars, 2 motorcycles, 1 buss, 1 trucks, 1 traffic lights, 1 umbrellas, Done. (0.181s)\n",
            "video 1/1 (292/301) /content/yolor/busy_city.mp4: 768x1280 4 persons, 11 cars, 2 motorcycles, 1 buss, 1 trucks, 1 traffic lights, 1 umbrellas, Done. (0.180s)\n",
            "video 1/1 (293/301) /content/yolor/busy_city.mp4: 768x1280 6 persons, 11 cars, 2 motorcycles, 1 buss, 1 trucks, 1 traffic lights, 2 umbrellas, Done. (0.180s)\n",
            "video 1/1 (294/301) /content/yolor/busy_city.mp4: 768x1280 5 persons, 10 cars, 2 motorcycles, 1 buss, 1 trucks, 1 traffic lights, 2 umbrellas, Done. (0.181s)\n",
            "video 1/1 (295/301) /content/yolor/busy_city.mp4: 768x1280 5 persons, 12 cars, 2 motorcycles, 1 buss, 1 trucks, 1 traffic lights, 2 umbrellas, Done. (0.180s)\n",
            "video 1/1 (296/301) /content/yolor/busy_city.mp4: 768x1280 4 persons, 13 cars, 2 motorcycles, 1 buss, 1 traffic lights, 2 umbrellas, Done. (0.180s)\n",
            "video 1/1 (297/301) /content/yolor/busy_city.mp4: 768x1280 3 persons, 12 cars, 2 motorcycles, 1 buss, 1 trucks, 1 traffic lights, 2 umbrellas, Done. (0.181s)\n",
            "video 1/1 (298/301) /content/yolor/busy_city.mp4: 768x1280 4 persons, 13 cars, 2 motorcycles, 1 buss, 1 trucks, 1 traffic lights, 2 umbrellas, Done. (0.180s)\n",
            "video 1/1 (299/301) /content/yolor/busy_city.mp4: 768x1280 3 persons, 11 cars, 2 motorcycles, 1 buss, 1 trucks, 1 traffic lights, 2 umbrellas, Done. (0.179s)\n",
            "video 1/1 (300/301) /content/yolor/busy_city.mp4: 768x1280 4 persons, 12 cars, 2 motorcycles, 1 buss, 1 trucks, 1 traffic lights, 1 umbrellas, Done. (0.180s)\n",
            "video 1/1 (301/301) /content/yolor/busy_city.mp4: 768x1280 1 persons, 10 cars, 1 motorcycles, 1 buss, 1 trucks, Done. (0.180s)\n",
            "Results saved to /content/drive/MyDrive/yolov4/yolo_output_video\n",
            "Done. (64.896s)\n"
          ]
        }
      ]
    },
    {
      "cell_type": "markdown",
      "metadata": {
        "id": "LFlRSFBXiKKq"
      },
      "source": [
        "**OR**"
      ]
    },
    {
      "cell_type": "markdown",
      "metadata": {
        "id": "eq8FbMm4pJjT"
      },
      "source": [
        "## **Get Video From Drive**\n",
        "\n",
        "**[USER INPUT] Upload video from Google Drive**\n",
        "\n",
        "You will need to specify your input and output folders on GDrive."
      ]
    },
    {
      "cell_type": "code",
      "metadata": {
        "id": "X4dXlXPmiHHr",
        "outputId": "19d72617-ad51-432d-9288-c3fce1a06cbf",
        "colab": {
          "base_uri": "https://localhost:8080/"
        }
      },
      "source": [
        "!python detect.py --source /content/drive/MyDrive/yolov4/busy_city.mp4 --cfg cfg/yolor_p6.cfg --weights yolor_p6.pt --conf 0.25 --img-size 1280 --device 0 --output /content/drive/MyDrive/yolov4/yolo_output_video"
      ],
      "execution_count": 20,
      "outputs": [
        {
          "output_type": "stream",
          "name": "stdout",
          "text": [
            "Namespace(agnostic_nms=False, augment=False, cfg='cfg/yolor_p6.cfg', classes=None, conf_thres=0.25, device='0', img_size=1280, iou_thres=0.5, names='data/coco.names', output='/content/drive/MyDrive/yolov4/yolo_output_video', save_txt=False, source='/content/drive/MyDrive/yolov4/busy_city.mp4', update=False, view_img=False, weights=['yolor_p6.pt'])\n",
            "video 1/1 (1/301) /content/drive/MyDrive/yolov4/busy_city.mp4: 768x1280 10 persons, 7 cars, 7 motorcycles, 1 buss, 1 trucks, 2 traffic lights, 1 backpacks, 1 umbrellas, 4 chairs, Done. (0.200s)\n",
            "video 1/1 (2/301) /content/drive/MyDrive/yolov4/busy_city.mp4: 768x1280 8 persons, 1 bicycles, 9 cars, 6 motorcycles, 1 buss, 1 trucks, 3 traffic lights, 2 backpacks, 2 umbrellas, 3 chairs, Done. (0.186s)\n",
            "video 1/1 (3/301) /content/drive/MyDrive/yolov4/busy_city.mp4: 768x1280 10 persons, 1 bicycles, 10 cars, 6 motorcycles, 1 buss, 2 trucks, 3 traffic lights, 2 backpacks, 2 umbrellas, 3 chairs, Done. (0.183s)\n",
            "video 1/1 (4/301) /content/drive/MyDrive/yolov4/busy_city.mp4: 768x1280 8 persons, 1 bicycles, 11 cars, 6 motorcycles, 1 buss, 1 trucks, 3 traffic lights, 1 backpacks, 2 umbrellas, 4 chairs, Done. (0.184s)\n",
            "video 1/1 (5/301) /content/drive/MyDrive/yolov4/busy_city.mp4: 768x1280 7 persons, 1 bicycles, 10 cars, 6 motorcycles, 1 buss, 1 trucks, 2 traffic lights, 2 backpacks, 2 umbrellas, 3 chairs, Done. (0.183s)\n",
            "video 1/1 (6/301) /content/drive/MyDrive/yolov4/busy_city.mp4: 768x1280 10 persons, 1 bicycles, 9 cars, 6 motorcycles, 1 buss, 2 trucks, 3 traffic lights, 2 backpacks, 2 umbrellas, 3 chairs, Done. (0.182s)\n",
            "video 1/1 (7/301) /content/drive/MyDrive/yolov4/busy_city.mp4: 768x1280 10 persons, 1 bicycles, 11 cars, 6 motorcycles, 1 buss, 2 trucks, 2 traffic lights, 1 backpacks, 2 umbrellas, 3 chairs, Done. (0.180s)\n",
            "video 1/1 (8/301) /content/drive/MyDrive/yolov4/busy_city.mp4: 768x1280 8 persons, 10 cars, 6 motorcycles, 1 buss, 1 trucks, 3 traffic lights, 1 backpacks, 2 umbrellas, 4 chairs, Done. (0.179s)\n",
            "video 1/1 (9/301) /content/drive/MyDrive/yolov4/busy_city.mp4: 768x1280 10 persons, 11 cars, 6 motorcycles, 1 buss, 1 trucks, 3 traffic lights, 1 backpacks, 2 umbrellas, 4 chairs, Done. (0.178s)\n",
            "video 1/1 (10/301) /content/drive/MyDrive/yolov4/busy_city.mp4: 768x1280 10 persons, 9 cars, 6 motorcycles, 1 buss, 1 trucks, 3 traffic lights, 1 backpacks, 2 umbrellas, 4 chairs, Done. (0.179s)\n",
            "video 1/1 (11/301) /content/drive/MyDrive/yolov4/busy_city.mp4: 768x1280 9 persons, 9 cars, 6 motorcycles, 1 buss, 1 trucks, 1 traffic lights, 1 backpacks, 2 umbrellas, 4 chairs, Done. (0.179s)\n",
            "video 1/1 (12/301) /content/drive/MyDrive/yolov4/busy_city.mp4: 768x1280 9 persons, 11 cars, 5 motorcycles, 1 buss, 1 trucks, 3 traffic lights, 1 backpacks, 2 umbrellas, 4 chairs, Done. (0.179s)\n",
            "video 1/1 (13/301) /content/drive/MyDrive/yolov4/busy_city.mp4: 768x1280 10 persons, 1 bicycles, 9 cars, 5 motorcycles, 1 buss, 1 trucks, 2 traffic lights, 1 backpacks, 2 umbrellas, 4 chairs, Done. (0.178s)\n",
            "video 1/1 (14/301) /content/drive/MyDrive/yolov4/busy_city.mp4: 768x1280 8 persons, 1 bicycles, 10 cars, 5 motorcycles, 1 buss, 1 trucks, 2 traffic lights, 1 backpacks, 2 umbrellas, 3 chairs, Done. (0.179s)\n",
            "video 1/1 (15/301) /content/drive/MyDrive/yolov4/busy_city.mp4: 768x1280 9 persons, 1 bicycles, 10 cars, 6 motorcycles, 1 buss, 1 trucks, 3 traffic lights, 1 backpacks, 2 umbrellas, 2 chairs, Done. (0.178s)\n",
            "video 1/1 (16/301) /content/drive/MyDrive/yolov4/busy_city.mp4: 768x1280 9 persons, 10 cars, 6 motorcycles, 1 buss, 1 trucks, 3 traffic lights, 1 backpacks, 1 umbrellas, 2 chairs, Done. (0.179s)\n",
            "video 1/1 (17/301) /content/drive/MyDrive/yolov4/busy_city.mp4: 768x1280 9 persons, 1 bicycles, 9 cars, 7 motorcycles, 1 buss, 1 trucks, 2 traffic lights, 1 backpacks, 1 umbrellas, 2 chairs, Done. (0.179s)\n",
            "video 1/1 (18/301) /content/drive/MyDrive/yolov4/busy_city.mp4: 768x1280 9 persons, 9 cars, 7 motorcycles, 1 buss, 1 trucks, 3 traffic lights, 1 backpacks, 2 umbrellas, 2 chairs, Done. (0.178s)\n",
            "video 1/1 (19/301) /content/drive/MyDrive/yolov4/busy_city.mp4: 768x1280 9 persons, 10 cars, 7 motorcycles, 1 buss, 1 trucks, 4 traffic lights, 1 backpacks, 1 umbrellas, 2 chairs, Done. (0.178s)\n",
            "video 1/1 (20/301) /content/drive/MyDrive/yolov4/busy_city.mp4: 768x1280 9 persons, 10 cars, 7 motorcycles, 1 buss, 3 traffic lights, 2 backpacks, 1 umbrellas, 2 chairs, Done. (0.179s)\n",
            "video 1/1 (21/301) /content/drive/MyDrive/yolov4/busy_city.mp4: 768x1280 9 persons, 1 bicycles, 8 cars, 7 motorcycles, 1 buss, 2 traffic lights, 2 backpacks, 1 umbrellas, 2 chairs, Done. (0.179s)\n",
            "video 1/1 (22/301) /content/drive/MyDrive/yolov4/busy_city.mp4: 768x1280 10 persons, 1 bicycles, 9 cars, 8 motorcycles, 1 buss, 3 traffic lights, 1 backpacks, 1 umbrellas, 2 chairs, Done. (0.179s)\n",
            "video 1/1 (23/301) /content/drive/MyDrive/yolov4/busy_city.mp4: 768x1280 11 persons, 1 bicycles, 9 cars, 7 motorcycles, 1 buss, 2 traffic lights, 1 backpacks, 1 umbrellas, 2 chairs, Done. (0.179s)\n",
            "video 1/1 (24/301) /content/drive/MyDrive/yolov4/busy_city.mp4: 768x1280 10 persons, 1 bicycles, 9 cars, 7 motorcycles, 1 buss, 1 trucks, 3 traffic lights, 1 backpacks, 1 umbrellas, 2 chairs, Done. (0.180s)\n",
            "video 1/1 (25/301) /content/drive/MyDrive/yolov4/busy_city.mp4: 768x1280 11 persons, 9 cars, 9 motorcycles, 1 buss, 3 traffic lights, 1 backpacks, 1 umbrellas, 2 chairs, Done. (0.179s)\n",
            "video 1/1 (26/301) /content/drive/MyDrive/yolov4/busy_city.mp4: 768x1280 9 persons, 9 cars, 8 motorcycles, 1 buss, 3 traffic lights, 1 backpacks, 1 umbrellas, 2 chairs, Done. (0.179s)\n",
            "video 1/1 (27/301) /content/drive/MyDrive/yolov4/busy_city.mp4: 768x1280 10 persons, 9 cars, 8 motorcycles, 1 buss, 1 trucks, 2 traffic lights, 1 backpacks, 1 umbrellas, 2 chairs, Done. (0.179s)\n",
            "video 1/1 (28/301) /content/drive/MyDrive/yolov4/busy_city.mp4: 768x1280 10 persons, 10 cars, 8 motorcycles, 1 buss, 1 trucks, 3 traffic lights, 1 backpacks, 1 umbrellas, 2 chairs, Done. (0.179s)\n",
            "video 1/1 (29/301) /content/drive/MyDrive/yolov4/busy_city.mp4: 768x1280 10 persons, 10 cars, 8 motorcycles, 1 buss, 1 trucks, 2 traffic lights, 2 backpacks, 1 umbrellas, 1 chairs, Done. (0.179s)\n",
            "video 1/1 (30/301) /content/drive/MyDrive/yolov4/busy_city.mp4: 768x1280 9 persons, 1 bicycles, 9 cars, 8 motorcycles, 1 buss, 1 trucks, 3 traffic lights, 1 backpacks, 1 umbrellas, 1 chairs, Done. (0.179s)\n",
            "video 1/1 (31/301) /content/drive/MyDrive/yolov4/busy_city.mp4: 768x1280 7 persons, 1 bicycles, 10 cars, 7 motorcycles, 1 buss, 2 traffic lights, 2 backpacks, 1 umbrellas, Done. (0.179s)\n",
            "video 1/1 (32/301) /content/drive/MyDrive/yolov4/busy_city.mp4: 768x1280 7 persons, 1 bicycles, 12 cars, 8 motorcycles, 1 buss, 3 traffic lights, 2 backpacks, 1 umbrellas, Done. (0.180s)\n",
            "video 1/1 (33/301) /content/drive/MyDrive/yolov4/busy_city.mp4: 768x1280 7 persons, 12 cars, 8 motorcycles, 1 buss, 2 traffic lights, 1 backpacks, 1 umbrellas, Done. (0.179s)\n",
            "video 1/1 (34/301) /content/drive/MyDrive/yolov4/busy_city.mp4: 768x1280 8 persons, 13 cars, 8 motorcycles, 1 buss, 4 traffic lights, 1 backpacks, 1 umbrellas, Done. (0.179s)\n",
            "video 1/1 (35/301) /content/drive/MyDrive/yolov4/busy_city.mp4: 768x1280 7 persons, 12 cars, 8 motorcycles, 1 buss, 4 traffic lights, 1 backpacks, 1 umbrellas, Done. (0.179s)\n",
            "video 1/1 (36/301) /content/drive/MyDrive/yolov4/busy_city.mp4: 768x1280 7 persons, 1 bicycles, 11 cars, 9 motorcycles, 1 buss, 4 traffic lights, 1 backpacks, 1 umbrellas, Done. (0.180s)\n",
            "video 1/1 (37/301) /content/drive/MyDrive/yolov4/busy_city.mp4: 768x1280 7 persons, 1 bicycles, 11 cars, 9 motorcycles, 1 buss, 3 traffic lights, 1 backpacks, 1 umbrellas, Done. (0.179s)\n",
            "video 1/1 (38/301) /content/drive/MyDrive/yolov4/busy_city.mp4: 768x1280 8 persons, 1 bicycles, 12 cars, 10 motorcycles, 1 buss, 3 traffic lights, 1 backpacks, 1 umbrellas, Done. (0.181s)\n",
            "video 1/1 (39/301) /content/drive/MyDrive/yolov4/busy_city.mp4: 768x1280 8 persons, 12 cars, 9 motorcycles, 1 buss, 1 trucks, 3 traffic lights, 1 backpacks, 1 umbrellas, Done. (0.179s)\n",
            "video 1/1 (40/301) /content/drive/MyDrive/yolov4/busy_city.mp4: 768x1280 7 persons, 12 cars, 8 motorcycles, 1 buss, 1 trucks, 3 traffic lights, 1 backpacks, 1 umbrellas, Done. (0.179s)\n",
            "video 1/1 (41/301) /content/drive/MyDrive/yolov4/busy_city.mp4: 768x1280 7 persons, 12 cars, 9 motorcycles, 1 buss, 1 trucks, 3 traffic lights, 1 backpacks, 1 umbrellas, Done. (0.179s)\n",
            "video 1/1 (42/301) /content/drive/MyDrive/yolov4/busy_city.mp4: 768x1280 6 persons, 1 bicycles, 10 cars, 8 motorcycles, 1 buss, 1 trucks, 3 traffic lights, 1 backpacks, 1 umbrellas, Done. (0.179s)\n",
            "video 1/1 (43/301) /content/drive/MyDrive/yolov4/busy_city.mp4: 768x1280 9 persons, 10 cars, 8 motorcycles, 1 buss, 1 trucks, 3 traffic lights, 1 backpacks, 1 umbrellas, Done. (0.180s)\n",
            "video 1/1 (44/301) /content/drive/MyDrive/yolov4/busy_city.mp4: 768x1280 7 persons, 10 cars, 8 motorcycles, 1 buss, 1 trucks, 3 traffic lights, 1 backpacks, 1 umbrellas, Done. (0.178s)\n",
            "video 1/1 (45/301) /content/drive/MyDrive/yolov4/busy_city.mp4: 768x1280 7 persons, 9 cars, 8 motorcycles, 1 buss, 3 traffic lights, 1 backpacks, 1 umbrellas, Done. (0.178s)\n",
            "video 1/1 (46/301) /content/drive/MyDrive/yolov4/busy_city.mp4: 768x1280 7 persons, 10 cars, 8 motorcycles, 1 buss, 3 traffic lights, 1 backpacks, 1 umbrellas, Done. (0.179s)\n",
            "video 1/1 (47/301) /content/drive/MyDrive/yolov4/busy_city.mp4: 768x1280 7 persons, 12 cars, 10 motorcycles, 1 buss, 3 traffic lights, 1 backpacks, 1 umbrellas, Done. (0.179s)\n",
            "video 1/1 (48/301) /content/drive/MyDrive/yolov4/busy_city.mp4: 768x1280 6 persons, 11 cars, 9 motorcycles, 1 buss, 3 traffic lights, 1 umbrellas, Done. (0.179s)\n",
            "video 1/1 (49/301) /content/drive/MyDrive/yolov4/busy_city.mp4: 768x1280 6 persons, 11 cars, 9 motorcycles, 1 buss, 3 traffic lights, Done. (0.180s)\n",
            "video 1/1 (50/301) /content/drive/MyDrive/yolov4/busy_city.mp4: 768x1280 5 persons, 1 bicycles, 10 cars, 8 motorcycles, 1 buss, 3 traffic lights, 1 umbrellas, Done. (0.180s)\n",
            "video 1/1 (51/301) /content/drive/MyDrive/yolov4/busy_city.mp4: 768x1280 7 persons, 1 bicycles, 9 cars, 8 motorcycles, 1 buss, 3 traffic lights, 1 backpacks, Done. (0.179s)\n",
            "video 1/1 (52/301) /content/drive/MyDrive/yolov4/busy_city.mp4: 768x1280 8 persons, 1 bicycles, 10 cars, 9 motorcycles, 1 buss, 1 trucks, 3 traffic lights, 1 umbrellas, Done. (0.180s)\n",
            "video 1/1 (53/301) /content/drive/MyDrive/yolov4/busy_city.mp4: 768x1280 8 persons, 1 bicycles, 12 cars, 9 motorcycles, 1 buss, 3 traffic lights, 1 umbrellas, Done. (0.180s)\n",
            "video 1/1 (54/301) /content/drive/MyDrive/yolov4/busy_city.mp4: 768x1280 8 persons, 1 bicycles, 10 cars, 9 motorcycles, 1 buss, 3 traffic lights, 1 umbrellas, Done. (0.178s)\n",
            "video 1/1 (55/301) /content/drive/MyDrive/yolov4/busy_city.mp4: 768x1280 8 persons, 1 bicycles, 11 cars, 9 motorcycles, 1 buss, 3 traffic lights, 1 umbrellas, 1 chairs, Done. (0.179s)\n",
            "video 1/1 (56/301) /content/drive/MyDrive/yolov4/busy_city.mp4: 768x1280 10 persons, 1 bicycles, 10 cars, 9 motorcycles, 1 buss, 3 traffic lights, 1 umbrellas, 1 chairs, Done. (0.180s)\n",
            "video 1/1 (57/301) /content/drive/MyDrive/yolov4/busy_city.mp4: 768x1280 11 persons, 1 bicycles, 9 cars, 8 motorcycles, 1 buss, 3 traffic lights, 1 umbrellas, 1 chairs, Done. (0.178s)\n",
            "video 1/1 (58/301) /content/drive/MyDrive/yolov4/busy_city.mp4: 768x1280 11 persons, 1 bicycles, 10 cars, 9 motorcycles, 1 buss, 3 traffic lights, 1 umbrellas, Done. (0.179s)\n",
            "video 1/1 (59/301) /content/drive/MyDrive/yolov4/busy_city.mp4: 768x1280 9 persons, 12 cars, 7 motorcycles, 1 buss, 2 traffic lights, 1 umbrellas, Done. (0.180s)\n",
            "video 1/1 (60/301) /content/drive/MyDrive/yolov4/busy_city.mp4: 768x1280 11 persons, 1 bicycles, 10 cars, 9 motorcycles, 1 buss, 1 trucks, 2 traffic lights, 1 umbrellas, Done. (0.179s)\n",
            "video 1/1 (61/301) /content/drive/MyDrive/yolov4/busy_city.mp4: 768x1280 12 persons, 1 bicycles, 11 cars, 9 motorcycles, 1 buss, 1 trucks, 3 traffic lights, 2 umbrellas, 3 chairs, Done. (0.180s)\n",
            "video 1/1 (62/301) /content/drive/MyDrive/yolov4/busy_city.mp4: 768x1280 12 persons, 1 bicycles, 12 cars, 9 motorcycles, 1 buss, 1 trucks, 2 traffic lights, 2 umbrellas, 3 chairs, Done. (0.179s)\n",
            "video 1/1 (63/301) /content/drive/MyDrive/yolov4/busy_city.mp4: 768x1280 11 persons, 11 cars, 8 motorcycles, 1 buss, 1 trucks, 2 traffic lights, 2 umbrellas, 4 chairs, Done. (0.179s)\n",
            "video 1/1 (64/301) /content/drive/MyDrive/yolov4/busy_city.mp4: 768x1280 11 persons, 12 cars, 7 motorcycles, 1 buss, 1 trucks, 2 traffic lights, 2 umbrellas, 4 chairs, Done. (0.180s)\n",
            "video 1/1 (65/301) /content/drive/MyDrive/yolov4/busy_city.mp4: 768x1280 13 persons, 12 cars, 7 motorcycles, 1 buss, 1 trucks, 3 traffic lights, 2 umbrellas, 4 chairs, Done. (0.179s)\n",
            "video 1/1 (66/301) /content/drive/MyDrive/yolov4/busy_city.mp4: 768x1280 14 persons, 12 cars, 7 motorcycles, 1 buss, 1 trucks, 3 traffic lights, 2 umbrellas, 4 chairs, Done. (0.180s)\n",
            "video 1/1 (67/301) /content/drive/MyDrive/yolov4/busy_city.mp4: 768x1280 13 persons, 11 cars, 9 motorcycles, 1 buss, 1 trucks, 4 traffic lights, 1 umbrellas, 4 chairs, Done. (0.179s)\n",
            "video 1/1 (68/301) /content/drive/MyDrive/yolov4/busy_city.mp4: 768x1280 10 persons, 11 cars, 9 motorcycles, 1 buss, 1 trucks, 3 traffic lights, 1 fire hydrants, 1 umbrellas, 4 chairs, Done. (0.179s)\n",
            "video 1/1 (69/301) /content/drive/MyDrive/yolov4/busy_city.mp4: 768x1280 9 persons, 9 cars, 9 motorcycles, 1 buss, 1 trucks, 4 traffic lights, 1 fire hydrants, 1 umbrellas, 4 chairs, Done. (0.179s)\n",
            "video 1/1 (70/301) /content/drive/MyDrive/yolov4/busy_city.mp4: 768x1280 10 persons, 10 cars, 9 motorcycles, 1 buss, 1 trucks, 3 traffic lights, 1 umbrellas, 3 chairs, Done. (0.179s)\n",
            "video 1/1 (71/301) /content/drive/MyDrive/yolov4/busy_city.mp4: 768x1280 10 persons, 10 cars, 8 motorcycles, 1 buss, 1 trucks, 4 traffic lights, 1 fire hydrants, 1 umbrellas, 2 chairs, Done. (0.179s)\n",
            "video 1/1 (72/301) /content/drive/MyDrive/yolov4/busy_city.mp4: 768x1280 10 persons, 10 cars, 8 motorcycles, 1 buss, 1 trucks, 2 traffic lights, 1 umbrellas, 3 chairs, Done. (0.179s)\n",
            "video 1/1 (73/301) /content/drive/MyDrive/yolov4/busy_city.mp4: 768x1280 10 persons, 9 cars, 9 motorcycles, 1 buss, 1 trucks, 2 traffic lights, 1 fire hydrants, 1 umbrellas, 2 chairs, Done. (0.179s)\n",
            "video 1/1 (74/301) /content/drive/MyDrive/yolov4/busy_city.mp4: 768x1280 12 persons, 9 cars, 9 motorcycles, 1 buss, 1 trucks, 3 traffic lights, 1 chairs, Done. (0.180s)\n",
            "video 1/1 (75/301) /content/drive/MyDrive/yolov4/busy_city.mp4: 768x1280 10 persons, 10 cars, 7 motorcycles, 1 buss, 1 trucks, 2 traffic lights, 1 umbrellas, 4 chairs, Done. (0.179s)\n",
            "video 1/1 (76/301) /content/drive/MyDrive/yolov4/busy_city.mp4: 768x1280 11 persons, 10 cars, 8 motorcycles, 1 buss, 1 trucks, 3 traffic lights, 2 umbrellas, 4 chairs, Done. (0.180s)\n",
            "video 1/1 (77/301) /content/drive/MyDrive/yolov4/busy_city.mp4: 768x1280 10 persons, 9 cars, 8 motorcycles, 1 buss, 1 trucks, 2 traffic lights, 1 umbrellas, 3 chairs, Done. (0.179s)\n",
            "video 1/1 (78/301) /content/drive/MyDrive/yolov4/busy_city.mp4: 768x1280 8 persons, 9 cars, 7 motorcycles, 1 buss, 1 trucks, 1 traffic lights, 1 umbrellas, 2 chairs, Done. (0.180s)\n",
            "video 1/1 (79/301) /content/drive/MyDrive/yolov4/busy_city.mp4: 768x1280 9 persons, 8 cars, 9 motorcycles, 1 buss, 1 trucks, 1 traffic lights, 1 umbrellas, 1 chairs, Done. (0.180s)\n",
            "video 1/1 (80/301) /content/drive/MyDrive/yolov4/busy_city.mp4: 768x1280 10 persons, 1 bicycles, 8 cars, 7 motorcycles, 1 buss, 1 trucks, 1 traffic lights, 2 umbrellas, 1 chairs, Done. (0.179s)\n",
            "video 1/1 (81/301) /content/drive/MyDrive/yolov4/busy_city.mp4: 768x1280 8 persons, 8 cars, 8 motorcycles, 1 buss, 1 trucks, 2 traffic lights, 2 umbrellas, 2 chairs, Done. (0.179s)\n",
            "video 1/1 (82/301) /content/drive/MyDrive/yolov4/busy_city.mp4: 768x1280 10 persons, 9 cars, 7 motorcycles, 1 buss, 1 trucks, 2 traffic lights, 2 umbrellas, 1 chairs, Done. (0.180s)\n",
            "video 1/1 (83/301) /content/drive/MyDrive/yolov4/busy_city.mp4: 768x1280 8 persons, 8 cars, 7 motorcycles, 1 buss, 1 trucks, 2 traffic lights, 2 umbrellas, 1 chairs, Done. (0.179s)\n",
            "video 1/1 (84/301) /content/drive/MyDrive/yolov4/busy_city.mp4: 768x1280 9 persons, 9 cars, 7 motorcycles, 1 buss, 1 trucks, 3 traffic lights, 1 umbrellas, 1 chairs, Done. (0.179s)\n",
            "video 1/1 (85/301) /content/drive/MyDrive/yolov4/busy_city.mp4: 768x1280 7 persons, 9 cars, 7 motorcycles, 1 buss, 2 traffic lights, 1 umbrellas, 1 chairs, Done. (0.180s)\n",
            "video 1/1 (86/301) /content/drive/MyDrive/yolov4/busy_city.mp4: 768x1280 7 persons, 9 cars, 8 motorcycles, 1 buss, 2 traffic lights, 2 umbrellas, 2 chairs, Done. (0.179s)\n",
            "video 1/1 (87/301) /content/drive/MyDrive/yolov4/busy_city.mp4: 768x1280 7 persons, 10 cars, 6 motorcycles, 1 buss, 2 traffic lights, 2 umbrellas, 1 chairs, Done. (0.180s)\n",
            "video 1/1 (88/301) /content/drive/MyDrive/yolov4/busy_city.mp4: 768x1280 6 persons, 10 cars, 6 motorcycles, 1 buss, 2 traffic lights, 2 umbrellas, 2 chairs, Done. (0.180s)\n",
            "video 1/1 (89/301) /content/drive/MyDrive/yolov4/busy_city.mp4: 768x1280 6 persons, 10 cars, 6 motorcycles, 1 buss, 2 traffic lights, 2 umbrellas, 2 chairs, Done. (0.180s)\n",
            "video 1/1 (90/301) /content/drive/MyDrive/yolov4/busy_city.mp4: 768x1280 7 persons, 10 cars, 7 motorcycles, 1 buss, 2 traffic lights, 1 umbrellas, 1 chairs, Done. (0.179s)\n",
            "video 1/1 (91/301) /content/drive/MyDrive/yolov4/busy_city.mp4: 768x1280 7 persons, 9 cars, 6 motorcycles, 1 buss, 3 traffic lights, 1 umbrellas, 1 chairs, Done. (0.179s)\n",
            "video 1/1 (92/301) /content/drive/MyDrive/yolov4/busy_city.mp4: 768x1280 9 persons, 9 cars, 6 motorcycles, 1 buss, 3 traffic lights, 1 umbrellas, 1 chairs, Done. (0.180s)\n",
            "video 1/1 (93/301) /content/drive/MyDrive/yolov4/busy_city.mp4: 768x1280 9 persons, 8 cars, 5 motorcycles, 1 buss, 1 traffic lights, 1 umbrellas, 1 chairs, Done. (0.180s)\n",
            "video 1/1 (94/301) /content/drive/MyDrive/yolov4/busy_city.mp4: 768x1280 7 persons, 8 cars, 8 motorcycles, 1 buss, 3 traffic lights, 1 umbrellas, Done. (0.180s)\n",
            "video 1/1 (95/301) /content/drive/MyDrive/yolov4/busy_city.mp4: 768x1280 7 persons, 7 cars, 7 motorcycles, 1 buss, 1 trucks, 1 traffic lights, 1 umbrellas, 1 chairs, Done. (0.180s)\n",
            "video 1/1 (96/301) /content/drive/MyDrive/yolov4/busy_city.mp4: 768x1280 6 persons, 8 cars, 8 motorcycles, 1 buss, 2 traffic lights, 1 umbrellas, 1 chairs, Done. (0.181s)\n",
            "video 1/1 (97/301) /content/drive/MyDrive/yolov4/busy_city.mp4: 768x1280 4 persons, 9 cars, 8 motorcycles, 1 buss, 3 traffic lights, 1 umbrellas, 1 chairs, Done. (0.180s)\n",
            "video 1/1 (98/301) /content/drive/MyDrive/yolov4/busy_city.mp4: 768x1280 7 persons, 8 cars, 5 motorcycles, 1 buss, 3 traffic lights, 2 umbrellas, 2 chairs, Done. (0.180s)\n",
            "video 1/1 (99/301) /content/drive/MyDrive/yolov4/busy_city.mp4: 768x1280 6 persons, 9 cars, 6 motorcycles, 1 buss, 3 traffic lights, 2 umbrellas, 2 chairs, Done. (0.179s)\n",
            "video 1/1 (100/301) /content/drive/MyDrive/yolov4/busy_city.mp4: 768x1280 5 persons, 9 cars, 6 motorcycles, 1 buss, 1 traffic lights, 2 umbrellas, 2 chairs, Done. (0.180s)\n",
            "video 1/1 (101/301) /content/drive/MyDrive/yolov4/busy_city.mp4: 768x1280 4 persons, 8 cars, 6 motorcycles, 1 buss, 2 traffic lights, 1 umbrellas, 2 chairs, Done. (0.179s)\n",
            "video 1/1 (102/301) /content/drive/MyDrive/yolov4/busy_city.mp4: 768x1280 4 persons, 1 bicycles, 11 cars, 5 motorcycles, 1 buss, 2 traffic lights, 1 umbrellas, 2 chairs, Done. (0.179s)\n",
            "video 1/1 (103/301) /content/drive/MyDrive/yolov4/busy_city.mp4: 768x1280 6 persons, 1 bicycles, 9 cars, 5 motorcycles, 1 buss, 1 trucks, 2 traffic lights, 2 umbrellas, 2 chairs, Done. (0.179s)\n",
            "video 1/1 (104/301) /content/drive/MyDrive/yolov4/busy_city.mp4: 768x1280 7 persons, 10 cars, 5 motorcycles, 1 buss, 3 traffic lights, 2 umbrellas, 2 chairs, Done. (0.179s)\n",
            "video 1/1 (105/301) /content/drive/MyDrive/yolov4/busy_city.mp4: 768x1280 5 persons, 9 cars, 5 motorcycles, 1 buss, 4 traffic lights, 1 fire hydrants, 2 umbrellas, 2 chairs, Done. (0.179s)\n",
            "video 1/1 (106/301) /content/drive/MyDrive/yolov4/busy_city.mp4: 768x1280 6 persons, 8 cars, 7 motorcycles, 1 buss, 3 traffic lights, 1 fire hydrants, 2 umbrellas, 2 chairs, Done. (0.179s)\n",
            "video 1/1 (107/301) /content/drive/MyDrive/yolov4/busy_city.mp4: 768x1280 5 persons, 8 cars, 5 motorcycles, 1 buss, 3 traffic lights, 1 fire hydrants, 2 umbrellas, 2 chairs, Done. (0.180s)\n",
            "video 1/1 (108/301) /content/drive/MyDrive/yolov4/busy_city.mp4: 768x1280 6 persons, 8 cars, 5 motorcycles, 1 buss, 3 traffic lights, 2 umbrellas, 3 chairs, Done. (0.179s)\n",
            "video 1/1 (109/301) /content/drive/MyDrive/yolov4/busy_city.mp4: 768x1280 7 persons, 9 cars, 4 motorcycles, 1 buss, 3 traffic lights, 2 umbrellas, 1 chairs, Done. (0.179s)\n",
            "video 1/1 (110/301) /content/drive/MyDrive/yolov4/busy_city.mp4: 768x1280 7 persons, 10 cars, 5 motorcycles, 1 buss, 2 trucks, 4 traffic lights, 2 umbrellas, Done. (0.180s)\n",
            "video 1/1 (111/301) /content/drive/MyDrive/yolov4/busy_city.mp4: 768x1280 5 persons, 10 cars, 6 motorcycles, 1 buss, 4 traffic lights, 1 umbrellas, Done. (0.180s)\n",
            "video 1/1 (112/301) /content/drive/MyDrive/yolov4/busy_city.mp4: 768x1280 6 persons, 10 cars, 6 motorcycles, 1 buss, 4 traffic lights, 1 umbrellas, Done. (0.180s)\n",
            "video 1/1 (113/301) /content/drive/MyDrive/yolov4/busy_city.mp4: 768x1280 5 persons, 10 cars, 5 motorcycles, 1 buss, 3 traffic lights, 1 benchs, 2 umbrellas, Done. (0.178s)\n",
            "video 1/1 (114/301) /content/drive/MyDrive/yolov4/busy_city.mp4: 768x1280 5 persons, 9 cars, 5 motorcycles, 1 buss, 2 trucks, 1 traffic lights, 2 umbrellas, Done. (0.180s)\n",
            "video 1/1 (115/301) /content/drive/MyDrive/yolov4/busy_city.mp4: 768x1280 7 persons, 9 cars, 5 motorcycles, 1 buss, 1 trucks, 2 traffic lights, 1 umbrellas, Done. (0.180s)\n",
            "video 1/1 (116/301) /content/drive/MyDrive/yolov4/busy_city.mp4: 768x1280 5 persons, 8 cars, 5 motorcycles, 1 buss, 1 trucks, 2 traffic lights, 2 umbrellas, 1 chairs, Done. (0.180s)\n",
            "video 1/1 (117/301) /content/drive/MyDrive/yolov4/busy_city.mp4: 768x1280 6 persons, 10 cars, 5 motorcycles, 1 buss, 1 trucks, 2 traffic lights, 1 umbrellas, Done. (0.179s)\n",
            "video 1/1 (118/301) /content/drive/MyDrive/yolov4/busy_city.mp4: 768x1280 6 persons, 10 cars, 5 motorcycles, 1 buss, 1 traffic lights, 1 umbrellas, 1 chairs, Done. (0.180s)\n",
            "video 1/1 (119/301) /content/drive/MyDrive/yolov4/busy_city.mp4: 768x1280 6 persons, 10 cars, 4 motorcycles, 1 buss, 1 traffic lights, 2 umbrellas, 1 chairs, Done. (0.179s)\n",
            "video 1/1 (120/301) /content/drive/MyDrive/yolov4/busy_city.mp4: 768x1280 6 persons, 10 cars, 4 motorcycles, 1 buss, 2 umbrellas, 1 chairs, Done. (0.180s)\n",
            "video 1/1 (121/301) /content/drive/MyDrive/yolov4/busy_city.mp4: 768x1280 6 persons, 8 cars, 4 motorcycles, 1 buss, 2 traffic lights, 1 umbrellas, 1 chairs, Done. (0.180s)\n",
            "video 1/1 (122/301) /content/drive/MyDrive/yolov4/busy_city.mp4: 768x1280 6 persons, 9 cars, 4 motorcycles, 1 buss, 1 traffic lights, 1 umbrellas, Done. (0.180s)\n",
            "video 1/1 (123/301) /content/drive/MyDrive/yolov4/busy_city.mp4: 768x1280 6 persons, 10 cars, 4 motorcycles, 1 buss, 3 traffic lights, 1 umbrellas, Done. (0.180s)\n",
            "video 1/1 (124/301) /content/drive/MyDrive/yolov4/busy_city.mp4: 768x1280 6 persons, 10 cars, 4 motorcycles, 1 buss, 3 traffic lights, 1 umbrellas, 1 chairs, Done. (0.180s)\n",
            "video 1/1 (125/301) /content/drive/MyDrive/yolov4/busy_city.mp4: 768x1280 6 persons, 8 cars, 4 motorcycles, 1 buss, 2 traffic lights, 1 benchs, 1 umbrellas, 1 chairs, Done. (0.180s)\n",
            "video 1/1 (126/301) /content/drive/MyDrive/yolov4/busy_city.mp4: 768x1280 5 persons, 10 cars, 4 motorcycles, 1 buss, 1 trucks, 1 traffic lights, 1 benchs, 1 umbrellas, 2 chairs, Done. (0.179s)\n",
            "video 1/1 (127/301) /content/drive/MyDrive/yolov4/busy_city.mp4: 768x1280 5 persons, 10 cars, 4 motorcycles, 1 buss, 1 trucks, 2 traffic lights, 1 benchs, 1 umbrellas, 2 chairs, Done. (0.180s)\n",
            "video 1/1 (128/301) /content/drive/MyDrive/yolov4/busy_city.mp4: 768x1280 5 persons, 10 cars, 4 motorcycles, 1 buss, 3 traffic lights, 1 benchs, 1 umbrellas, Done. (0.180s)\n",
            "video 1/1 (129/301) /content/drive/MyDrive/yolov4/busy_city.mp4: 768x1280 4 persons, 9 cars, 3 motorcycles, 1 buss, 1 trucks, 3 traffic lights, 1 benchs, 1 umbrellas, Done. (0.179s)\n",
            "video 1/1 (130/301) /content/drive/MyDrive/yolov4/busy_city.mp4: 768x1280 3 persons, 10 cars, 3 motorcycles, 2 buss, 1 trucks, 2 traffic lights, 1 benchs, 1 umbrellas, 1 chairs, Done. (0.180s)\n",
            "video 1/1 (131/301) /content/drive/MyDrive/yolov4/busy_city.mp4: 768x1280 3 persons, 1 bicycles, 9 cars, 3 motorcycles, 2 buss, 1 trucks, 4 traffic lights, 1 umbrellas, Done. (0.179s)\n",
            "video 1/1 (132/301) /content/drive/MyDrive/yolov4/busy_city.mp4: 768x1280 3 persons, 10 cars, 3 motorcycles, 2 buss, 2 trucks, 2 traffic lights, 1 benchs, 1 umbrellas, 1 chairs, Done. (0.180s)\n",
            "video 1/1 (133/301) /content/drive/MyDrive/yolov4/busy_city.mp4: 768x1280 3 persons, 9 cars, 3 motorcycles, 2 buss, 1 traffic lights, 1 umbrellas, Done. (0.181s)\n",
            "video 1/1 (134/301) /content/drive/MyDrive/yolov4/busy_city.mp4: 768x1280 4 persons, 7 cars, 3 motorcycles, 1 buss, 3 trucks, 1 traffic lights, 1 umbrellas, 2 chairs, Done. (0.179s)\n",
            "video 1/1 (135/301) /content/drive/MyDrive/yolov4/busy_city.mp4: 768x1280 5 persons, 10 cars, 4 motorcycles, 1 buss, 2 trucks, 3 traffic lights, 1 chairs, Done. (0.180s)\n",
            "video 1/1 (136/301) /content/drive/MyDrive/yolov4/busy_city.mp4: 768x1280 3 persons, 8 cars, 3 motorcycles, 1 buss, 1 trucks, 3 traffic lights, 1 benchs, 2 chairs, Done. (0.180s)\n",
            "video 1/1 (137/301) /content/drive/MyDrive/yolov4/busy_city.mp4: 768x1280 4 persons, 9 cars, 2 motorcycles, 1 buss, 2 trucks, 4 traffic lights, 1 benchs, 2 chairs, Done. (0.180s)\n",
            "video 1/1 (138/301) /content/drive/MyDrive/yolov4/busy_city.mp4: 768x1280 4 persons, 10 cars, 3 motorcycles, 1 buss, 1 trucks, 1 benchs, 1 chairs, Done. (0.180s)\n",
            "video 1/1 (139/301) /content/drive/MyDrive/yolov4/busy_city.mp4: 768x1280 3 persons, 11 cars, 3 motorcycles, 1 buss, 1 trucks, 1 traffic lights, Done. (0.180s)\n",
            "video 1/1 (140/301) /content/drive/MyDrive/yolov4/busy_city.mp4: 768x1280 3 persons, 12 cars, 3 motorcycles, 1 buss, 1 trucks, 1 traffic lights, Done. (0.181s)\n",
            "video 1/1 (141/301) /content/drive/MyDrive/yolov4/busy_city.mp4: 768x1280 3 persons, 12 cars, 2 motorcycles, 1 buss, 2 trucks, 1 traffic lights, Done. (0.180s)\n",
            "video 1/1 (142/301) /content/drive/MyDrive/yolov4/busy_city.mp4: 768x1280 3 persons, 13 cars, 2 motorcycles, 1 buss, 2 trucks, 1 traffic lights, Done. (0.180s)\n",
            "video 1/1 (143/301) /content/drive/MyDrive/yolov4/busy_city.mp4: 768x1280 3 persons, 13 cars, 2 motorcycles, 1 buss, 1 trucks, 2 traffic lights, 1 chairs, Done. (0.180s)\n",
            "video 1/1 (144/301) /content/drive/MyDrive/yolov4/busy_city.mp4: 768x1280 3 persons, 13 cars, 2 motorcycles, 1 buss, 1 trucks, 3 traffic lights, Done. (0.181s)\n",
            "video 1/1 (145/301) /content/drive/MyDrive/yolov4/busy_city.mp4: 768x1280 4 persons, 13 cars, 2 motorcycles, 1 buss, 1 trucks, 3 traffic lights, 1 chairs, Done. (0.181s)\n",
            "video 1/1 (146/301) /content/drive/MyDrive/yolov4/busy_city.mp4: 768x1280 3 persons, 11 cars, 2 motorcycles, 1 buss, 1 trucks, 2 traffic lights, 1 chairs, Done. (0.181s)\n",
            "video 1/1 (147/301) /content/drive/MyDrive/yolov4/busy_city.mp4: 768x1280 3 persons, 12 cars, 2 motorcycles, 1 buss, 1 trucks, 2 traffic lights, 1 backpacks, 1 chairs, Done. (0.180s)\n",
            "video 1/1 (148/301) /content/drive/MyDrive/yolov4/busy_city.mp4: 768x1280 3 persons, 12 cars, 4 motorcycles, 1 buss, 1 trucks, 4 traffic lights, 1 chairs, Done. (0.179s)\n",
            "video 1/1 (149/301) /content/drive/MyDrive/yolov4/busy_city.mp4: 768x1280 3 persons, 13 cars, 4 motorcycles, 1 buss, 1 trucks, 4 traffic lights, Done. (0.180s)\n",
            "video 1/1 (150/301) /content/drive/MyDrive/yolov4/busy_city.mp4: 768x1280 3 persons, 13 cars, 3 motorcycles, 1 buss, 1 trucks, 3 traffic lights, 1 chairs, Done. (0.180s)\n",
            "video 1/1 (151/301) /content/drive/MyDrive/yolov4/busy_city.mp4: 768x1280 3 persons, 13 cars, 3 motorcycles, 1 buss, 2 trucks, 3 traffic lights, 1 umbrellas, 1 chairs, Done. (0.180s)\n",
            "video 1/1 (152/301) /content/drive/MyDrive/yolov4/busy_city.mp4: 768x1280 3 persons, 12 cars, 3 motorcycles, 1 buss, 1 trucks, 4 traffic lights, 1 chairs, Done. (0.180s)\n",
            "video 1/1 (153/301) /content/drive/MyDrive/yolov4/busy_city.mp4: 768x1280 2 persons, 13 cars, 3 motorcycles, 1 buss, 1 trucks, 3 traffic lights, Done. (0.180s)\n",
            "video 1/1 (154/301) /content/drive/MyDrive/yolov4/busy_city.mp4: 768x1280 3 persons, 12 cars, 3 motorcycles, 1 buss, 2 trucks, 3 traffic lights, Done. (0.180s)\n",
            "video 1/1 (155/301) /content/drive/MyDrive/yolov4/busy_city.mp4: 768x1280 4 persons, 1 bicycles, 13 cars, 3 motorcycles, 1 buss, 2 trucks, 3 traffic lights, Done. (0.180s)\n",
            "video 1/1 (156/301) /content/drive/MyDrive/yolov4/busy_city.mp4: 768x1280 3 persons, 1 bicycles, 13 cars, 3 motorcycles, 1 buss, 1 trucks, 3 traffic lights, 1 umbrellas, Done. (0.180s)\n",
            "video 1/1 (157/301) /content/drive/MyDrive/yolov4/busy_city.mp4: 768x1280 4 persons, 13 cars, 3 motorcycles, 1 buss, 1 trucks, 3 traffic lights, 1 umbrellas, Done. (0.180s)\n",
            "video 1/1 (158/301) /content/drive/MyDrive/yolov4/busy_city.mp4: 768x1280 4 persons, 12 cars, 3 motorcycles, 1 buss, 1 trucks, 3 traffic lights, 1 umbrellas, Done. (0.179s)\n",
            "video 1/1 (159/301) /content/drive/MyDrive/yolov4/busy_city.mp4: 768x1280 3 persons, 12 cars, 3 motorcycles, 1 buss, 1 trucks, 3 traffic lights, 1 umbrellas, Done. (0.180s)\n",
            "video 1/1 (160/301) /content/drive/MyDrive/yolov4/busy_city.mp4: 768x1280 4 persons, 14 cars, 3 motorcycles, 1 buss, 1 trucks, 3 traffic lights, 1 umbrellas, Done. (0.180s)\n",
            "video 1/1 (161/301) /content/drive/MyDrive/yolov4/busy_city.mp4: 768x1280 2 persons, 13 cars, 3 motorcycles, 1 buss, 1 trucks, 3 traffic lights, 1 umbrellas, Done. (0.180s)\n",
            "video 1/1 (162/301) /content/drive/MyDrive/yolov4/busy_city.mp4: 768x1280 2 persons, 12 cars, 3 motorcycles, 1 buss, 2 trucks, 3 traffic lights, 1 umbrellas, Done. (0.180s)\n",
            "video 1/1 (163/301) /content/drive/MyDrive/yolov4/busy_city.mp4: 768x1280 4 persons, 12 cars, 3 motorcycles, 1 buss, 1 trucks, 4 traffic lights, 1 umbrellas, Done. (0.180s)\n",
            "video 1/1 (164/301) /content/drive/MyDrive/yolov4/busy_city.mp4: 768x1280 3 persons, 11 cars, 4 motorcycles, 2 buss, 1 trucks, 4 traffic lights, 1 umbrellas, Done. (0.180s)\n",
            "video 1/1 (165/301) /content/drive/MyDrive/yolov4/busy_city.mp4: 768x1280 3 persons, 14 cars, 3 motorcycles, 1 buss, 1 trucks, 4 traffic lights, 1 umbrellas, Done. (0.180s)\n",
            "video 1/1 (166/301) /content/drive/MyDrive/yolov4/busy_city.mp4: 768x1280 4 persons, 12 cars, 4 motorcycles, 1 buss, 2 trucks, 3 traffic lights, 1 umbrellas, Done. (0.181s)\n",
            "video 1/1 (167/301) /content/drive/MyDrive/yolov4/busy_city.mp4: 768x1280 3 persons, 12 cars, 5 motorcycles, 1 buss, 1 trucks, 4 traffic lights, 1 backpacks, 1 umbrellas, Done. (0.180s)\n",
            "video 1/1 (168/301) /content/drive/MyDrive/yolov4/busy_city.mp4: 768x1280 3 persons, 12 cars, 4 motorcycles, 1 buss, 1 trucks, 4 traffic lights, 1 umbrellas, Done. (0.180s)\n",
            "video 1/1 (169/301) /content/drive/MyDrive/yolov4/busy_city.mp4: 768x1280 2 persons, 14 cars, 5 motorcycles, 1 buss, 1 trucks, 3 traffic lights, 1 umbrellas, Done. (0.180s)\n",
            "video 1/1 (170/301) /content/drive/MyDrive/yolov4/busy_city.mp4: 768x1280 1 persons, 12 cars, 5 motorcycles, 1 buss, 1 trucks, 2 traffic lights, 1 backpacks, 1 umbrellas, Done. (0.180s)\n",
            "video 1/1 (171/301) /content/drive/MyDrive/yolov4/busy_city.mp4: 768x1280 1 persons, 13 cars, 5 motorcycles, 1 buss, 1 trucks, 3 traffic lights, 1 backpacks, Done. (0.180s)\n",
            "video 1/1 (172/301) /content/drive/MyDrive/yolov4/busy_city.mp4: 768x1280 1 persons, 11 cars, 3 motorcycles, 1 buss, 1 trucks, 1 traffic lights, 1 backpacks, Done. (0.180s)\n",
            "video 1/1 (173/301) /content/drive/MyDrive/yolov4/busy_city.mp4: 768x1280 1 persons, 11 cars, 3 motorcycles, 1 buss, 1 trucks, 2 traffic lights, 1 backpacks, 2 umbrellas, Done. (0.180s)\n",
            "video 1/1 (174/301) /content/drive/MyDrive/yolov4/busy_city.mp4: 768x1280 1 persons, 13 cars, 4 motorcycles, 1 buss, 1 trucks, 2 traffic lights, 1 umbrellas, Done. (0.180s)\n",
            "video 1/1 (175/301) /content/drive/MyDrive/yolov4/busy_city.mp4: 768x1280 1 persons, 13 cars, 4 motorcycles, 1 buss, 1 trucks, 2 traffic lights, 1 umbrellas, Done. (0.180s)\n",
            "video 1/1 (176/301) /content/drive/MyDrive/yolov4/busy_city.mp4: 768x1280 1 persons, 12 cars, 4 motorcycles, 1 buss, 1 trucks, 1 traffic lights, 1 umbrellas, Done. (0.181s)\n",
            "video 1/1 (177/301) /content/drive/MyDrive/yolov4/busy_city.mp4: 768x1280 1 persons, 13 cars, 4 motorcycles, 1 buss, 1 trucks, 2 traffic lights, 1 umbrellas, Done. (0.178s)\n",
            "video 1/1 (178/301) /content/drive/MyDrive/yolov4/busy_city.mp4: 768x1280 1 persons, 13 cars, 3 motorcycles, 2 buss, 1 trucks, 2 traffic lights, 1 umbrellas, Done. (0.179s)\n",
            "video 1/1 (179/301) /content/drive/MyDrive/yolov4/busy_city.mp4: 768x1280 14 cars, 2 motorcycles, 1 buss, 1 trucks, 1 traffic lights, 1 umbrellas, Done. (0.180s)\n",
            "video 1/1 (180/301) /content/drive/MyDrive/yolov4/busy_city.mp4: 768x1280 1 persons, 13 cars, 2 motorcycles, 2 buss, 1 trucks, 1 traffic lights, Done. (0.180s)\n",
            "video 1/1 (181/301) /content/drive/MyDrive/yolov4/busy_city.mp4: 768x1280 1 persons, 1 bicycles, 16 cars, 2 motorcycles, 2 buss, 2 trucks, 1 traffic lights, 1 umbrellas, 2 chairs, Done. (0.181s)\n",
            "video 1/1 (182/301) /content/drive/MyDrive/yolov4/busy_city.mp4: 768x1280 2 persons, 1 bicycles, 14 cars, 2 motorcycles, 2 buss, 2 trucks, 1 traffic lights, 2 umbrellas, 2 chairs, Done. (0.180s)\n",
            "video 1/1 (183/301) /content/drive/MyDrive/yolov4/busy_city.mp4: 768x1280 3 persons, 1 bicycles, 16 cars, 2 motorcycles, 2 buss, 1 trucks, 2 traffic lights, 2 umbrellas, 2 chairs, Done. (0.179s)\n",
            "video 1/1 (184/301) /content/drive/MyDrive/yolov4/busy_city.mp4: 768x1280 2 persons, 1 bicycles, 16 cars, 3 motorcycles, 2 buss, 2 trucks, 1 traffic lights, 2 umbrellas, 2 chairs, Done. (0.179s)\n",
            "video 1/1 (185/301) /content/drive/MyDrive/yolov4/busy_city.mp4: 768x1280 2 persons, 15 cars, 2 motorcycles, 2 buss, 1 trucks, 1 traffic lights, 2 umbrellas, 2 chairs, Done. (0.180s)\n",
            "video 1/1 (186/301) /content/drive/MyDrive/yolov4/busy_city.mp4: 768x1280 2 persons, 1 bicycles, 16 cars, 2 motorcycles, 1 buss, 2 trucks, 2 umbrellas, Done. (0.179s)\n",
            "video 1/1 (187/301) /content/drive/MyDrive/yolov4/busy_city.mp4: 768x1280 3 persons, 1 bicycles, 17 cars, 2 motorcycles, 1 buss, 3 trucks, 1 traffic lights, 2 umbrellas, Done. (0.180s)\n",
            "video 1/1 (188/301) /content/drive/MyDrive/yolov4/busy_city.mp4: 768x1280 2 persons, 1 bicycles, 17 cars, 2 motorcycles, 2 buss, 3 trucks, 1 traffic lights, 2 umbrellas, Done. (0.180s)\n",
            "video 1/1 (189/301) /content/drive/MyDrive/yolov4/busy_city.mp4: 768x1280 3 persons, 1 bicycles, 17 cars, 2 motorcycles, 1 buss, 3 trucks, 2 umbrellas, 1 chairs, Done. (0.180s)\n",
            "video 1/1 (190/301) /content/drive/MyDrive/yolov4/busy_city.mp4: 768x1280 3 persons, 1 bicycles, 16 cars, 2 motorcycles, 2 buss, 3 trucks, 2 umbrellas, 1 chairs, Done. (0.180s)\n",
            "video 1/1 (191/301) /content/drive/MyDrive/yolov4/busy_city.mp4: 768x1280 3 persons, 1 bicycles, 16 cars, 2 motorcycles, 2 buss, 2 trucks, 2 umbrellas, 1 chairs, Done. (0.181s)\n",
            "video 1/1 (192/301) /content/drive/MyDrive/yolov4/busy_city.mp4: 768x1280 4 persons, 1 bicycles, 16 cars, 2 motorcycles, 2 buss, 2 trucks, 2 umbrellas, Done. (0.180s)\n",
            "video 1/1 (193/301) /content/drive/MyDrive/yolov4/busy_city.mp4: 768x1280 4 persons, 1 bicycles, 16 cars, 2 motorcycles, 2 buss, 2 trucks, 2 umbrellas, Done. (0.180s)\n",
            "video 1/1 (194/301) /content/drive/MyDrive/yolov4/busy_city.mp4: 768x1280 4 persons, 1 bicycles, 17 cars, 2 motorcycles, 2 buss, 2 trucks, 2 umbrellas, Done. (0.180s)\n",
            "video 1/1 (195/301) /content/drive/MyDrive/yolov4/busy_city.mp4: 768x1280 4 persons, 1 bicycles, 12 cars, 2 motorcycles, 1 buss, 3 trucks, 2 umbrellas, Done. (0.180s)\n",
            "video 1/1 (196/301) /content/drive/MyDrive/yolov4/busy_city.mp4: 768x1280 4 persons, 1 bicycles, 14 cars, 2 motorcycles, 1 buss, 3 trucks, 1 umbrellas, Done. (0.181s)\n",
            "video 1/1 (197/301) /content/drive/MyDrive/yolov4/busy_city.mp4: 768x1280 4 persons, 1 bicycles, 14 cars, 2 motorcycles, 1 buss, 2 trucks, 1 umbrellas, Done. (0.179s)\n",
            "video 1/1 (198/301) /content/drive/MyDrive/yolov4/busy_city.mp4: 768x1280 3 persons, 1 bicycles, 12 cars, 2 motorcycles, 1 buss, 2 trucks, 1 umbrellas, Done. (0.180s)\n",
            "video 1/1 (199/301) /content/drive/MyDrive/yolov4/busy_city.mp4: 768x1280 4 persons, 1 bicycles, 13 cars, 2 motorcycles, 1 buss, 2 trucks, 1 umbrellas, Done. (0.180s)\n",
            "video 1/1 (200/301) /content/drive/MyDrive/yolov4/busy_city.mp4: 768x1280 4 persons, 14 cars, 2 motorcycles, 1 buss, 2 trucks, 1 umbrellas, Done. (0.180s)\n",
            "video 1/1 (201/301) /content/drive/MyDrive/yolov4/busy_city.mp4: 768x1280 4 persons, 1 bicycles, 13 cars, 2 motorcycles, 1 buss, 2 trucks, 1 umbrellas, Done. (0.179s)\n",
            "video 1/1 (202/301) /content/drive/MyDrive/yolov4/busy_city.mp4: 768x1280 4 persons, 13 cars, 2 motorcycles, 2 buss, 2 trucks, 1 umbrellas, Done. (0.181s)\n",
            "video 1/1 (203/301) /content/drive/MyDrive/yolov4/busy_city.mp4: 768x1280 4 persons, 11 cars, 2 motorcycles, 1 buss, 2 trucks, 1 umbrellas, Done. (0.179s)\n",
            "video 1/1 (204/301) /content/drive/MyDrive/yolov4/busy_city.mp4: 768x1280 4 persons, 1 bicycles, 12 cars, 2 motorcycles, 1 buss, 2 trucks, 1 umbrellas, Done. (0.180s)\n",
            "video 1/1 (205/301) /content/drive/MyDrive/yolov4/busy_city.mp4: 768x1280 5 persons, 14 cars, 2 motorcycles, 2 buss, 2 trucks, 1 umbrellas, Done. (0.180s)\n",
            "video 1/1 (206/301) /content/drive/MyDrive/yolov4/busy_city.mp4: 768x1280 4 persons, 14 cars, 3 motorcycles, 1 buss, 2 trucks, 1 umbrellas, Done. (0.181s)\n",
            "video 1/1 (207/301) /content/drive/MyDrive/yolov4/busy_city.mp4: 768x1280 4 persons, 14 cars, 3 motorcycles, 1 buss, 2 trucks, 1 umbrellas, Done. (0.180s)\n",
            "video 1/1 (208/301) /content/drive/MyDrive/yolov4/busy_city.mp4: 768x1280 6 persons, 13 cars, 3 motorcycles, 1 buss, 2 trucks, 1 umbrellas, Done. (0.181s)\n",
            "video 1/1 (209/301) /content/drive/MyDrive/yolov4/busy_city.mp4: 768x1280 5 persons, 14 cars, 2 motorcycles, 2 buss, 2 trucks, 1 umbrellas, Done. (0.180s)\n",
            "video 1/1 (210/301) /content/drive/MyDrive/yolov4/busy_city.mp4: 768x1280 4 persons, 13 cars, 2 motorcycles, 2 buss, 1 trucks, 1 umbrellas, Done. (0.179s)\n",
            "video 1/1 (211/301) /content/drive/MyDrive/yolov4/busy_city.mp4: 768x1280 6 persons, 13 cars, 2 motorcycles, 2 buss, 1 trucks, 1 umbrellas, Done. (0.179s)\n",
            "video 1/1 (212/301) /content/drive/MyDrive/yolov4/busy_city.mp4: 768x1280 4 persons, 13 cars, 2 motorcycles, 2 buss, 1 trucks, 1 umbrellas, Done. (0.180s)\n",
            "video 1/1 (213/301) /content/drive/MyDrive/yolov4/busy_city.mp4: 768x1280 6 persons, 13 cars, 2 motorcycles, 1 buss, 1 trucks, 1 umbrellas, Done. (0.179s)\n",
            "video 1/1 (214/301) /content/drive/MyDrive/yolov4/busy_city.mp4: 768x1280 6 persons, 13 cars, 2 motorcycles, 2 buss, 1 trucks, 1 umbrellas, Done. (0.181s)\n",
            "video 1/1 (215/301) /content/drive/MyDrive/yolov4/busy_city.mp4: 768x1280 6 persons, 13 cars, 2 motorcycles, 1 buss, 1 trucks, 1 umbrellas, Done. (0.180s)\n",
            "video 1/1 (216/301) /content/drive/MyDrive/yolov4/busy_city.mp4: 768x1280 5 persons, 13 cars, 2 motorcycles, 2 buss, 1 trucks, 1 umbrellas, Done. (0.180s)\n",
            "video 1/1 (217/301) /content/drive/MyDrive/yolov4/busy_city.mp4: 768x1280 5 persons, 12 cars, 2 motorcycles, 1 buss, 1 trucks, 1 umbrellas, Done. (0.181s)\n",
            "video 1/1 (218/301) /content/drive/MyDrive/yolov4/busy_city.mp4: 768x1280 5 persons, 12 cars, 3 motorcycles, 2 buss, 1 trucks, 1 umbrellas, Done. (0.181s)\n",
            "video 1/1 (219/301) /content/drive/MyDrive/yolov4/busy_city.mp4: 768x1280 5 persons, 14 cars, 2 motorcycles, 3 buss, 1 trucks, 1 umbrellas, Done. (0.182s)\n",
            "video 1/1 (220/301) /content/drive/MyDrive/yolov4/busy_city.mp4: 768x1280 4 persons, 13 cars, 2 motorcycles, 2 buss, 1 trucks, 1 umbrellas, Done. (0.182s)\n",
            "video 1/1 (221/301) /content/drive/MyDrive/yolov4/busy_city.mp4: 768x1280 4 persons, 11 cars, 2 motorcycles, 1 buss, 1 trucks, 1 umbrellas, Done. (0.182s)\n",
            "video 1/1 (222/301) /content/drive/MyDrive/yolov4/busy_city.mp4: 768x1280 4 persons, 10 cars, 4 motorcycles, 2 buss, 1 trucks, 2 umbrellas, Done. (0.180s)\n",
            "video 1/1 (223/301) /content/drive/MyDrive/yolov4/busy_city.mp4: 768x1280 5 persons, 11 cars, 2 motorcycles, 1 buss, 1 trucks, 1 umbrellas, Done. (0.180s)\n",
            "video 1/1 (224/301) /content/drive/MyDrive/yolov4/busy_city.mp4: 768x1280 5 persons, 10 cars, 4 motorcycles, 1 buss, 1 trucks, 1 umbrellas, Done. (0.180s)\n",
            "video 1/1 (225/301) /content/drive/MyDrive/yolov4/busy_city.mp4: 768x1280 5 persons, 11 cars, 4 motorcycles, 1 buss, 1 trucks, 1 umbrellas, Done. (0.181s)\n",
            "video 1/1 (226/301) /content/drive/MyDrive/yolov4/busy_city.mp4: 768x1280 5 persons, 11 cars, 3 motorcycles, 1 buss, 1 trucks, 2 umbrellas, Done. (0.179s)\n",
            "video 1/1 (227/301) /content/drive/MyDrive/yolov4/busy_city.mp4: 768x1280 5 persons, 10 cars, 2 motorcycles, 1 buss, 1 trucks, 2 umbrellas, Done. (0.179s)\n",
            "video 1/1 (228/301) /content/drive/MyDrive/yolov4/busy_city.mp4: 768x1280 5 persons, 12 cars, 2 motorcycles, 1 buss, 1 trucks, 1 umbrellas, Done. (0.180s)\n",
            "video 1/1 (229/301) /content/drive/MyDrive/yolov4/busy_city.mp4: 768x1280 4 persons, 12 cars, 3 motorcycles, 1 buss, 1 trucks, 2 umbrellas, Done. (0.180s)\n",
            "video 1/1 (230/301) /content/drive/MyDrive/yolov4/busy_city.mp4: 768x1280 4 persons, 12 cars, 3 motorcycles, 2 buss, 1 trucks, 2 umbrellas, Done. (0.180s)\n",
            "video 1/1 (231/301) /content/drive/MyDrive/yolov4/busy_city.mp4: 768x1280 1 persons, 11 cars, 3 motorcycles, 1 buss, 1 trucks, 2 umbrellas, Done. (0.180s)\n",
            "video 1/1 (232/301) /content/drive/MyDrive/yolov4/busy_city.mp4: 768x1280 2 persons, 13 cars, 3 motorcycles, 1 buss, 1 trucks, 2 umbrellas, Done. (0.182s)\n",
            "video 1/1 (233/301) /content/drive/MyDrive/yolov4/busy_city.mp4: 768x1280 1 persons, 14 cars, 3 motorcycles, 2 buss, 1 trucks, 2 umbrellas, Done. (0.183s)\n",
            "video 1/1 (234/301) /content/drive/MyDrive/yolov4/busy_city.mp4: 768x1280 1 persons, 13 cars, 2 motorcycles, 2 buss, 1 trucks, 2 umbrellas, Done. (0.180s)\n",
            "video 1/1 (235/301) /content/drive/MyDrive/yolov4/busy_city.mp4: 768x1280 2 persons, 13 cars, 2 motorcycles, 1 buss, 1 trucks, 2 umbrellas, Done. (0.180s)\n",
            "video 1/1 (236/301) /content/drive/MyDrive/yolov4/busy_city.mp4: 768x1280 2 persons, 12 cars, 2 motorcycles, 1 buss, 1 trucks, 2 umbrellas, Done. (0.181s)\n",
            "video 1/1 (237/301) /content/drive/MyDrive/yolov4/busy_city.mp4: 768x1280 3 persons, 11 cars, 2 motorcycles, 1 buss, 1 trucks, 2 umbrellas, Done. (0.180s)\n",
            "video 1/1 (238/301) /content/drive/MyDrive/yolov4/busy_city.mp4: 768x1280 2 persons, 11 cars, 2 motorcycles, 2 buss, 1 trucks, 2 umbrellas, 1 chairs, Done. (0.180s)\n",
            "video 1/1 (239/301) /content/drive/MyDrive/yolov4/busy_city.mp4: 768x1280 2 persons, 12 cars, 2 motorcycles, 1 buss, 1 trucks, 1 umbrellas, 1 chairs, Done. (0.181s)\n",
            "video 1/1 (240/301) /content/drive/MyDrive/yolov4/busy_city.mp4: 768x1280 1 persons, 12 cars, 2 motorcycles, 1 buss, 1 trucks, 1 umbrellas, Done. (0.180s)\n",
            "video 1/1 (241/301) /content/drive/MyDrive/yolov4/busy_city.mp4: 768x1280 4 persons, 11 cars, 2 motorcycles, 1 buss, 1 trucks, 2 chairs, Done. (0.180s)\n",
            "video 1/1 (242/301) /content/drive/MyDrive/yolov4/busy_city.mp4: 768x1280 2 persons, 10 cars, 2 motorcycles, 1 buss, 1 trucks, 1 umbrellas, 1 chairs, Done. (0.180s)\n",
            "video 1/1 (243/301) /content/drive/MyDrive/yolov4/busy_city.mp4: 768x1280 3 persons, 12 cars, 2 motorcycles, 2 buss, 1 trucks, 1 umbrellas, 1 chairs, Done. (0.180s)\n",
            "video 1/1 (244/301) /content/drive/MyDrive/yolov4/busy_city.mp4: 768x1280 3 persons, 11 cars, 2 motorcycles, 2 buss, 1 trucks, 1 umbrellas, 1 chairs, Done. (0.180s)\n",
            "video 1/1 (245/301) /content/drive/MyDrive/yolov4/busy_city.mp4: 768x1280 4 persons, 10 cars, 2 motorcycles, 1 buss, 1 trucks, Done. (0.180s)\n",
            "video 1/1 (246/301) /content/drive/MyDrive/yolov4/busy_city.mp4: 768x1280 3 persons, 9 cars, 2 motorcycles, 1 buss, 1 trucks, 1 umbrellas, Done. (0.179s)\n",
            "video 1/1 (247/301) /content/drive/MyDrive/yolov4/busy_city.mp4: 768x1280 3 persons, 10 cars, 2 motorcycles, 1 buss, 1 trucks, Done. (0.180s)\n",
            "video 1/1 (248/301) /content/drive/MyDrive/yolov4/busy_city.mp4: 768x1280 5 persons, 8 cars, 2 motorcycles, 1 buss, 1 trucks, Done. (0.180s)\n",
            "video 1/1 (249/301) /content/drive/MyDrive/yolov4/busy_city.mp4: 768x1280 3 persons, 9 cars, 2 motorcycles, 1 buss, 1 trucks, Done. (0.180s)\n",
            "video 1/1 (250/301) /content/drive/MyDrive/yolov4/busy_city.mp4: 768x1280 3 persons, 10 cars, 2 motorcycles, 1 buss, 1 trucks, 1 chairs, Done. (0.182s)\n",
            "video 1/1 (251/301) /content/drive/MyDrive/yolov4/busy_city.mp4: 768x1280 2 persons, 10 cars, 2 motorcycles, 2 buss, 1 trucks, 1 umbrellas, Done. (0.183s)\n",
            "video 1/1 (252/301) /content/drive/MyDrive/yolov4/busy_city.mp4: 768x1280 3 persons, 9 cars, 2 motorcycles, 1 buss, 1 trucks, 1 chairs, Done. (0.180s)\n",
            "video 1/1 (253/301) /content/drive/MyDrive/yolov4/busy_city.mp4: 768x1280 4 persons, 10 cars, 2 motorcycles, 1 buss, 1 trucks, 1 umbrellas, 1 chairs, Done. (0.180s)\n",
            "video 1/1 (254/301) /content/drive/MyDrive/yolov4/busy_city.mp4: 768x1280 4 persons, 11 cars, 2 motorcycles, 1 buss, 1 trucks, Done. (0.182s)\n",
            "video 1/1 (255/301) /content/drive/MyDrive/yolov4/busy_city.mp4: 768x1280 4 persons, 9 cars, 2 motorcycles, 1 buss, 1 trucks, 1 chairs, Done. (0.180s)\n",
            "video 1/1 (256/301) /content/drive/MyDrive/yolov4/busy_city.mp4: 768x1280 3 persons, 10 cars, 2 motorcycles, 1 buss, 1 trucks, 1 umbrellas, 1 chairs, Done. (0.180s)\n",
            "video 1/1 (257/301) /content/drive/MyDrive/yolov4/busy_city.mp4: 768x1280 3 persons, 10 cars, 2 motorcycles, 1 buss, 1 trucks, 1 umbrellas, 1 chairs, Done. (0.181s)\n",
            "video 1/1 (258/301) /content/drive/MyDrive/yolov4/busy_city.mp4: 768x1280 4 persons, 11 cars, 2 motorcycles, 1 buss, 1 trucks, 1 umbrellas, 1 chairs, Done. (0.181s)\n",
            "video 1/1 (259/301) /content/drive/MyDrive/yolov4/busy_city.mp4: 768x1280 3 persons, 10 cars, 2 motorcycles, 1 buss, 1 trucks, 1 chairs, Done. (0.182s)\n",
            "video 1/1 (260/301) /content/drive/MyDrive/yolov4/busy_city.mp4: 768x1280 5 persons, 11 cars, 2 motorcycles, 1 buss, 1 trucks, 1 chairs, Done. (0.181s)\n",
            "video 1/1 (261/301) /content/drive/MyDrive/yolov4/busy_city.mp4: 768x1280 4 persons, 11 cars, 2 motorcycles, 1 buss, 1 trucks, 1 umbrellas, 1 chairs, Done. (0.182s)\n",
            "video 1/1 (262/301) /content/drive/MyDrive/yolov4/busy_city.mp4: 768x1280 4 persons, 12 cars, 2 motorcycles, 1 buss, 1 trucks, 1 umbrellas, 1 chairs, Done. (0.180s)\n",
            "video 1/1 (263/301) /content/drive/MyDrive/yolov4/busy_city.mp4: 768x1280 5 persons, 12 cars, 2 motorcycles, 1 buss, 1 trucks, 1 umbrellas, 1 chairs, Done. (0.180s)\n",
            "video 1/1 (264/301) /content/drive/MyDrive/yolov4/busy_city.mp4: 768x1280 6 persons, 12 cars, 2 motorcycles, 1 buss, 1 trucks, 1 umbrellas, 1 chairs, Done. (0.182s)\n",
            "video 1/1 (265/301) /content/drive/MyDrive/yolov4/busy_city.mp4: 768x1280 3 persons, 12 cars, 2 motorcycles, 1 buss, 1 trucks, Done. (0.184s)\n",
            "video 1/1 (266/301) /content/drive/MyDrive/yolov4/busy_city.mp4: 768x1280 3 persons, 11 cars, 2 motorcycles, 1 buss, 1 trucks, 1 umbrellas, Done. (0.180s)\n",
            "video 1/1 (267/301) /content/drive/MyDrive/yolov4/busy_city.mp4: 768x1280 3 persons, 12 cars, 2 motorcycles, 1 buss, 1 trucks, Done. (0.179s)\n",
            "video 1/1 (268/301) /content/drive/MyDrive/yolov4/busy_city.mp4: 768x1280 2 persons, 12 cars, 2 motorcycles, 1 buss, 1 trucks, Done. (0.181s)\n",
            "video 1/1 (269/301) /content/drive/MyDrive/yolov4/busy_city.mp4: 768x1280 3 persons, 11 cars, 2 motorcycles, 1 buss, 1 trucks, Done. (0.182s)\n",
            "video 1/1 (270/301) /content/drive/MyDrive/yolov4/busy_city.mp4: 768x1280 3 persons, 12 cars, 2 motorcycles, 1 buss, 1 trucks, Done. (0.184s)\n",
            "video 1/1 (271/301) /content/drive/MyDrive/yolov4/busy_city.mp4: 768x1280 4 persons, 11 cars, 2 motorcycles, 1 buss, 1 trucks, Done. (0.183s)\n",
            "video 1/1 (272/301) /content/drive/MyDrive/yolov4/busy_city.mp4: 768x1280 5 persons, 11 cars, 2 motorcycles, 1 buss, 1 trucks, Done. (0.181s)\n",
            "video 1/1 (273/301) /content/drive/MyDrive/yolov4/busy_city.mp4: 768x1280 4 persons, 11 cars, 2 motorcycles, 1 buss, 1 trucks, Done. (0.181s)\n",
            "video 1/1 (274/301) /content/drive/MyDrive/yolov4/busy_city.mp4: 768x1280 3 persons, 10 cars, 2 motorcycles, 1 buss, 1 trucks, Done. (0.183s)\n",
            "video 1/1 (275/301) /content/drive/MyDrive/yolov4/busy_city.mp4: 768x1280 3 persons, 11 cars, 2 motorcycles, 1 buss, 1 trucks, 1 traffic lights, Done. (0.180s)\n",
            "video 1/1 (276/301) /content/drive/MyDrive/yolov4/busy_city.mp4: 768x1280 4 persons, 10 cars, 2 motorcycles, 1 buss, 1 trucks, Done. (0.179s)\n",
            "video 1/1 (277/301) /content/drive/MyDrive/yolov4/busy_city.mp4: 768x1280 5 persons, 10 cars, 2 motorcycles, 1 buss, 1 trucks, Done. (0.181s)\n",
            "video 1/1 (278/301) /content/drive/MyDrive/yolov4/busy_city.mp4: 768x1280 4 persons, 11 cars, 2 motorcycles, 1 buss, 1 trucks, 1 umbrellas, Done. (0.181s)\n",
            "video 1/1 (279/301) /content/drive/MyDrive/yolov4/busy_city.mp4: 768x1280 5 persons, 11 cars, 2 motorcycles, 1 buss, 1 trucks, 1 umbrellas, Done. (0.182s)\n",
            "video 1/1 (280/301) /content/drive/MyDrive/yolov4/busy_city.mp4: 768x1280 4 persons, 11 cars, 2 motorcycles, 1 buss, 1 trucks, 1 umbrellas, Done. (0.181s)\n",
            "video 1/1 (281/301) /content/drive/MyDrive/yolov4/busy_city.mp4: 768x1280 2 persons, 12 cars, 2 motorcycles, 1 buss, 1 trucks, 2 traffic lights, 1 umbrellas, Done. (0.182s)\n",
            "video 1/1 (282/301) /content/drive/MyDrive/yolov4/busy_city.mp4: 768x1280 5 persons, 11 cars, 2 motorcycles, 1 buss, 1 trucks, 1 traffic lights, 1 umbrellas, Done. (0.182s)\n",
            "video 1/1 (283/301) /content/drive/MyDrive/yolov4/busy_city.mp4: 768x1280 5 persons, 11 cars, 2 motorcycles, 1 buss, 1 trucks, 1 traffic lights, 1 umbrellas, Done. (0.180s)\n",
            "video 1/1 (284/301) /content/drive/MyDrive/yolov4/busy_city.mp4: 768x1280 5 persons, 11 cars, 2 motorcycles, 1 buss, 1 trucks, 1 traffic lights, 1 umbrellas, Done. (0.181s)\n",
            "video 1/1 (285/301) /content/drive/MyDrive/yolov4/busy_city.mp4: 768x1280 5 persons, 12 cars, 2 motorcycles, 1 buss, 1 trucks, 2 traffic lights, 1 umbrellas, Done. (0.183s)\n",
            "video 1/1 (286/301) /content/drive/MyDrive/yolov4/busy_city.mp4: 768x1280 5 persons, 13 cars, 2 motorcycles, 1 buss, 1 trucks, 1 traffic lights, 1 umbrellas, Done. (0.181s)\n",
            "video 1/1 (287/301) /content/drive/MyDrive/yolov4/busy_city.mp4: 768x1280 4 persons, 12 cars, 2 motorcycles, 1 buss, 1 trucks, 1 traffic lights, 1 umbrellas, Done. (0.180s)\n",
            "video 1/1 (288/301) /content/drive/MyDrive/yolov4/busy_city.mp4: 768x1280 4 persons, 12 cars, 2 motorcycles, 1 buss, 1 trucks, 1 traffic lights, 1 umbrellas, Done. (0.182s)\n",
            "video 1/1 (289/301) /content/drive/MyDrive/yolov4/busy_city.mp4: 768x1280 5 persons, 11 cars, 2 motorcycles, 1 buss, 1 trucks, 1 traffic lights, 1 umbrellas, Done. (0.183s)\n",
            "video 1/1 (290/301) /content/drive/MyDrive/yolov4/busy_city.mp4: 768x1280 6 persons, 11 cars, 2 motorcycles, 1 buss, 1 trucks, 1 traffic lights, 1 umbrellas, Done. (0.183s)\n",
            "video 1/1 (291/301) /content/drive/MyDrive/yolov4/busy_city.mp4: 768x1280 5 persons, 11 cars, 2 motorcycles, 1 buss, 1 trucks, 1 traffic lights, 1 umbrellas, Done. (0.181s)\n",
            "video 1/1 (292/301) /content/drive/MyDrive/yolov4/busy_city.mp4: 768x1280 4 persons, 11 cars, 2 motorcycles, 1 buss, 1 trucks, 1 traffic lights, 1 umbrellas, Done. (0.184s)\n",
            "video 1/1 (293/301) /content/drive/MyDrive/yolov4/busy_city.mp4: 768x1280 6 persons, 11 cars, 2 motorcycles, 1 buss, 1 trucks, 1 traffic lights, 2 umbrellas, Done. (0.182s)\n",
            "video 1/1 (294/301) /content/drive/MyDrive/yolov4/busy_city.mp4: 768x1280 5 persons, 10 cars, 2 motorcycles, 1 buss, 1 trucks, 1 traffic lights, 2 umbrellas, Done. (0.180s)\n",
            "video 1/1 (295/301) /content/drive/MyDrive/yolov4/busy_city.mp4: 768x1280 5 persons, 12 cars, 2 motorcycles, 1 buss, 1 trucks, 1 traffic lights, 2 umbrellas, Done. (0.180s)\n",
            "video 1/1 (296/301) /content/drive/MyDrive/yolov4/busy_city.mp4: 768x1280 4 persons, 13 cars, 2 motorcycles, 1 buss, 1 traffic lights, 2 umbrellas, Done. (0.181s)\n",
            "video 1/1 (297/301) /content/drive/MyDrive/yolov4/busy_city.mp4: 768x1280 3 persons, 12 cars, 2 motorcycles, 1 buss, 1 trucks, 1 traffic lights, 2 umbrellas, Done. (0.184s)\n",
            "video 1/1 (298/301) /content/drive/MyDrive/yolov4/busy_city.mp4: 768x1280 4 persons, 13 cars, 2 motorcycles, 1 buss, 1 trucks, 1 traffic lights, 2 umbrellas, Done. (0.181s)\n",
            "video 1/1 (299/301) /content/drive/MyDrive/yolov4/busy_city.mp4: 768x1280 3 persons, 11 cars, 2 motorcycles, 1 buss, 1 trucks, 1 traffic lights, 2 umbrellas, Done. (0.181s)\n",
            "video 1/1 (300/301) /content/drive/MyDrive/yolov4/busy_city.mp4: 768x1280 4 persons, 12 cars, 2 motorcycles, 1 buss, 1 trucks, 1 traffic lights, 1 umbrellas, Done. (0.181s)\n",
            "video 1/1 (301/301) /content/drive/MyDrive/yolov4/busy_city.mp4: 768x1280 1 persons, 10 cars, 1 motorcycles, 1 buss, 1 trucks, Done. (0.181s)\n",
            "Results saved to /content/drive/MyDrive/yolov4/yolo_output_video\n",
            "Done. (64.933s)\n"
          ]
        }
      ]
    },
    {
      "cell_type": "markdown",
      "metadata": {
        "id": "CpjCVLMMV38W"
      },
      "source": [
        "## **Display Output**\n",
        "\n",
        "We need to compress the video in order to display large videos. Otherwise you can download it straight from you Google Drive Folder"
      ]
    },
    {
      "cell_type": "code",
      "metadata": {
        "colab": {
          "base_uri": "https://localhost:8080/",
          "height": 234
        },
        "id": "kNCzkZpXdkEr",
        "outputId": "2849c9ad-4717-4ce0-fd30-dac3ab4e58b9"
      },
      "source": [
        "from IPython.display import HTML\n",
        "from base64 import b64encode\n",
        "import os\n",
        "\n",
        "# input video path\n",
        "save_path = \"/content/drive/MyDrive/yolov4/yolo_output_video\"\n",
        "\n",
        "# compressed video path\n",
        "compressed_path = \"/content/drive/MyDrive/yolov4/yolo_output_video/result_city.mp4\"\n",
        "\n",
        "os.system(f\"ffmpeg - i {save_path} -vcodec libx164 {compressed_path}\")\n",
        "\n",
        "# show video\n",
        "mp4 = open(compressed_path, 'rb').read()\n",
        "\n",
        "data_url = 'data:video/mp4;base64,'+ b64encode(mp4).decode()\n",
        "HTML(\"\"\"\n",
        "    <video width=1000 controls>\n",
        "    <source src=\"%s\" type=\"video/mp4\">\n",
        "    </video>\n",
        "    \"\"\" %data_url)"
      ],
      "execution_count": 23,
      "outputs": [
        {
          "output_type": "error",
          "ename": "FileNotFoundError",
          "evalue": "ignored",
          "traceback": [
            "\u001b[0;31m---------------------------------------------------------------------------\u001b[0m",
            "\u001b[0;31mFileNotFoundError\u001b[0m                         Traceback (most recent call last)",
            "\u001b[0;32m<ipython-input-23-06694646b39d>\u001b[0m in \u001b[0;36m<module>\u001b[0;34m()\u001b[0m\n\u001b[1;32m     12\u001b[0m \u001b[0;34m\u001b[0m\u001b[0m\n\u001b[1;32m     13\u001b[0m \u001b[0;31m# show video\u001b[0m\u001b[0;34m\u001b[0m\u001b[0;34m\u001b[0m\u001b[0;34m\u001b[0m\u001b[0m\n\u001b[0;32m---> 14\u001b[0;31m \u001b[0mmp4\u001b[0m \u001b[0;34m=\u001b[0m \u001b[0mopen\u001b[0m\u001b[0;34m(\u001b[0m\u001b[0mcompressed_path\u001b[0m\u001b[0;34m,\u001b[0m \u001b[0;34m'rb'\u001b[0m\u001b[0;34m)\u001b[0m\u001b[0;34m.\u001b[0m\u001b[0mread\u001b[0m\u001b[0;34m(\u001b[0m\u001b[0;34m)\u001b[0m\u001b[0;34m\u001b[0m\u001b[0;34m\u001b[0m\u001b[0m\n\u001b[0m\u001b[1;32m     15\u001b[0m \u001b[0;34m\u001b[0m\u001b[0m\n\u001b[1;32m     16\u001b[0m \u001b[0mdata_url\u001b[0m \u001b[0;34m=\u001b[0m \u001b[0;34m'data:video/mp4;base64,'\u001b[0m\u001b[0;34m+\u001b[0m \u001b[0mb64encode\u001b[0m\u001b[0;34m(\u001b[0m\u001b[0mmp4\u001b[0m\u001b[0;34m)\u001b[0m\u001b[0;34m.\u001b[0m\u001b[0mdecode\u001b[0m\u001b[0;34m(\u001b[0m\u001b[0;34m)\u001b[0m\u001b[0;34m\u001b[0m\u001b[0;34m\u001b[0m\u001b[0m\n",
            "\u001b[0;31mFileNotFoundError\u001b[0m: [Errno 2] No such file or directory: '/content/drive/MyDrive/yolov4/yolo_output_video/result_city.mp4'"
          ]
        }
      ]
    },
    {
      "cell_type": "code",
      "metadata": {
        "id": "0l7p3DCFHubJ"
      },
      "source": [
        "from IPython.display import HTML\n",
        "from base64 import b64encode\n",
        "import os\n",
        "\n",
        "# input video path\n",
        "save_path = \"/content/drive/MyDrive/yolov4/yolo_output_video/busy_city.mp4\"\n",
        "\n",
        "# compressed video path\n",
        "compressed_path = \"/content/drive/MyDrive/yolov4/yolo_output_video/result_city.mp4\"\n",
        "\n",
        "os.system(f\"ffmpeg -i {save_path} -vcodec libx264 {compressed_path}\")\n",
        "\n",
        "# Show video\n",
        "mp4 = open(compressed_path,'rb').read()\n",
        "data_url = \"data:video/mp4;base64,\" + b64encode(mp4).decode()\n",
        "HTML(\"\"\"\n",
        "<video width=400 controls>\n",
        "      <source src=\"%s\" type=\"video/mp4\">\n",
        "</video>\n",
        "\"\"\" % data_url)"
      ],
      "execution_count": null,
      "outputs": []
    },
    {
      "cell_type": "markdown",
      "metadata": {
        "id": "7jk1FwWtr5Qp"
      },
      "source": [
        "# **Conclusion**\n",
        "\n",
        "If you enjoyed this tutorial and want more on **YOLOR** then:\n",
        "\n",
        "💻Get Started with YOLOR [Get Started](https://augmentedstartups.info/YOLOR-Get-Started). <br>\n",
        "⭐ Download the Code at the [AI Vision Store](https://augmentedstartups.info/VisionStore)<br>\n",
        "☕ Show your support with [Chai/Coffee](https://bit.ly/BuymeaCoffeeAS)\n",
        "\n",
        "![picture](https://drive.google.com/uc?export=view&id=1cTMSbjs6rCAx_tRnJGZz_niZgpBuiDT0)"
      ]
    }
  ]
}