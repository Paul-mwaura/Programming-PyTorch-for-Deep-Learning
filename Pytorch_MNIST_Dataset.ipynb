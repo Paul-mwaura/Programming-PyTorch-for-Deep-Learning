{
  "nbformat": 4,
  "nbformat_minor": 0,
  "metadata": {
    "colab": {
      "name": "Pytorch MNIST Dataset.ipynb",
      "provenance": [],
      "collapsed_sections": [],
      "authorship_tag": "ABX9TyPmFIj9EchTZIzgV0rjNYqK",
      "include_colab_link": true
    },
    "kernelspec": {
      "name": "python3",
      "display_name": "Python 3"
    },
    "language_info": {
      "name": "python"
    },
    "widgets": {
      "application/vnd.jupyter.widget-state+json": {
        "0a8370d5732a4a6789aacdca7525f43e": {
          "model_module": "@jupyter-widgets/controls",
          "model_name": "HBoxModel",
          "model_module_version": "1.5.0",
          "state": {
            "_view_name": "HBoxView",
            "_dom_classes": [],
            "_model_name": "HBoxModel",
            "_view_module": "@jupyter-widgets/controls",
            "_model_module_version": "1.5.0",
            "_view_count": null,
            "_view_module_version": "1.5.0",
            "box_style": "",
            "layout": "IPY_MODEL_4f0fb05871fc46bab633458786eccdf6",
            "_model_module": "@jupyter-widgets/controls",
            "children": [
              "IPY_MODEL_dd1f1c2a9ce248e8b8b37f01452cd1a3",
              "IPY_MODEL_22d7ba6ef89e47fc84d2ce2d34021989",
              "IPY_MODEL_fed387586c824449bf9c7bd70a0a13fd"
            ]
          }
        },
        "4f0fb05871fc46bab633458786eccdf6": {
          "model_module": "@jupyter-widgets/base",
          "model_name": "LayoutModel",
          "model_module_version": "1.2.0",
          "state": {
            "_view_name": "LayoutView",
            "grid_template_rows": null,
            "right": null,
            "justify_content": null,
            "_view_module": "@jupyter-widgets/base",
            "overflow": null,
            "_model_module_version": "1.2.0",
            "_view_count": null,
            "flex_flow": null,
            "width": null,
            "min_width": null,
            "border": null,
            "align_items": null,
            "bottom": null,
            "_model_module": "@jupyter-widgets/base",
            "top": null,
            "grid_column": null,
            "overflow_y": null,
            "overflow_x": null,
            "grid_auto_flow": null,
            "grid_area": null,
            "grid_template_columns": null,
            "flex": null,
            "_model_name": "LayoutModel",
            "justify_items": null,
            "grid_row": null,
            "max_height": null,
            "align_content": null,
            "visibility": null,
            "align_self": null,
            "height": null,
            "min_height": null,
            "padding": null,
            "grid_auto_rows": null,
            "grid_gap": null,
            "max_width": null,
            "order": null,
            "_view_module_version": "1.2.0",
            "grid_template_areas": null,
            "object_position": null,
            "object_fit": null,
            "grid_auto_columns": null,
            "margin": null,
            "display": null,
            "left": null
          }
        },
        "dd1f1c2a9ce248e8b8b37f01452cd1a3": {
          "model_module": "@jupyter-widgets/controls",
          "model_name": "HTMLModel",
          "model_module_version": "1.5.0",
          "state": {
            "_view_name": "HTMLView",
            "style": "IPY_MODEL_0b903db0fc4d416caf0364ccf1a77e7a",
            "_dom_classes": [],
            "description": "",
            "_model_name": "HTMLModel",
            "placeholder": "​",
            "_view_module": "@jupyter-widgets/controls",
            "_model_module_version": "1.5.0",
            "value": "",
            "_view_count": null,
            "_view_module_version": "1.5.0",
            "description_tooltip": null,
            "_model_module": "@jupyter-widgets/controls",
            "layout": "IPY_MODEL_2f647d981f214b1ba9991d538dc3996a"
          }
        },
        "22d7ba6ef89e47fc84d2ce2d34021989": {
          "model_module": "@jupyter-widgets/controls",
          "model_name": "FloatProgressModel",
          "model_module_version": "1.5.0",
          "state": {
            "_view_name": "ProgressView",
            "style": "IPY_MODEL_b400a67e66e747bc961c1c164cf557fc",
            "_dom_classes": [],
            "description": "",
            "_model_name": "FloatProgressModel",
            "bar_style": "success",
            "max": 26421880,
            "_view_module": "@jupyter-widgets/controls",
            "_model_module_version": "1.5.0",
            "value": 26421880,
            "_view_count": null,
            "_view_module_version": "1.5.0",
            "orientation": "horizontal",
            "min": 0,
            "description_tooltip": null,
            "_model_module": "@jupyter-widgets/controls",
            "layout": "IPY_MODEL_3aee9419341a432d80d4f0ff41270f0e"
          }
        },
        "fed387586c824449bf9c7bd70a0a13fd": {
          "model_module": "@jupyter-widgets/controls",
          "model_name": "HTMLModel",
          "model_module_version": "1.5.0",
          "state": {
            "_view_name": "HTMLView",
            "style": "IPY_MODEL_58e820ffaa194f2aba30bee919c0078c",
            "_dom_classes": [],
            "description": "",
            "_model_name": "HTMLModel",
            "placeholder": "​",
            "_view_module": "@jupyter-widgets/controls",
            "_model_module_version": "1.5.0",
            "value": " 26422272/? [00:01&lt;00:00, 26292338.92it/s]",
            "_view_count": null,
            "_view_module_version": "1.5.0",
            "description_tooltip": null,
            "_model_module": "@jupyter-widgets/controls",
            "layout": "IPY_MODEL_da58242cf3384407b12b65470d9bf655"
          }
        },
        "0b903db0fc4d416caf0364ccf1a77e7a": {
          "model_module": "@jupyter-widgets/controls",
          "model_name": "DescriptionStyleModel",
          "model_module_version": "1.5.0",
          "state": {
            "_view_name": "StyleView",
            "_model_name": "DescriptionStyleModel",
            "description_width": "",
            "_view_module": "@jupyter-widgets/base",
            "_model_module_version": "1.5.0",
            "_view_count": null,
            "_view_module_version": "1.2.0",
            "_model_module": "@jupyter-widgets/controls"
          }
        },
        "2f647d981f214b1ba9991d538dc3996a": {
          "model_module": "@jupyter-widgets/base",
          "model_name": "LayoutModel",
          "model_module_version": "1.2.0",
          "state": {
            "_view_name": "LayoutView",
            "grid_template_rows": null,
            "right": null,
            "justify_content": null,
            "_view_module": "@jupyter-widgets/base",
            "overflow": null,
            "_model_module_version": "1.2.0",
            "_view_count": null,
            "flex_flow": null,
            "width": null,
            "min_width": null,
            "border": null,
            "align_items": null,
            "bottom": null,
            "_model_module": "@jupyter-widgets/base",
            "top": null,
            "grid_column": null,
            "overflow_y": null,
            "overflow_x": null,
            "grid_auto_flow": null,
            "grid_area": null,
            "grid_template_columns": null,
            "flex": null,
            "_model_name": "LayoutModel",
            "justify_items": null,
            "grid_row": null,
            "max_height": null,
            "align_content": null,
            "visibility": null,
            "align_self": null,
            "height": null,
            "min_height": null,
            "padding": null,
            "grid_auto_rows": null,
            "grid_gap": null,
            "max_width": null,
            "order": null,
            "_view_module_version": "1.2.0",
            "grid_template_areas": null,
            "object_position": null,
            "object_fit": null,
            "grid_auto_columns": null,
            "margin": null,
            "display": null,
            "left": null
          }
        },
        "b400a67e66e747bc961c1c164cf557fc": {
          "model_module": "@jupyter-widgets/controls",
          "model_name": "ProgressStyleModel",
          "model_module_version": "1.5.0",
          "state": {
            "_view_name": "StyleView",
            "_model_name": "ProgressStyleModel",
            "description_width": "",
            "_view_module": "@jupyter-widgets/base",
            "_model_module_version": "1.5.0",
            "_view_count": null,
            "_view_module_version": "1.2.0",
            "bar_color": null,
            "_model_module": "@jupyter-widgets/controls"
          }
        },
        "3aee9419341a432d80d4f0ff41270f0e": {
          "model_module": "@jupyter-widgets/base",
          "model_name": "LayoutModel",
          "model_module_version": "1.2.0",
          "state": {
            "_view_name": "LayoutView",
            "grid_template_rows": null,
            "right": null,
            "justify_content": null,
            "_view_module": "@jupyter-widgets/base",
            "overflow": null,
            "_model_module_version": "1.2.0",
            "_view_count": null,
            "flex_flow": null,
            "width": null,
            "min_width": null,
            "border": null,
            "align_items": null,
            "bottom": null,
            "_model_module": "@jupyter-widgets/base",
            "top": null,
            "grid_column": null,
            "overflow_y": null,
            "overflow_x": null,
            "grid_auto_flow": null,
            "grid_area": null,
            "grid_template_columns": null,
            "flex": null,
            "_model_name": "LayoutModel",
            "justify_items": null,
            "grid_row": null,
            "max_height": null,
            "align_content": null,
            "visibility": null,
            "align_self": null,
            "height": null,
            "min_height": null,
            "padding": null,
            "grid_auto_rows": null,
            "grid_gap": null,
            "max_width": null,
            "order": null,
            "_view_module_version": "1.2.0",
            "grid_template_areas": null,
            "object_position": null,
            "object_fit": null,
            "grid_auto_columns": null,
            "margin": null,
            "display": null,
            "left": null
          }
        },
        "58e820ffaa194f2aba30bee919c0078c": {
          "model_module": "@jupyter-widgets/controls",
          "model_name": "DescriptionStyleModel",
          "model_module_version": "1.5.0",
          "state": {
            "_view_name": "StyleView",
            "_model_name": "DescriptionStyleModel",
            "description_width": "",
            "_view_module": "@jupyter-widgets/base",
            "_model_module_version": "1.5.0",
            "_view_count": null,
            "_view_module_version": "1.2.0",
            "_model_module": "@jupyter-widgets/controls"
          }
        },
        "da58242cf3384407b12b65470d9bf655": {
          "model_module": "@jupyter-widgets/base",
          "model_name": "LayoutModel",
          "model_module_version": "1.2.0",
          "state": {
            "_view_name": "LayoutView",
            "grid_template_rows": null,
            "right": null,
            "justify_content": null,
            "_view_module": "@jupyter-widgets/base",
            "overflow": null,
            "_model_module_version": "1.2.0",
            "_view_count": null,
            "flex_flow": null,
            "width": null,
            "min_width": null,
            "border": null,
            "align_items": null,
            "bottom": null,
            "_model_module": "@jupyter-widgets/base",
            "top": null,
            "grid_column": null,
            "overflow_y": null,
            "overflow_x": null,
            "grid_auto_flow": null,
            "grid_area": null,
            "grid_template_columns": null,
            "flex": null,
            "_model_name": "LayoutModel",
            "justify_items": null,
            "grid_row": null,
            "max_height": null,
            "align_content": null,
            "visibility": null,
            "align_self": null,
            "height": null,
            "min_height": null,
            "padding": null,
            "grid_auto_rows": null,
            "grid_gap": null,
            "max_width": null,
            "order": null,
            "_view_module_version": "1.2.0",
            "grid_template_areas": null,
            "object_position": null,
            "object_fit": null,
            "grid_auto_columns": null,
            "margin": null,
            "display": null,
            "left": null
          }
        },
        "416989e3ebd5479f8b41e792815f0fcb": {
          "model_module": "@jupyter-widgets/controls",
          "model_name": "HBoxModel",
          "model_module_version": "1.5.0",
          "state": {
            "_view_name": "HBoxView",
            "_dom_classes": [],
            "_model_name": "HBoxModel",
            "_view_module": "@jupyter-widgets/controls",
            "_model_module_version": "1.5.0",
            "_view_count": null,
            "_view_module_version": "1.5.0",
            "box_style": "",
            "layout": "IPY_MODEL_50a5eb1cc829430085310465bcb37feb",
            "_model_module": "@jupyter-widgets/controls",
            "children": [
              "IPY_MODEL_cbf240a54eaa4a60a88a6847ded73be1",
              "IPY_MODEL_aeb67b0c11804e02a6f15c62f37d26ab",
              "IPY_MODEL_ba7a72f562fe40839c8a922862b65091"
            ]
          }
        },
        "50a5eb1cc829430085310465bcb37feb": {
          "model_module": "@jupyter-widgets/base",
          "model_name": "LayoutModel",
          "model_module_version": "1.2.0",
          "state": {
            "_view_name": "LayoutView",
            "grid_template_rows": null,
            "right": null,
            "justify_content": null,
            "_view_module": "@jupyter-widgets/base",
            "overflow": null,
            "_model_module_version": "1.2.0",
            "_view_count": null,
            "flex_flow": null,
            "width": null,
            "min_width": null,
            "border": null,
            "align_items": null,
            "bottom": null,
            "_model_module": "@jupyter-widgets/base",
            "top": null,
            "grid_column": null,
            "overflow_y": null,
            "overflow_x": null,
            "grid_auto_flow": null,
            "grid_area": null,
            "grid_template_columns": null,
            "flex": null,
            "_model_name": "LayoutModel",
            "justify_items": null,
            "grid_row": null,
            "max_height": null,
            "align_content": null,
            "visibility": null,
            "align_self": null,
            "height": null,
            "min_height": null,
            "padding": null,
            "grid_auto_rows": null,
            "grid_gap": null,
            "max_width": null,
            "order": null,
            "_view_module_version": "1.2.0",
            "grid_template_areas": null,
            "object_position": null,
            "object_fit": null,
            "grid_auto_columns": null,
            "margin": null,
            "display": null,
            "left": null
          }
        },
        "cbf240a54eaa4a60a88a6847ded73be1": {
          "model_module": "@jupyter-widgets/controls",
          "model_name": "HTMLModel",
          "model_module_version": "1.5.0",
          "state": {
            "_view_name": "HTMLView",
            "style": "IPY_MODEL_3ce67b9a1ecd410ba9f13e2656cdc0e9",
            "_dom_classes": [],
            "description": "",
            "_model_name": "HTMLModel",
            "placeholder": "​",
            "_view_module": "@jupyter-widgets/controls",
            "_model_module_version": "1.5.0",
            "value": "",
            "_view_count": null,
            "_view_module_version": "1.5.0",
            "description_tooltip": null,
            "_model_module": "@jupyter-widgets/controls",
            "layout": "IPY_MODEL_568e727cd4ef4547b05400eaf72ca351"
          }
        },
        "aeb67b0c11804e02a6f15c62f37d26ab": {
          "model_module": "@jupyter-widgets/controls",
          "model_name": "FloatProgressModel",
          "model_module_version": "1.5.0",
          "state": {
            "_view_name": "ProgressView",
            "style": "IPY_MODEL_458580556c704cd1ab1eb98a421016a9",
            "_dom_classes": [],
            "description": "",
            "_model_name": "FloatProgressModel",
            "bar_style": "success",
            "max": 29515,
            "_view_module": "@jupyter-widgets/controls",
            "_model_module_version": "1.5.0",
            "value": 29515,
            "_view_count": null,
            "_view_module_version": "1.5.0",
            "orientation": "horizontal",
            "min": 0,
            "description_tooltip": null,
            "_model_module": "@jupyter-widgets/controls",
            "layout": "IPY_MODEL_b591e73450f142ecbd2750f8a72e7722"
          }
        },
        "ba7a72f562fe40839c8a922862b65091": {
          "model_module": "@jupyter-widgets/controls",
          "model_name": "HTMLModel",
          "model_module_version": "1.5.0",
          "state": {
            "_view_name": "HTMLView",
            "style": "IPY_MODEL_3972626e0bd844a097fceec57dd7d467",
            "_dom_classes": [],
            "description": "",
            "_model_name": "HTMLModel",
            "placeholder": "​",
            "_view_module": "@jupyter-widgets/controls",
            "_model_module_version": "1.5.0",
            "value": " 29696/? [00:00&lt;00:00, 336898.45it/s]",
            "_view_count": null,
            "_view_module_version": "1.5.0",
            "description_tooltip": null,
            "_model_module": "@jupyter-widgets/controls",
            "layout": "IPY_MODEL_f26588c081204c06b39691ce340970c8"
          }
        },
        "3ce67b9a1ecd410ba9f13e2656cdc0e9": {
          "model_module": "@jupyter-widgets/controls",
          "model_name": "DescriptionStyleModel",
          "model_module_version": "1.5.0",
          "state": {
            "_view_name": "StyleView",
            "_model_name": "DescriptionStyleModel",
            "description_width": "",
            "_view_module": "@jupyter-widgets/base",
            "_model_module_version": "1.5.0",
            "_view_count": null,
            "_view_module_version": "1.2.0",
            "_model_module": "@jupyter-widgets/controls"
          }
        },
        "568e727cd4ef4547b05400eaf72ca351": {
          "model_module": "@jupyter-widgets/base",
          "model_name": "LayoutModel",
          "model_module_version": "1.2.0",
          "state": {
            "_view_name": "LayoutView",
            "grid_template_rows": null,
            "right": null,
            "justify_content": null,
            "_view_module": "@jupyter-widgets/base",
            "overflow": null,
            "_model_module_version": "1.2.0",
            "_view_count": null,
            "flex_flow": null,
            "width": null,
            "min_width": null,
            "border": null,
            "align_items": null,
            "bottom": null,
            "_model_module": "@jupyter-widgets/base",
            "top": null,
            "grid_column": null,
            "overflow_y": null,
            "overflow_x": null,
            "grid_auto_flow": null,
            "grid_area": null,
            "grid_template_columns": null,
            "flex": null,
            "_model_name": "LayoutModel",
            "justify_items": null,
            "grid_row": null,
            "max_height": null,
            "align_content": null,
            "visibility": null,
            "align_self": null,
            "height": null,
            "min_height": null,
            "padding": null,
            "grid_auto_rows": null,
            "grid_gap": null,
            "max_width": null,
            "order": null,
            "_view_module_version": "1.2.0",
            "grid_template_areas": null,
            "object_position": null,
            "object_fit": null,
            "grid_auto_columns": null,
            "margin": null,
            "display": null,
            "left": null
          }
        },
        "458580556c704cd1ab1eb98a421016a9": {
          "model_module": "@jupyter-widgets/controls",
          "model_name": "ProgressStyleModel",
          "model_module_version": "1.5.0",
          "state": {
            "_view_name": "StyleView",
            "_model_name": "ProgressStyleModel",
            "description_width": "",
            "_view_module": "@jupyter-widgets/base",
            "_model_module_version": "1.5.0",
            "_view_count": null,
            "_view_module_version": "1.2.0",
            "bar_color": null,
            "_model_module": "@jupyter-widgets/controls"
          }
        },
        "b591e73450f142ecbd2750f8a72e7722": {
          "model_module": "@jupyter-widgets/base",
          "model_name": "LayoutModel",
          "model_module_version": "1.2.0",
          "state": {
            "_view_name": "LayoutView",
            "grid_template_rows": null,
            "right": null,
            "justify_content": null,
            "_view_module": "@jupyter-widgets/base",
            "overflow": null,
            "_model_module_version": "1.2.0",
            "_view_count": null,
            "flex_flow": null,
            "width": null,
            "min_width": null,
            "border": null,
            "align_items": null,
            "bottom": null,
            "_model_module": "@jupyter-widgets/base",
            "top": null,
            "grid_column": null,
            "overflow_y": null,
            "overflow_x": null,
            "grid_auto_flow": null,
            "grid_area": null,
            "grid_template_columns": null,
            "flex": null,
            "_model_name": "LayoutModel",
            "justify_items": null,
            "grid_row": null,
            "max_height": null,
            "align_content": null,
            "visibility": null,
            "align_self": null,
            "height": null,
            "min_height": null,
            "padding": null,
            "grid_auto_rows": null,
            "grid_gap": null,
            "max_width": null,
            "order": null,
            "_view_module_version": "1.2.0",
            "grid_template_areas": null,
            "object_position": null,
            "object_fit": null,
            "grid_auto_columns": null,
            "margin": null,
            "display": null,
            "left": null
          }
        },
        "3972626e0bd844a097fceec57dd7d467": {
          "model_module": "@jupyter-widgets/controls",
          "model_name": "DescriptionStyleModel",
          "model_module_version": "1.5.0",
          "state": {
            "_view_name": "StyleView",
            "_model_name": "DescriptionStyleModel",
            "description_width": "",
            "_view_module": "@jupyter-widgets/base",
            "_model_module_version": "1.5.0",
            "_view_count": null,
            "_view_module_version": "1.2.0",
            "_model_module": "@jupyter-widgets/controls"
          }
        },
        "f26588c081204c06b39691ce340970c8": {
          "model_module": "@jupyter-widgets/base",
          "model_name": "LayoutModel",
          "model_module_version": "1.2.0",
          "state": {
            "_view_name": "LayoutView",
            "grid_template_rows": null,
            "right": null,
            "justify_content": null,
            "_view_module": "@jupyter-widgets/base",
            "overflow": null,
            "_model_module_version": "1.2.0",
            "_view_count": null,
            "flex_flow": null,
            "width": null,
            "min_width": null,
            "border": null,
            "align_items": null,
            "bottom": null,
            "_model_module": "@jupyter-widgets/base",
            "top": null,
            "grid_column": null,
            "overflow_y": null,
            "overflow_x": null,
            "grid_auto_flow": null,
            "grid_area": null,
            "grid_template_columns": null,
            "flex": null,
            "_model_name": "LayoutModel",
            "justify_items": null,
            "grid_row": null,
            "max_height": null,
            "align_content": null,
            "visibility": null,
            "align_self": null,
            "height": null,
            "min_height": null,
            "padding": null,
            "grid_auto_rows": null,
            "grid_gap": null,
            "max_width": null,
            "order": null,
            "_view_module_version": "1.2.0",
            "grid_template_areas": null,
            "object_position": null,
            "object_fit": null,
            "grid_auto_columns": null,
            "margin": null,
            "display": null,
            "left": null
          }
        },
        "d8f9a9b2a79b46d7a77839f788cf8962": {
          "model_module": "@jupyter-widgets/controls",
          "model_name": "HBoxModel",
          "model_module_version": "1.5.0",
          "state": {
            "_view_name": "HBoxView",
            "_dom_classes": [],
            "_model_name": "HBoxModel",
            "_view_module": "@jupyter-widgets/controls",
            "_model_module_version": "1.5.0",
            "_view_count": null,
            "_view_module_version": "1.5.0",
            "box_style": "",
            "layout": "IPY_MODEL_e86329faae22436f8ed7e1d9d9dec722",
            "_model_module": "@jupyter-widgets/controls",
            "children": [
              "IPY_MODEL_74996a23fb3840bf85f0f9a10991a5e5",
              "IPY_MODEL_2d3467f7b50246efad3c8b283d5da1f7",
              "IPY_MODEL_15014a8218494bd99d5e5a9caa2212b1"
            ]
          }
        },
        "e86329faae22436f8ed7e1d9d9dec722": {
          "model_module": "@jupyter-widgets/base",
          "model_name": "LayoutModel",
          "model_module_version": "1.2.0",
          "state": {
            "_view_name": "LayoutView",
            "grid_template_rows": null,
            "right": null,
            "justify_content": null,
            "_view_module": "@jupyter-widgets/base",
            "overflow": null,
            "_model_module_version": "1.2.0",
            "_view_count": null,
            "flex_flow": null,
            "width": null,
            "min_width": null,
            "border": null,
            "align_items": null,
            "bottom": null,
            "_model_module": "@jupyter-widgets/base",
            "top": null,
            "grid_column": null,
            "overflow_y": null,
            "overflow_x": null,
            "grid_auto_flow": null,
            "grid_area": null,
            "grid_template_columns": null,
            "flex": null,
            "_model_name": "LayoutModel",
            "justify_items": null,
            "grid_row": null,
            "max_height": null,
            "align_content": null,
            "visibility": null,
            "align_self": null,
            "height": null,
            "min_height": null,
            "padding": null,
            "grid_auto_rows": null,
            "grid_gap": null,
            "max_width": null,
            "order": null,
            "_view_module_version": "1.2.0",
            "grid_template_areas": null,
            "object_position": null,
            "object_fit": null,
            "grid_auto_columns": null,
            "margin": null,
            "display": null,
            "left": null
          }
        },
        "74996a23fb3840bf85f0f9a10991a5e5": {
          "model_module": "@jupyter-widgets/controls",
          "model_name": "HTMLModel",
          "model_module_version": "1.5.0",
          "state": {
            "_view_name": "HTMLView",
            "style": "IPY_MODEL_86a0317effff460497f450466ed4a128",
            "_dom_classes": [],
            "description": "",
            "_model_name": "HTMLModel",
            "placeholder": "​",
            "_view_module": "@jupyter-widgets/controls",
            "_model_module_version": "1.5.0",
            "value": "",
            "_view_count": null,
            "_view_module_version": "1.5.0",
            "description_tooltip": null,
            "_model_module": "@jupyter-widgets/controls",
            "layout": "IPY_MODEL_1b9dacf62b8944f8b145fb63d57f5601"
          }
        },
        "2d3467f7b50246efad3c8b283d5da1f7": {
          "model_module": "@jupyter-widgets/controls",
          "model_name": "FloatProgressModel",
          "model_module_version": "1.5.0",
          "state": {
            "_view_name": "ProgressView",
            "style": "IPY_MODEL_a9f325d4dc71448a9606488a0b778851",
            "_dom_classes": [],
            "description": "",
            "_model_name": "FloatProgressModel",
            "bar_style": "success",
            "max": 4422102,
            "_view_module": "@jupyter-widgets/controls",
            "_model_module_version": "1.5.0",
            "value": 4422102,
            "_view_count": null,
            "_view_module_version": "1.5.0",
            "orientation": "horizontal",
            "min": 0,
            "description_tooltip": null,
            "_model_module": "@jupyter-widgets/controls",
            "layout": "IPY_MODEL_577e181f89f64692a7df3b464ea453df"
          }
        },
        "15014a8218494bd99d5e5a9caa2212b1": {
          "model_module": "@jupyter-widgets/controls",
          "model_name": "HTMLModel",
          "model_module_version": "1.5.0",
          "state": {
            "_view_name": "HTMLView",
            "style": "IPY_MODEL_72b70dc3cc0446e4ad80c5a3c085bab8",
            "_dom_classes": [],
            "description": "",
            "_model_name": "HTMLModel",
            "placeholder": "​",
            "_view_module": "@jupyter-widgets/controls",
            "_model_module_version": "1.5.0",
            "value": " 4422656/? [00:00&lt;00:00, 7955781.64it/s]",
            "_view_count": null,
            "_view_module_version": "1.5.0",
            "description_tooltip": null,
            "_model_module": "@jupyter-widgets/controls",
            "layout": "IPY_MODEL_af3f567dac054a4a980df74348cbf26a"
          }
        },
        "86a0317effff460497f450466ed4a128": {
          "model_module": "@jupyter-widgets/controls",
          "model_name": "DescriptionStyleModel",
          "model_module_version": "1.5.0",
          "state": {
            "_view_name": "StyleView",
            "_model_name": "DescriptionStyleModel",
            "description_width": "",
            "_view_module": "@jupyter-widgets/base",
            "_model_module_version": "1.5.0",
            "_view_count": null,
            "_view_module_version": "1.2.0",
            "_model_module": "@jupyter-widgets/controls"
          }
        },
        "1b9dacf62b8944f8b145fb63d57f5601": {
          "model_module": "@jupyter-widgets/base",
          "model_name": "LayoutModel",
          "model_module_version": "1.2.0",
          "state": {
            "_view_name": "LayoutView",
            "grid_template_rows": null,
            "right": null,
            "justify_content": null,
            "_view_module": "@jupyter-widgets/base",
            "overflow": null,
            "_model_module_version": "1.2.0",
            "_view_count": null,
            "flex_flow": null,
            "width": null,
            "min_width": null,
            "border": null,
            "align_items": null,
            "bottom": null,
            "_model_module": "@jupyter-widgets/base",
            "top": null,
            "grid_column": null,
            "overflow_y": null,
            "overflow_x": null,
            "grid_auto_flow": null,
            "grid_area": null,
            "grid_template_columns": null,
            "flex": null,
            "_model_name": "LayoutModel",
            "justify_items": null,
            "grid_row": null,
            "max_height": null,
            "align_content": null,
            "visibility": null,
            "align_self": null,
            "height": null,
            "min_height": null,
            "padding": null,
            "grid_auto_rows": null,
            "grid_gap": null,
            "max_width": null,
            "order": null,
            "_view_module_version": "1.2.0",
            "grid_template_areas": null,
            "object_position": null,
            "object_fit": null,
            "grid_auto_columns": null,
            "margin": null,
            "display": null,
            "left": null
          }
        },
        "a9f325d4dc71448a9606488a0b778851": {
          "model_module": "@jupyter-widgets/controls",
          "model_name": "ProgressStyleModel",
          "model_module_version": "1.5.0",
          "state": {
            "_view_name": "StyleView",
            "_model_name": "ProgressStyleModel",
            "description_width": "",
            "_view_module": "@jupyter-widgets/base",
            "_model_module_version": "1.5.0",
            "_view_count": null,
            "_view_module_version": "1.2.0",
            "bar_color": null,
            "_model_module": "@jupyter-widgets/controls"
          }
        },
        "577e181f89f64692a7df3b464ea453df": {
          "model_module": "@jupyter-widgets/base",
          "model_name": "LayoutModel",
          "model_module_version": "1.2.0",
          "state": {
            "_view_name": "LayoutView",
            "grid_template_rows": null,
            "right": null,
            "justify_content": null,
            "_view_module": "@jupyter-widgets/base",
            "overflow": null,
            "_model_module_version": "1.2.0",
            "_view_count": null,
            "flex_flow": null,
            "width": null,
            "min_width": null,
            "border": null,
            "align_items": null,
            "bottom": null,
            "_model_module": "@jupyter-widgets/base",
            "top": null,
            "grid_column": null,
            "overflow_y": null,
            "overflow_x": null,
            "grid_auto_flow": null,
            "grid_area": null,
            "grid_template_columns": null,
            "flex": null,
            "_model_name": "LayoutModel",
            "justify_items": null,
            "grid_row": null,
            "max_height": null,
            "align_content": null,
            "visibility": null,
            "align_self": null,
            "height": null,
            "min_height": null,
            "padding": null,
            "grid_auto_rows": null,
            "grid_gap": null,
            "max_width": null,
            "order": null,
            "_view_module_version": "1.2.0",
            "grid_template_areas": null,
            "object_position": null,
            "object_fit": null,
            "grid_auto_columns": null,
            "margin": null,
            "display": null,
            "left": null
          }
        },
        "72b70dc3cc0446e4ad80c5a3c085bab8": {
          "model_module": "@jupyter-widgets/controls",
          "model_name": "DescriptionStyleModel",
          "model_module_version": "1.5.0",
          "state": {
            "_view_name": "StyleView",
            "_model_name": "DescriptionStyleModel",
            "description_width": "",
            "_view_module": "@jupyter-widgets/base",
            "_model_module_version": "1.5.0",
            "_view_count": null,
            "_view_module_version": "1.2.0",
            "_model_module": "@jupyter-widgets/controls"
          }
        },
        "af3f567dac054a4a980df74348cbf26a": {
          "model_module": "@jupyter-widgets/base",
          "model_name": "LayoutModel",
          "model_module_version": "1.2.0",
          "state": {
            "_view_name": "LayoutView",
            "grid_template_rows": null,
            "right": null,
            "justify_content": null,
            "_view_module": "@jupyter-widgets/base",
            "overflow": null,
            "_model_module_version": "1.2.0",
            "_view_count": null,
            "flex_flow": null,
            "width": null,
            "min_width": null,
            "border": null,
            "align_items": null,
            "bottom": null,
            "_model_module": "@jupyter-widgets/base",
            "top": null,
            "grid_column": null,
            "overflow_y": null,
            "overflow_x": null,
            "grid_auto_flow": null,
            "grid_area": null,
            "grid_template_columns": null,
            "flex": null,
            "_model_name": "LayoutModel",
            "justify_items": null,
            "grid_row": null,
            "max_height": null,
            "align_content": null,
            "visibility": null,
            "align_self": null,
            "height": null,
            "min_height": null,
            "padding": null,
            "grid_auto_rows": null,
            "grid_gap": null,
            "max_width": null,
            "order": null,
            "_view_module_version": "1.2.0",
            "grid_template_areas": null,
            "object_position": null,
            "object_fit": null,
            "grid_auto_columns": null,
            "margin": null,
            "display": null,
            "left": null
          }
        },
        "0ea632c7421f48489ceff6a8b26bc54e": {
          "model_module": "@jupyter-widgets/controls",
          "model_name": "HBoxModel",
          "model_module_version": "1.5.0",
          "state": {
            "_view_name": "HBoxView",
            "_dom_classes": [],
            "_model_name": "HBoxModel",
            "_view_module": "@jupyter-widgets/controls",
            "_model_module_version": "1.5.0",
            "_view_count": null,
            "_view_module_version": "1.5.0",
            "box_style": "",
            "layout": "IPY_MODEL_9a23384bb2a64b21861aa07ed75b8e63",
            "_model_module": "@jupyter-widgets/controls",
            "children": [
              "IPY_MODEL_6c1c07c03955427480fe0b629b7944bf",
              "IPY_MODEL_92fc0bfb4efa4e848c8c38796f3dd39a",
              "IPY_MODEL_116d859714f946e198caee2b1433bf22"
            ]
          }
        },
        "9a23384bb2a64b21861aa07ed75b8e63": {
          "model_module": "@jupyter-widgets/base",
          "model_name": "LayoutModel",
          "model_module_version": "1.2.0",
          "state": {
            "_view_name": "LayoutView",
            "grid_template_rows": null,
            "right": null,
            "justify_content": null,
            "_view_module": "@jupyter-widgets/base",
            "overflow": null,
            "_model_module_version": "1.2.0",
            "_view_count": null,
            "flex_flow": null,
            "width": null,
            "min_width": null,
            "border": null,
            "align_items": null,
            "bottom": null,
            "_model_module": "@jupyter-widgets/base",
            "top": null,
            "grid_column": null,
            "overflow_y": null,
            "overflow_x": null,
            "grid_auto_flow": null,
            "grid_area": null,
            "grid_template_columns": null,
            "flex": null,
            "_model_name": "LayoutModel",
            "justify_items": null,
            "grid_row": null,
            "max_height": null,
            "align_content": null,
            "visibility": null,
            "align_self": null,
            "height": null,
            "min_height": null,
            "padding": null,
            "grid_auto_rows": null,
            "grid_gap": null,
            "max_width": null,
            "order": null,
            "_view_module_version": "1.2.0",
            "grid_template_areas": null,
            "object_position": null,
            "object_fit": null,
            "grid_auto_columns": null,
            "margin": null,
            "display": null,
            "left": null
          }
        },
        "6c1c07c03955427480fe0b629b7944bf": {
          "model_module": "@jupyter-widgets/controls",
          "model_name": "HTMLModel",
          "model_module_version": "1.5.0",
          "state": {
            "_view_name": "HTMLView",
            "style": "IPY_MODEL_029b923e92fd40a3b0006c8be2cc7592",
            "_dom_classes": [],
            "description": "",
            "_model_name": "HTMLModel",
            "placeholder": "​",
            "_view_module": "@jupyter-widgets/controls",
            "_model_module_version": "1.5.0",
            "value": "",
            "_view_count": null,
            "_view_module_version": "1.5.0",
            "description_tooltip": null,
            "_model_module": "@jupyter-widgets/controls",
            "layout": "IPY_MODEL_c5649a1eb23f42a4949707b991dfbcd4"
          }
        },
        "92fc0bfb4efa4e848c8c38796f3dd39a": {
          "model_module": "@jupyter-widgets/controls",
          "model_name": "FloatProgressModel",
          "model_module_version": "1.5.0",
          "state": {
            "_view_name": "ProgressView",
            "style": "IPY_MODEL_c599f487ee0e44b4b8bdef9ce84066f2",
            "_dom_classes": [],
            "description": "",
            "_model_name": "FloatProgressModel",
            "bar_style": "success",
            "max": 5148,
            "_view_module": "@jupyter-widgets/controls",
            "_model_module_version": "1.5.0",
            "value": 5148,
            "_view_count": null,
            "_view_module_version": "1.5.0",
            "orientation": "horizontal",
            "min": 0,
            "description_tooltip": null,
            "_model_module": "@jupyter-widgets/controls",
            "layout": "IPY_MODEL_e7ceda0f1f2448359a41c6c48647aadf"
          }
        },
        "116d859714f946e198caee2b1433bf22": {
          "model_module": "@jupyter-widgets/controls",
          "model_name": "HTMLModel",
          "model_module_version": "1.5.0",
          "state": {
            "_view_name": "HTMLView",
            "style": "IPY_MODEL_3ae6693aa8e84dcabdb93f25597e737f",
            "_dom_classes": [],
            "description": "",
            "_model_name": "HTMLModel",
            "placeholder": "​",
            "_view_module": "@jupyter-widgets/controls",
            "_model_module_version": "1.5.0",
            "value": " 6144/? [00:00&lt;00:00, 113770.45it/s]",
            "_view_count": null,
            "_view_module_version": "1.5.0",
            "description_tooltip": null,
            "_model_module": "@jupyter-widgets/controls",
            "layout": "IPY_MODEL_6fbb4aa92fef43619c3524893eb00fd7"
          }
        },
        "029b923e92fd40a3b0006c8be2cc7592": {
          "model_module": "@jupyter-widgets/controls",
          "model_name": "DescriptionStyleModel",
          "model_module_version": "1.5.0",
          "state": {
            "_view_name": "StyleView",
            "_model_name": "DescriptionStyleModel",
            "description_width": "",
            "_view_module": "@jupyter-widgets/base",
            "_model_module_version": "1.5.0",
            "_view_count": null,
            "_view_module_version": "1.2.0",
            "_model_module": "@jupyter-widgets/controls"
          }
        },
        "c5649a1eb23f42a4949707b991dfbcd4": {
          "model_module": "@jupyter-widgets/base",
          "model_name": "LayoutModel",
          "model_module_version": "1.2.0",
          "state": {
            "_view_name": "LayoutView",
            "grid_template_rows": null,
            "right": null,
            "justify_content": null,
            "_view_module": "@jupyter-widgets/base",
            "overflow": null,
            "_model_module_version": "1.2.0",
            "_view_count": null,
            "flex_flow": null,
            "width": null,
            "min_width": null,
            "border": null,
            "align_items": null,
            "bottom": null,
            "_model_module": "@jupyter-widgets/base",
            "top": null,
            "grid_column": null,
            "overflow_y": null,
            "overflow_x": null,
            "grid_auto_flow": null,
            "grid_area": null,
            "grid_template_columns": null,
            "flex": null,
            "_model_name": "LayoutModel",
            "justify_items": null,
            "grid_row": null,
            "max_height": null,
            "align_content": null,
            "visibility": null,
            "align_self": null,
            "height": null,
            "min_height": null,
            "padding": null,
            "grid_auto_rows": null,
            "grid_gap": null,
            "max_width": null,
            "order": null,
            "_view_module_version": "1.2.0",
            "grid_template_areas": null,
            "object_position": null,
            "object_fit": null,
            "grid_auto_columns": null,
            "margin": null,
            "display": null,
            "left": null
          }
        },
        "c599f487ee0e44b4b8bdef9ce84066f2": {
          "model_module": "@jupyter-widgets/controls",
          "model_name": "ProgressStyleModel",
          "model_module_version": "1.5.0",
          "state": {
            "_view_name": "StyleView",
            "_model_name": "ProgressStyleModel",
            "description_width": "",
            "_view_module": "@jupyter-widgets/base",
            "_model_module_version": "1.5.0",
            "_view_count": null,
            "_view_module_version": "1.2.0",
            "bar_color": null,
            "_model_module": "@jupyter-widgets/controls"
          }
        },
        "e7ceda0f1f2448359a41c6c48647aadf": {
          "model_module": "@jupyter-widgets/base",
          "model_name": "LayoutModel",
          "model_module_version": "1.2.0",
          "state": {
            "_view_name": "LayoutView",
            "grid_template_rows": null,
            "right": null,
            "justify_content": null,
            "_view_module": "@jupyter-widgets/base",
            "overflow": null,
            "_model_module_version": "1.2.0",
            "_view_count": null,
            "flex_flow": null,
            "width": null,
            "min_width": null,
            "border": null,
            "align_items": null,
            "bottom": null,
            "_model_module": "@jupyter-widgets/base",
            "top": null,
            "grid_column": null,
            "overflow_y": null,
            "overflow_x": null,
            "grid_auto_flow": null,
            "grid_area": null,
            "grid_template_columns": null,
            "flex": null,
            "_model_name": "LayoutModel",
            "justify_items": null,
            "grid_row": null,
            "max_height": null,
            "align_content": null,
            "visibility": null,
            "align_self": null,
            "height": null,
            "min_height": null,
            "padding": null,
            "grid_auto_rows": null,
            "grid_gap": null,
            "max_width": null,
            "order": null,
            "_view_module_version": "1.2.0",
            "grid_template_areas": null,
            "object_position": null,
            "object_fit": null,
            "grid_auto_columns": null,
            "margin": null,
            "display": null,
            "left": null
          }
        },
        "3ae6693aa8e84dcabdb93f25597e737f": {
          "model_module": "@jupyter-widgets/controls",
          "model_name": "DescriptionStyleModel",
          "model_module_version": "1.5.0",
          "state": {
            "_view_name": "StyleView",
            "_model_name": "DescriptionStyleModel",
            "description_width": "",
            "_view_module": "@jupyter-widgets/base",
            "_model_module_version": "1.5.0",
            "_view_count": null,
            "_view_module_version": "1.2.0",
            "_model_module": "@jupyter-widgets/controls"
          }
        },
        "6fbb4aa92fef43619c3524893eb00fd7": {
          "model_module": "@jupyter-widgets/base",
          "model_name": "LayoutModel",
          "model_module_version": "1.2.0",
          "state": {
            "_view_name": "LayoutView",
            "grid_template_rows": null,
            "right": null,
            "justify_content": null,
            "_view_module": "@jupyter-widgets/base",
            "overflow": null,
            "_model_module_version": "1.2.0",
            "_view_count": null,
            "flex_flow": null,
            "width": null,
            "min_width": null,
            "border": null,
            "align_items": null,
            "bottom": null,
            "_model_module": "@jupyter-widgets/base",
            "top": null,
            "grid_column": null,
            "overflow_y": null,
            "overflow_x": null,
            "grid_auto_flow": null,
            "grid_area": null,
            "grid_template_columns": null,
            "flex": null,
            "_model_name": "LayoutModel",
            "justify_items": null,
            "grid_row": null,
            "max_height": null,
            "align_content": null,
            "visibility": null,
            "align_self": null,
            "height": null,
            "min_height": null,
            "padding": null,
            "grid_auto_rows": null,
            "grid_gap": null,
            "max_width": null,
            "order": null,
            "_view_module_version": "1.2.0",
            "grid_template_areas": null,
            "object_position": null,
            "object_fit": null,
            "grid_auto_columns": null,
            "margin": null,
            "display": null,
            "left": null
          }
        }
      }
    }
  },
  "cells": [
    {
      "cell_type": "markdown",
      "metadata": {
        "id": "view-in-github",
        "colab_type": "text"
      },
      "source": [
        "<a href=\"https://colab.research.google.com/github/Paul-mwaura/Programming-PyTorch-for-Deep-Learning/blob/main/Pytorch_MNIST_Dataset.ipynb\" target=\"_parent\"><img src=\"https://colab.research.google.com/assets/colab-badge.svg\" alt=\"Open In Colab\"/></a>"
      ]
    },
    {
      "cell_type": "markdown",
      "metadata": {
        "id": "-zNDyJ1d0WZy"
      },
      "source": [
        "## Pytorch MNIST Dataset"
      ]
    },
    {
      "cell_type": "markdown",
      "metadata": {
        "id": "2qWUXQ6t0zRT"
      },
      "source": [
        "### Working with data"
      ]
    },
    {
      "cell_type": "code",
      "metadata": {
        "id": "m_jVCrVA4hwb"
      },
      "source": [
        "import torch\n",
        "from torch import nn\n",
        "from torch.utils.data import DataLoader\n",
        "from torchvision import datasets\n",
        "from torchvision.transforms import ToTensor, Lambda, Compose\n",
        "import matplotlib.pyplot as plt"
      ],
      "execution_count": 1,
      "outputs": []
    },
    {
      "cell_type": "code",
      "metadata": {
        "colab": {
          "base_uri": "https://localhost:8080/",
          "height": 477,
          "referenced_widgets": [
            "0a8370d5732a4a6789aacdca7525f43e",
            "4f0fb05871fc46bab633458786eccdf6",
            "dd1f1c2a9ce248e8b8b37f01452cd1a3",
            "22d7ba6ef89e47fc84d2ce2d34021989",
            "fed387586c824449bf9c7bd70a0a13fd",
            "0b903db0fc4d416caf0364ccf1a77e7a",
            "2f647d981f214b1ba9991d538dc3996a",
            "b400a67e66e747bc961c1c164cf557fc",
            "3aee9419341a432d80d4f0ff41270f0e",
            "58e820ffaa194f2aba30bee919c0078c",
            "da58242cf3384407b12b65470d9bf655",
            "416989e3ebd5479f8b41e792815f0fcb",
            "50a5eb1cc829430085310465bcb37feb",
            "cbf240a54eaa4a60a88a6847ded73be1",
            "aeb67b0c11804e02a6f15c62f37d26ab",
            "ba7a72f562fe40839c8a922862b65091",
            "3ce67b9a1ecd410ba9f13e2656cdc0e9",
            "568e727cd4ef4547b05400eaf72ca351",
            "458580556c704cd1ab1eb98a421016a9",
            "b591e73450f142ecbd2750f8a72e7722",
            "3972626e0bd844a097fceec57dd7d467",
            "f26588c081204c06b39691ce340970c8",
            "d8f9a9b2a79b46d7a77839f788cf8962",
            "e86329faae22436f8ed7e1d9d9dec722",
            "74996a23fb3840bf85f0f9a10991a5e5",
            "2d3467f7b50246efad3c8b283d5da1f7",
            "15014a8218494bd99d5e5a9caa2212b1",
            "86a0317effff460497f450466ed4a128",
            "1b9dacf62b8944f8b145fb63d57f5601",
            "a9f325d4dc71448a9606488a0b778851",
            "577e181f89f64692a7df3b464ea453df",
            "72b70dc3cc0446e4ad80c5a3c085bab8",
            "af3f567dac054a4a980df74348cbf26a",
            "0ea632c7421f48489ceff6a8b26bc54e",
            "9a23384bb2a64b21861aa07ed75b8e63",
            "6c1c07c03955427480fe0b629b7944bf",
            "92fc0bfb4efa4e848c8c38796f3dd39a",
            "116d859714f946e198caee2b1433bf22",
            "029b923e92fd40a3b0006c8be2cc7592",
            "c5649a1eb23f42a4949707b991dfbcd4",
            "c599f487ee0e44b4b8bdef9ce84066f2",
            "e7ceda0f1f2448359a41c6c48647aadf",
            "3ae6693aa8e84dcabdb93f25597e737f",
            "6fbb4aa92fef43619c3524893eb00fd7"
          ]
        },
        "id": "oMzLyRls0K22",
        "outputId": "ab452a76-e42b-42b0-8410-7dd38904ba37"
      },
      "source": [
        "# Download training data from open datasets.\n",
        "training_data = datasets.FashionMNIST(\n",
        "    root=\"data\",\n",
        "    train=True,\n",
        "    download=True,\n",
        "    transform=ToTensor(),\n",
        ")\n",
        "\n",
        "# Download test data from open datasets.\n",
        "test_data = datasets.FashionMNIST(\n",
        "    root=\"data\",\n",
        "    train=False,\n",
        "    download=True,\n",
        "    transform=ToTensor(),\n",
        ")"
      ],
      "execution_count": 2,
      "outputs": [
        {
          "output_type": "stream",
          "text": [
            "Downloading http://fashion-mnist.s3-website.eu-central-1.amazonaws.com/train-images-idx3-ubyte.gz\n",
            "Downloading http://fashion-mnist.s3-website.eu-central-1.amazonaws.com/train-images-idx3-ubyte.gz to data/FashionMNIST/raw/train-images-idx3-ubyte.gz\n"
          ],
          "name": "stdout"
        },
        {
          "output_type": "display_data",
          "data": {
            "application/vnd.jupyter.widget-view+json": {
              "model_id": "0a8370d5732a4a6789aacdca7525f43e",
              "version_minor": 0,
              "version_major": 2
            },
            "text/plain": [
              "  0%|          | 0/26421880 [00:00<?, ?it/s]"
            ]
          },
          "metadata": {}
        },
        {
          "output_type": "stream",
          "text": [
            "Extracting data/FashionMNIST/raw/train-images-idx3-ubyte.gz to data/FashionMNIST/raw\n",
            "\n",
            "Downloading http://fashion-mnist.s3-website.eu-central-1.amazonaws.com/train-labels-idx1-ubyte.gz\n",
            "Downloading http://fashion-mnist.s3-website.eu-central-1.amazonaws.com/train-labels-idx1-ubyte.gz to data/FashionMNIST/raw/train-labels-idx1-ubyte.gz\n"
          ],
          "name": "stdout"
        },
        {
          "output_type": "display_data",
          "data": {
            "application/vnd.jupyter.widget-view+json": {
              "model_id": "416989e3ebd5479f8b41e792815f0fcb",
              "version_minor": 0,
              "version_major": 2
            },
            "text/plain": [
              "  0%|          | 0/29515 [00:00<?, ?it/s]"
            ]
          },
          "metadata": {}
        },
        {
          "output_type": "stream",
          "text": [
            "Extracting data/FashionMNIST/raw/train-labels-idx1-ubyte.gz to data/FashionMNIST/raw\n",
            "\n",
            "Downloading http://fashion-mnist.s3-website.eu-central-1.amazonaws.com/t10k-images-idx3-ubyte.gz\n",
            "Downloading http://fashion-mnist.s3-website.eu-central-1.amazonaws.com/t10k-images-idx3-ubyte.gz to data/FashionMNIST/raw/t10k-images-idx3-ubyte.gz\n"
          ],
          "name": "stdout"
        },
        {
          "output_type": "display_data",
          "data": {
            "application/vnd.jupyter.widget-view+json": {
              "model_id": "d8f9a9b2a79b46d7a77839f788cf8962",
              "version_minor": 0,
              "version_major": 2
            },
            "text/plain": [
              "  0%|          | 0/4422102 [00:00<?, ?it/s]"
            ]
          },
          "metadata": {}
        },
        {
          "output_type": "stream",
          "text": [
            "Extracting data/FashionMNIST/raw/t10k-images-idx3-ubyte.gz to data/FashionMNIST/raw\n",
            "\n",
            "Downloading http://fashion-mnist.s3-website.eu-central-1.amazonaws.com/t10k-labels-idx1-ubyte.gz\n",
            "Downloading http://fashion-mnist.s3-website.eu-central-1.amazonaws.com/t10k-labels-idx1-ubyte.gz to data/FashionMNIST/raw/t10k-labels-idx1-ubyte.gz\n"
          ],
          "name": "stdout"
        },
        {
          "output_type": "display_data",
          "data": {
            "application/vnd.jupyter.widget-view+json": {
              "model_id": "0ea632c7421f48489ceff6a8b26bc54e",
              "version_minor": 0,
              "version_major": 2
            },
            "text/plain": [
              "  0%|          | 0/5148 [00:00<?, ?it/s]"
            ]
          },
          "metadata": {}
        },
        {
          "output_type": "stream",
          "text": [
            "Extracting data/FashionMNIST/raw/t10k-labels-idx1-ubyte.gz to data/FashionMNIST/raw\n",
            "\n"
          ],
          "name": "stdout"
        },
        {
          "output_type": "stream",
          "text": [
            "/usr/local/lib/python3.7/dist-packages/torchvision/datasets/mnist.py:498: UserWarning: The given NumPy array is not writeable, and PyTorch does not support non-writeable tensors. This means you can write to the underlying (supposedly non-writeable) NumPy array using the tensor. You may want to copy the array to protect its data or make it writeable before converting it to a tensor. This type of warning will be suppressed for the rest of this program. (Triggered internally at  /pytorch/torch/csrc/utils/tensor_numpy.cpp:180.)\n",
            "  return torch.from_numpy(parsed.astype(m[2], copy=False)).view(*s)\n"
          ],
          "name": "stderr"
        }
      ]
    },
    {
      "cell_type": "code",
      "metadata": {
        "colab": {
          "base_uri": "https://localhost:8080/"
        },
        "id": "Cc1i1S1d0bX_",
        "outputId": "ca7309cf-9425-4ccd-c5c9-e625c211f997"
      },
      "source": [
        "training_data"
      ],
      "execution_count": 5,
      "outputs": [
        {
          "output_type": "execute_result",
          "data": {
            "text/plain": [
              "Dataset FashionMNIST\n",
              "    Number of datapoints: 60000\n",
              "    Root location: data\n",
              "    Split: Train\n",
              "    StandardTransform\n",
              "Transform: ToTensor()"
            ]
          },
          "metadata": {},
          "execution_count": 5
        }
      ]
    },
    {
      "cell_type": "code",
      "metadata": {
        "colab": {
          "base_uri": "https://localhost:8080/"
        },
        "id": "gApyvtRk0fm_",
        "outputId": "52afaf0e-5429-45ad-fc5a-c4048dfb8974"
      },
      "source": [
        "test_data"
      ],
      "execution_count": 6,
      "outputs": [
        {
          "output_type": "execute_result",
          "data": {
            "text/plain": [
              "Dataset FashionMNIST\n",
              "    Number of datapoints: 10000\n",
              "    Root location: data\n",
              "    Split: Test\n",
              "    StandardTransform\n",
              "Transform: ToTensor()"
            ]
          },
          "metadata": {},
          "execution_count": 6
        }
      ]
    },
    {
      "cell_type": "code",
      "metadata": {
        "colab": {
          "base_uri": "https://localhost:8080/"
        },
        "id": "9NQvM4Wb0nQ7",
        "outputId": "b63dd75f-e9b2-4a20-9949-6e53e339bb28"
      },
      "source": [
        "batch_size = 64\n",
        "\n",
        "# Create data loaders.\n",
        "train_dataloader = DataLoader(training_data, batch_size=batch_size)\n",
        "test_dataloader = DataLoader(test_data, batch_size=batch_size)\n",
        "\n",
        "for X, y in test_dataloader:\n",
        "    print(\"Shape of X [N, C, H, W]: \", X.shape)\n",
        "    print(\"Shape of y: \", y.shape, y.dtype)\n",
        "    break"
      ],
      "execution_count": 7,
      "outputs": [
        {
          "output_type": "stream",
          "text": [
            "Shape of X [N, C, H, W]:  torch.Size([64, 1, 28, 28])\n",
            "Shape of y:  torch.Size([64]) torch.int64\n"
          ],
          "name": "stdout"
        }
      ]
    },
    {
      "cell_type": "markdown",
      "metadata": {
        "id": "Lu5KD-EQ0unT"
      },
      "source": [
        "### Creating Models"
      ]
    },
    {
      "cell_type": "code",
      "metadata": {
        "colab": {
          "base_uri": "https://localhost:8080/"
        },
        "id": "YkCQNbsL0q40",
        "outputId": "e3e05e11-195e-421f-d4ae-cf29eb6bed10"
      },
      "source": [
        "# Get cpu or gpu device for training.\n",
        "device = \"cuda\" if torch.cuda.is_available() else \"cpu\"\n",
        "print(\"Using {} device\".format(device))\n",
        "\n",
        "# Define model\n",
        "class NeuralNetwork(nn.Module):\n",
        "    def __init__(self):\n",
        "        super(NeuralNetwork, self).__init__()\n",
        "        self.flatten = nn.Flatten()\n",
        "        self.linear_relu_stack = nn.Sequential(\n",
        "            nn.Linear(28*28, 512),\n",
        "            nn.ReLU(),\n",
        "            nn.Linear(512, 10),\n",
        "            nn.ReLU()\n",
        "        )\n",
        "\n",
        "    def forward(self, x):\n",
        "        x = self.flatten(x)\n",
        "        logits = self.linear_relu_stack(x)\n",
        "        return logits\n",
        "\n",
        "model = NeuralNetwork().to(device)\n",
        "print(model)"
      ],
      "execution_count": 41,
      "outputs": [
        {
          "output_type": "stream",
          "text": [
            "Using cpu device\n",
            "NeuralNetwork(\n",
            "  (flatten): Flatten(start_dim=1, end_dim=-1)\n",
            "  (linear_relu_stack): Sequential(\n",
            "    (0): Linear(in_features=784, out_features=512, bias=True)\n",
            "    (1): ReLU()\n",
            "    (2): Linear(in_features=512, out_features=10, bias=True)\n",
            "    (3): ReLU()\n",
            "  )\n",
            ")\n"
          ],
          "name": "stdout"
        }
      ]
    },
    {
      "cell_type": "markdown",
      "metadata": {
        "id": "S2uf5cDD09zc"
      },
      "source": [
        "### Optimizing the Model Parameters\n",
        "To train a model, we need a loss function and an optimizer."
      ]
    },
    {
      "cell_type": "code",
      "metadata": {
        "id": "1i2IytM_06QX"
      },
      "source": [
        "loss_fn = nn.CrossEntropyLoss()\n",
        "optimizer = torch.optim.SGD(model.parameters(), lr=1e-3)"
      ],
      "execution_count": 49,
      "outputs": []
    },
    {
      "cell_type": "markdown",
      "metadata": {
        "id": "RhWwPT1f1Pcs"
      },
      "source": [
        "In a single training loop, the model makes predictions on the training dataset (fed to it in batches), and backpropagates the prediction error to adjust the model’s parameters."
      ]
    },
    {
      "cell_type": "code",
      "metadata": {
        "id": "F740rFxT1LY9"
      },
      "source": [
        "def train(dataloader, model, loss_fn, optimizer):\n",
        "    size = len(dataloader.dataset)\n",
        "    model.train()\n",
        "    for batch, (X, y) in enumerate(dataloader):\n",
        "        X, y = X.to(device), y.to(device)\n",
        "\n",
        "        # Compute prediction error\n",
        "        pred = model(X)\n",
        "        loss = loss_fn(pred, y)\n",
        "\n",
        "        # Backpropagation\n",
        "        optimizer.zero_grad()\n",
        "        loss.backward()\n",
        "        optimizer.step()\n",
        "\n",
        "        if batch % 100 == 0:\n",
        "            loss, current = loss.item(), batch * len(X)\n",
        "            print(f\"loss: {loss:>7f}  [{current:>5d}/{size:>5d}]\")"
      ],
      "execution_count": 50,
      "outputs": []
    },
    {
      "cell_type": "markdown",
      "metadata": {
        "id": "ExUiiRzL1XBf"
      },
      "source": [
        "We also check the model’s performance against the test dataset to ensure it is learning."
      ]
    },
    {
      "cell_type": "code",
      "metadata": {
        "id": "qj3--YHj1SVZ"
      },
      "source": [
        "def test(dataloader, model, loss_fn):\n",
        "    size = len(dataloader.dataset)\n",
        "    num_batches = len(dataloader)\n",
        "    model.eval()\n",
        "    test_loss, correct = 0, 0\n",
        "    with torch.no_grad():\n",
        "        for X, y in dataloader:\n",
        "            X, y = X.to(device), y.to(device)\n",
        "            pred = model(X)\n",
        "            test_loss += loss_fn(pred, y).item()\n",
        "            correct += (pred.argmax(1) == y).type(torch.float).sum().item()\n",
        "    test_loss /= num_batches\n",
        "    correct /= size\n",
        "    print(f\"Test Error: \\n Accuracy: {(100*correct):>0.1f}%, Avg loss: {test_loss:>8f} \\n\")"
      ],
      "execution_count": 51,
      "outputs": []
    },
    {
      "cell_type": "markdown",
      "metadata": {
        "id": "xsvzp22j1awS"
      },
      "source": [
        "The training process is conducted over several iterations (epochs). During each epoch, the model learns parameters to make better predictions. We print the model’s accuracy and loss at each epoch; we’d like to see the accuracy increase and the loss decrease with every epoch."
      ]
    },
    {
      "cell_type": "code",
      "metadata": {
        "colab": {
          "base_uri": "https://localhost:8080/"
        },
        "id": "NWsF_24h1XjL",
        "outputId": "20055e1c-b0da-44cb-9f3f-343fae160448"
      },
      "source": [
        "epochs = 20\n",
        "for t in range(epochs):\n",
        "    print(f\"Epoch {t+1}\\n-------------------------------\")\n",
        "    train(train_dataloader, model, loss_fn, optimizer)\n",
        "    test(test_dataloader, model, loss_fn)\n",
        "print(\"Done!\")"
      ],
      "execution_count": 54,
      "outputs": [
        {
          "output_type": "stream",
          "text": [
            "Epoch 1\n",
            "-------------------------------\n",
            "loss: 0.981115  [    0/60000]\n",
            "loss: 0.958993  [ 6400/60000]\n",
            "loss: 0.785334  [12800/60000]\n",
            "loss: 0.982536  [19200/60000]\n",
            "loss: 0.813195  [25600/60000]\n",
            "loss: 1.035444  [32000/60000]\n",
            "loss: 0.997367  [38400/60000]\n",
            "loss: 1.105674  [44800/60000]\n",
            "loss: 0.983468  [51200/60000]\n",
            "loss: 0.919524  [57600/60000]\n",
            "Test Error: \n",
            " Accuracy: 71.2%, Avg loss: 0.935444 \n",
            "\n",
            "Epoch 2\n",
            "-------------------------------\n",
            "loss: 0.951016  [    0/60000]\n",
            "loss: 0.935776  [ 6400/60000]\n",
            "loss: 0.759085  [12800/60000]\n",
            "loss: 0.962852  [19200/60000]\n",
            "loss: 0.795500  [25600/60000]\n",
            "loss: 1.016202  [32000/60000]\n",
            "loss: 0.975611  [38400/60000]\n",
            "loss: 1.091119  [44800/60000]\n",
            "loss: 0.963655  [51200/60000]\n",
            "loss: 0.901318  [57600/60000]\n",
            "Test Error: \n",
            " Accuracy: 71.7%, Avg loss: 0.916209 \n",
            "\n",
            "Epoch 3\n",
            "-------------------------------\n",
            "loss: 0.924465  [    0/60000]\n",
            "loss: 0.914957  [ 6400/60000]\n",
            "loss: 0.736185  [12800/60000]\n",
            "loss: 0.945395  [19200/60000]\n",
            "loss: 0.780430  [25600/60000]\n",
            "loss: 0.999716  [32000/60000]\n",
            "loss: 0.956227  [38400/60000]\n",
            "loss: 1.079129  [44800/60000]\n",
            "loss: 0.946516  [51200/60000]\n",
            "loss: 0.884898  [57600/60000]\n",
            "Test Error: \n",
            " Accuracy: 72.2%, Avg loss: 0.899182 \n",
            "\n",
            "Epoch 4\n",
            "-------------------------------\n",
            "loss: 0.900969  [    0/60000]\n",
            "loss: 0.896184  [ 6400/60000]\n",
            "loss: 0.715993  [12800/60000]\n",
            "loss: 0.929949  [19200/60000]\n",
            "loss: 0.767584  [25600/60000]\n",
            "loss: 0.985412  [32000/60000]\n",
            "loss: 0.938586  [38400/60000]\n",
            "loss: 1.069253  [44800/60000]\n",
            "loss: 0.931780  [51200/60000]\n",
            "loss: 0.870041  [57600/60000]\n",
            "Test Error: \n",
            " Accuracy: 72.6%, Avg loss: 0.883997 \n",
            "\n",
            "Epoch 5\n",
            "-------------------------------\n",
            "loss: 0.879890  [    0/60000]\n",
            "loss: 0.879012  [ 6400/60000]\n",
            "loss: 0.698039  [12800/60000]\n",
            "loss: 0.916049  [19200/60000]\n",
            "loss: 0.756366  [25600/60000]\n",
            "loss: 0.972233  [32000/60000]\n",
            "loss: 0.922467  [38400/60000]\n",
            "loss: 1.061004  [44800/60000]\n",
            "loss: 0.919120  [51200/60000]\n",
            "loss: 0.856462  [57600/60000]\n",
            "Test Error: \n",
            " Accuracy: 73.1%, Avg loss: 0.870372 \n",
            "\n",
            "Epoch 6\n",
            "-------------------------------\n",
            "loss: 0.860900  [    0/60000]\n",
            "loss: 0.863461  [ 6400/60000]\n",
            "loss: 0.681988  [12800/60000]\n",
            "loss: 0.903591  [19200/60000]\n",
            "loss: 0.746495  [25600/60000]\n",
            "loss: 0.960951  [32000/60000]\n",
            "loss: 0.907610  [38400/60000]\n",
            "loss: 1.054134  [44800/60000]\n",
            "loss: 0.908265  [51200/60000]\n",
            "loss: 0.844212  [57600/60000]\n",
            "Test Error: \n",
            " Accuracy: 73.4%, Avg loss: 0.858079 \n",
            "\n",
            "Epoch 7\n",
            "-------------------------------\n",
            "loss: 0.843755  [    0/60000]\n",
            "loss: 0.849264  [ 6400/60000]\n",
            "loss: 0.667590  [12800/60000]\n",
            "loss: 0.892264  [19200/60000]\n",
            "loss: 0.737781  [25600/60000]\n",
            "loss: 0.951054  [32000/60000]\n",
            "loss: 0.894021  [38400/60000]\n",
            "loss: 1.048413  [44800/60000]\n",
            "loss: 0.899094  [51200/60000]\n",
            "loss: 0.832974  [57600/60000]\n",
            "Test Error: \n",
            " Accuracy: 73.7%, Avg loss: 0.846954 \n",
            "\n",
            "Epoch 8\n",
            "-------------------------------\n",
            "loss: 0.828320  [    0/60000]\n",
            "loss: 0.836198  [ 6400/60000]\n",
            "loss: 0.654734  [12800/60000]\n",
            "loss: 0.881977  [19200/60000]\n",
            "loss: 0.729753  [25600/60000]\n",
            "loss: 0.942529  [32000/60000]\n",
            "loss: 0.881477  [38400/60000]\n",
            "loss: 1.043660  [44800/60000]\n",
            "loss: 0.891166  [51200/60000]\n",
            "loss: 0.822363  [57600/60000]\n",
            "Test Error: \n",
            " Accuracy: 73.9%, Avg loss: 0.836828 \n",
            "\n",
            "Epoch 9\n",
            "-------------------------------\n",
            "loss: 0.814401  [    0/60000]\n",
            "loss: 0.824236  [ 6400/60000]\n",
            "loss: 0.643125  [12800/60000]\n",
            "loss: 0.872418  [19200/60000]\n",
            "loss: 0.722308  [25600/60000]\n",
            "loss: 0.934818  [32000/60000]\n",
            "loss: 0.870090  [38400/60000]\n",
            "loss: 1.039887  [44800/60000]\n",
            "loss: 0.884454  [51200/60000]\n",
            "loss: 0.812690  [57600/60000]\n",
            "Test Error: \n",
            " Accuracy: 74.2%, Avg loss: 0.827596 \n",
            "\n",
            "Epoch 10\n",
            "-------------------------------\n",
            "loss: 0.801819  [    0/60000]\n",
            "loss: 0.813308  [ 6400/60000]\n",
            "loss: 0.632561  [12800/60000]\n",
            "loss: 0.863642  [19200/60000]\n",
            "loss: 0.715752  [25600/60000]\n",
            "loss: 0.927525  [32000/60000]\n",
            "loss: 0.859526  [38400/60000]\n",
            "loss: 1.036566  [44800/60000]\n",
            "loss: 0.878584  [51200/60000]\n",
            "loss: 0.803607  [57600/60000]\n",
            "Test Error: \n",
            " Accuracy: 74.4%, Avg loss: 0.819130 \n",
            "\n",
            "Epoch 11\n",
            "-------------------------------\n",
            "loss: 0.790276  [    0/60000]\n",
            "loss: 0.803180  [ 6400/60000]\n",
            "loss: 0.622878  [12800/60000]\n",
            "loss: 0.855452  [19200/60000]\n",
            "loss: 0.709416  [25600/60000]\n",
            "loss: 0.921037  [32000/60000]\n",
            "loss: 0.849779  [38400/60000]\n",
            "loss: 1.033769  [44800/60000]\n",
            "loss: 0.873790  [51200/60000]\n",
            "loss: 0.795197  [57600/60000]\n",
            "Test Error: \n",
            " Accuracy: 74.4%, Avg loss: 0.811335 \n",
            "\n",
            "Epoch 12\n",
            "-------------------------------\n",
            "loss: 0.779567  [    0/60000]\n",
            "loss: 0.793851  [ 6400/60000]\n",
            "loss: 0.614039  [12800/60000]\n",
            "loss: 0.847894  [19200/60000]\n",
            "loss: 0.703363  [25600/60000]\n",
            "loss: 0.915328  [32000/60000]\n",
            "loss: 0.840829  [38400/60000]\n",
            "loss: 1.030872  [44800/60000]\n",
            "loss: 0.869486  [51200/60000]\n",
            "loss: 0.787388  [57600/60000]\n",
            "Test Error: \n",
            " Accuracy: 74.6%, Avg loss: 0.804140 \n",
            "\n",
            "Epoch 13\n",
            "-------------------------------\n",
            "loss: 0.769601  [    0/60000]\n",
            "loss: 0.785181  [ 6400/60000]\n",
            "loss: 0.605920  [12800/60000]\n",
            "loss: 0.840713  [19200/60000]\n",
            "loss: 0.697647  [25600/60000]\n",
            "loss: 0.909887  [32000/60000]\n",
            "loss: 0.832673  [38400/60000]\n",
            "loss: 1.028341  [44800/60000]\n",
            "loss: 0.865375  [51200/60000]\n",
            "loss: 0.780004  [57600/60000]\n",
            "Test Error: \n",
            " Accuracy: 74.9%, Avg loss: 0.797447 \n",
            "\n",
            "Epoch 14\n",
            "-------------------------------\n",
            "loss: 0.760255  [    0/60000]\n",
            "loss: 0.777246  [ 6400/60000]\n",
            "loss: 0.598298  [12800/60000]\n",
            "loss: 0.833928  [19200/60000]\n",
            "loss: 0.692162  [25600/60000]\n",
            "loss: 0.904696  [32000/60000]\n",
            "loss: 0.825059  [38400/60000]\n",
            "loss: 1.026225  [44800/60000]\n",
            "loss: 0.861645  [51200/60000]\n",
            "loss: 0.772987  [57600/60000]\n",
            "Test Error: \n",
            " Accuracy: 75.1%, Avg loss: 0.791244 \n",
            "\n",
            "Epoch 15\n",
            "-------------------------------\n",
            "loss: 0.751671  [    0/60000]\n",
            "loss: 0.769920  [ 6400/60000]\n",
            "loss: 0.591359  [12800/60000]\n",
            "loss: 0.827586  [19200/60000]\n",
            "loss: 0.687178  [25600/60000]\n",
            "loss: 0.899772  [32000/60000]\n",
            "loss: 0.818097  [38400/60000]\n",
            "loss: 1.024416  [44800/60000]\n",
            "loss: 0.858348  [51200/60000]\n",
            "loss: 0.766230  [57600/60000]\n",
            "Test Error: \n",
            " Accuracy: 75.2%, Avg loss: 0.785454 \n",
            "\n",
            "Epoch 16\n",
            "-------------------------------\n",
            "loss: 0.743546  [    0/60000]\n",
            "loss: 0.763043  [ 6400/60000]\n",
            "loss: 0.584705  [12800/60000]\n",
            "loss: 0.821550  [19200/60000]\n",
            "loss: 0.682431  [25600/60000]\n",
            "loss: 0.895141  [32000/60000]\n",
            "loss: 0.811691  [38400/60000]\n",
            "loss: 1.022729  [44800/60000]\n",
            "loss: 0.855551  [51200/60000]\n",
            "loss: 0.759726  [57600/60000]\n",
            "Test Error: \n",
            " Accuracy: 75.4%, Avg loss: 0.780048 \n",
            "\n",
            "Epoch 17\n",
            "-------------------------------\n",
            "loss: 0.735907  [    0/60000]\n",
            "loss: 0.756730  [ 6400/60000]\n",
            "loss: 0.578533  [12800/60000]\n",
            "loss: 0.815899  [19200/60000]\n",
            "loss: 0.677685  [25600/60000]\n",
            "loss: 0.890542  [32000/60000]\n",
            "loss: 0.805652  [38400/60000]\n",
            "loss: 1.021249  [44800/60000]\n",
            "loss: 0.853000  [51200/60000]\n",
            "loss: 0.753510  [57600/60000]\n",
            "Test Error: \n",
            " Accuracy: 75.4%, Avg loss: 0.774990 \n",
            "\n",
            "Epoch 18\n",
            "-------------------------------\n",
            "loss: 0.728730  [    0/60000]\n",
            "loss: 0.750897  [ 6400/60000]\n",
            "loss: 0.572623  [12800/60000]\n",
            "loss: 0.810377  [19200/60000]\n",
            "loss: 0.673134  [25600/60000]\n",
            "loss: 0.886403  [32000/60000]\n",
            "loss: 0.800073  [38400/60000]\n",
            "loss: 1.019775  [44800/60000]\n",
            "loss: 0.850771  [51200/60000]\n",
            "loss: 0.747466  [57600/60000]\n",
            "Test Error: \n",
            " Accuracy: 75.6%, Avg loss: 0.770230 \n",
            "\n",
            "Epoch 19\n",
            "-------------------------------\n",
            "loss: 0.722041  [    0/60000]\n",
            "loss: 0.745396  [ 6400/60000]\n",
            "loss: 0.567148  [12800/60000]\n",
            "loss: 0.805220  [19200/60000]\n",
            "loss: 0.668811  [25600/60000]\n",
            "loss: 0.882229  [32000/60000]\n",
            "loss: 0.794768  [38400/60000]\n",
            "loss: 1.018438  [44800/60000]\n",
            "loss: 0.848411  [51200/60000]\n",
            "loss: 0.741644  [57600/60000]\n",
            "Test Error: \n",
            " Accuracy: 75.7%, Avg loss: 0.765755 \n",
            "\n",
            "Epoch 20\n",
            "-------------------------------\n",
            "loss: 0.715643  [    0/60000]\n",
            "loss: 0.740444  [ 6400/60000]\n",
            "loss: 0.562085  [12800/60000]\n",
            "loss: 0.800262  [19200/60000]\n",
            "loss: 0.664462  [25600/60000]\n",
            "loss: 0.877968  [32000/60000]\n",
            "loss: 0.789764  [38400/60000]\n",
            "loss: 1.017286  [44800/60000]\n",
            "loss: 0.846678  [51200/60000]\n",
            "loss: 0.736023  [57600/60000]\n",
            "Test Error: \n",
            " Accuracy: 75.8%, Avg loss: 0.761528 \n",
            "\n",
            "Done!\n"
          ],
          "name": "stdout"
        }
      ]
    },
    {
      "cell_type": "markdown",
      "metadata": {
        "id": "FZcEe-ac1mYA"
      },
      "source": [
        "### Saving Models"
      ]
    },
    {
      "cell_type": "code",
      "metadata": {
        "colab": {
          "base_uri": "https://localhost:8080/"
        },
        "id": "roEvXuAi1d-8",
        "outputId": "5134a66c-68f8-4e24-e7a0-023e92a0e8e6"
      },
      "source": [
        "torch.save(model.state_dict(), \"model.pth\")\n",
        "print(\"Saved PyTorch Model State to model.pth\")"
      ],
      "execution_count": 55,
      "outputs": [
        {
          "output_type": "stream",
          "text": [
            "Saved PyTorch Model State to model.pth\n"
          ],
          "name": "stdout"
        }
      ]
    },
    {
      "cell_type": "markdown",
      "metadata": {
        "id": "Ag0Ri4Xu1ujm"
      },
      "source": [
        "### Loading Models\n",
        "The process for loading a model includes re-creating the model structure and loading the state dictionary into it."
      ]
    },
    {
      "cell_type": "code",
      "metadata": {
        "colab": {
          "base_uri": "https://localhost:8080/"
        },
        "id": "Sl-VZbtr1sFU",
        "outputId": "d013d603-92b4-4bf5-92e1-4dab57cf1a6c"
      },
      "source": [
        "model = NeuralNetwork()\n",
        "model.load_state_dict(torch.load(\"model.pth\"))"
      ],
      "execution_count": 56,
      "outputs": [
        {
          "output_type": "execute_result",
          "data": {
            "text/plain": [
              "<All keys matched successfully>"
            ]
          },
          "metadata": {},
          "execution_count": 56
        }
      ]
    },
    {
      "cell_type": "markdown",
      "metadata": {
        "id": "Z23W2M1e10G7"
      },
      "source": [
        "This model can now be used to make predictions."
      ]
    },
    {
      "cell_type": "code",
      "metadata": {
        "colab": {
          "base_uri": "https://localhost:8080/"
        },
        "id": "EGlg1BWU1x7a",
        "outputId": "a6114355-8d87-4832-bac3-54764a5bf870"
      },
      "source": [
        "classes = [\n",
        "    \"T-shirt/top\",\n",
        "    \"Trouser\",\n",
        "    \"Pullover\",\n",
        "    \"Dress\",\n",
        "    \"Coat\",\n",
        "    \"Sandal\",\n",
        "    \"Shirt\",\n",
        "    \"Sneaker\",\n",
        "    \"Bag\",\n",
        "    \"Ankle boot\",\n",
        "]\n",
        "\n",
        "model.eval()\n",
        "x, y = test_data[0][0], test_data[0][1]\n",
        "with torch.no_grad():\n",
        "    pred = model(x)\n",
        "    predicted, actual = classes[pred[0].argmax(0)], classes[y]\n",
        "    print(f'Predicted: \"{predicted}\", Actual: \"{actual}\"')"
      ],
      "execution_count": 57,
      "outputs": [
        {
          "output_type": "stream",
          "text": [
            "Predicted: \"Ankle boot\", Actual: \"Ankle boot\"\n"
          ],
          "name": "stdout"
        }
      ]
    },
    {
      "cell_type": "code",
      "metadata": {
        "id": "QXHlIege112a"
      },
      "source": [
        ""
      ],
      "execution_count": 48,
      "outputs": []
    }
  ]
}